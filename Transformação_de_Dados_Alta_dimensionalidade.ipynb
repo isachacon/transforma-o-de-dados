{
 "cells": [
  {
   "cell_type": "markdown",
   "id": "aa43d659",
   "metadata": {},
   "source": [
    "# Alta Dimensionalidade na Clusterização Não Hierárquica"
   ]
  },
  {
   "cell_type": "markdown",
   "id": "a76cd4ca",
   "metadata": {},
   "source": [
    "Alta Dimensionalidade no contexto da aplicação em Modelos de Agrupamento.\n",
    "\n",
    "Autora: Isabelle Chacon"
   ]
  },
  {
   "cell_type": "markdown",
   "id": "8c7d4d6c",
   "metadata": {},
   "source": [
    "## Introdução Geral"
   ]
  },
  {
   "cell_type": "markdown",
   "id": "bd2d3029",
   "metadata": {},
   "source": [
    "Este projeto tem o intuito de explorar o problema da Alta Dimensionalidade, e quais técnicas de Transformação de Dados podem ser usadas para trabalhá-lo. "
   ]
  },
  {
   "cell_type": "markdown",
   "id": "39d7d162",
   "metadata": {
    "heading_collapsed": true
   },
   "source": [
    "### Fonte dos Dados"
   ]
  },
  {
   "cell_type": "markdown",
   "id": "2733d057",
   "metadata": {
    "hidden": true
   },
   "source": [
    "Fonte intermediária dos dados: \n",
    "* European Soccer Database: https://www.kaggle.com/hugomathien/soccer\n",
    "\n",
    "Original Data Source:\n",
    "* http://football-data.mx-api.enetscores.com/ : scores, lineup, team formation and events\n",
    "* http://www.football-data.co.uk/ : betting odds. Click here (http://www.football-data.co.uk/notes.txt) to understand the column naming system for betting odds:\n",
    "* http://sofifa.com/ : players and teams attributes from EA Sports FIFA games. FIFA series and all FIFA assets property of EA Sports."
   ]
  },
  {
   "cell_type": "markdown",
   "id": "91300f16",
   "metadata": {},
   "source": [
    "## Introdução Teórica"
   ]
  },
  {
   "cell_type": "markdown",
   "id": "331b5ee6",
   "metadata": {},
   "source": [
    "### Transformação de Escala"
   ]
  },
  {
   "cell_type": "markdown",
   "id": "765636d3",
   "metadata": {},
   "source": [
    "Existem transformações de dados de diversos tipos, podendo ser uma **agregação** em termos de uma medida, **categorização de intervalos de classes**, discretização, ou até a **geração de novos atributos**. Além destes, também existem transformações que não afetam a quantidade final de variáveis do dataset, porém continuam sendo de vital importância para uma boa modelagem do sistema, sendo as mais conhecidas as **transformações de escala, normalização e padronização**. Esse grupo de transformações atua na incompatibilidade das unidades de medida (POCO, FGV), evitando que, tanto algoritmos que automatizam certas transformações de dados (como o PCA), quanto algoritmos de Aprendizagem de Máquina, privilegiem os atributos de **maior ordem de grandeza** em detrimento dos de **menor ordem de grandeza**. \n",
    "Segundo a documentação do Scikit-learn (Preprocessing data) muitos procedimentos internos usados na **função objetivo** de diversos **algoritmos de aprendizado** (como RBF Kernel ou Support Vector Machines) partem da premissa que todos os dados estão **centrados em torno de zero** e com **variância na mesma ordem de grandeza**, pois caso os dados estejam em magnitudes muito distoantes, as variáveis com uma escala maior podem dominar a função objetivo e fazer com que o estimados deixe de aprender sobre os outros atributos.\n",
    "\n",
    "Neste projeto, decidiu-se aplicar a técnica de **Transformação de Escala** baseada em **Interquartis** Robust Scaler, pois tanto a técnica de **Normalização** quanto a técnica de **Padronização** presumem que os dados assumem uma **Distribuição Normal** de Probabilidade (por usarem, respectivamente, a medida de tendência central Média e o Desvio-padrão para seus cálculos), e devido a alta dimensionalidade da base é inviável realizar **testes estatísticos** que **verifiquem esta hipótese**. Já a técnica baseada em **Mínimos e Máximos**, por ser calculado em termos do valor mínimo e máximo de cada variável, também possui a desvantagem de ser **sensível a Outliers**. Portanto, o **Robust Scaler** foi escolhido como uma alternativa que diminuiu a necessidade do tratamento de outliers, por se basear no primeiro e terceiro quartis para seu cálculo. \n",
    "\n",
    "Além das transformações supracitadas, temos aquelas aplicadas ao tratamento da Alta Dimensionalidade, o alvo deste estudo, que será abordado na próxima sessão. "
   ]
  },
  {
   "cell_type": "markdown",
   "id": "17ea6059",
   "metadata": {},
   "source": [
    "### PCA - Análise de Componentes Principais"
   ]
  },
  {
   "cell_type": "markdown",
   "id": "ff1d370e",
   "metadata": {
    "ExecuteTime": {
     "end_time": "2022-02-13T13:39:25.963648Z",
     "start_time": "2022-02-13T13:39:25.957643Z"
    }
   },
   "source": [
    "Uma vez que temos um **sistema complexo** para modelar (as partidas de futebol), por mais que tenhamos inicialmente preservado o máximo de informações possíveis do dataset, não necessariamente o **Algoritmo de Aprendizagem de Máquina** possui a capacidade de modelar este sistema, uma vez que esta capacidade é determinada pelo **limite computacional** de seu **Algoritmo de Iteração**.\n",
    "\n",
    "Por isso, faz-se necessário a **priorização das variáveis** verdadeiramente **representativas** pro fenômeno. De certa forma, esta tarefa já foi realizada, em algum grau, de forma manual, todas as vezes que foram feitas filtragens no **eixo das colunas** na fase de **Pré-processamento**, e também na seleção de features justificada por sua Estatística Descritiva (a **Feature Selection** feita ao desconsiderar Variáveis sem **Variabilidade** e Variáveis com **Redundância**).\n",
    "\n",
    "Entretanto, tal seleção manual empregada até então é por si só limitada, pois não contém um **método genérico e automatizado** que aplique uma **definição rigorosa** sobre o que torna uma variável representativa ou não. Desta forma, é neste contexto que surge a técnica de **Análise de Componentes Principais PCA**, pois ela parte da premissa de que uma variável representativa é aquela que possui a **maior variabilidade em relação as outras**. Apartir disto, está técnica não só seleciona estas colunas ditas representativas, como transforma as variáveis não representativas de maneira a **expressar sua informação** de variação **em termos das componentes principais**. \n",
    "\n",
    "Em termos da **Geometria Analítica**, cada evento do dataset é interpretado como um **vetor num espaço vetorial**, definido como um segmento de reta orientado (que pode ser interpretado como deslocamento) partindo do ponto inicial centrado na Origem **O** (Ex:. **0 = (0, 0) no R²**), em direção ao ponto final definido pelas informações de cada observação, com suas **coordenadas do vértice** dadas pelo valor que assume em cada atributo (LEDESMA, 2021, p.65-66), e cada **atributo sendo um eixo de dimensão** deste espaço de **coordenadas cartesianas**. \n",
    "\n",
    "Para vetores não nulos, é possível realizar a **Projeção Ortogonal** de um evento sobre outro (JAHN), reescrevendo uma mesma observação em termos de outras **bases**, ou seja **decompor um vetor** qualquer na direção de outro (não apenas em termos da **base canônica**), pela **combinação linear** de novas componentes, sendo que a primeira componente deve ser **paralela** e a segunda deve ser **ortogonal** ao vetor original.\n",
    "\n",
    "Neste processo, quando o valor dos coeficientes (compenentes escalares) resulta num número próximo a zero, significa que os vetores originas tendem a ter um **alinhamento em suas direções**, o que só é possível quando eles tendem a formar um **Conjunto LD** (Linearmente Dependente). \n",
    "No contexto da **Análise de Dados**, um vetor alinhado com a direção em que os próprios dados variam, significa um vetor que **expressa a maior parte da informação** que representa o fenômeno.\n",
    "\n",
    "Segundo Jorge Poco (FGV) o PCA visa portanto, identificar um conjunto de componentes vetoriais que estejam o máximo possível alinhados com a direção de maior variação dos dados, permitindo:\n",
    "* A representação do sistema por meio de um conjunto menor de variáveis, uma vez que os vetores com coeficientes próximos de zero podem ser desconsiderados por indicarem redunância de informação;\n",
    "* A visualização de dados em duas direções principais (uma vez que duas dimensões são melhor interpretadas pelo ser humano);\n",
    "* O uso dos coeficientes escalares, associados aos vetores mais representativos, no lugar das variáveis originais.\n",
    "\n",
    "Algo interessante de se observar é que, devido a **natureza contínua** da maioria das **grandezas** da natureza, ao efeito do **erro aleatório** nos **sistemas de medida** (Efeito do Observador sobre quaisquer experimentos), e outros fatores externos envolvido em toda **pipeline da geração de dados**, é extremamente improvável que um conjunto de dados reais seja Linearmente Dependente de forma precisa. Isso possibilita que todas as **operações algébricas**, atribuídas para **a definição de independência linear**, possam ser aplicadas diretamente em dados reais, sem a necessidade de trabalhar, por exemplo, com o conceito Limite para se estudar o comportamento dos dados."
   ]
  },
  {
   "cell_type": "markdown",
   "id": "97f8d18d",
   "metadata": {},
   "source": [
    "### Referências Bibliográficas"
   ]
  },
  {
   "cell_type": "markdown",
   "id": "ed70c61a",
   "metadata": {},
   "source": [
    "JAHN, A. P. **Projeção Ortogonal de Vetores**. Instituto de Matemática e Estatística(IME), Universidade de São Paulo, São Paulo, SP. Disponível em: < https://edisciplinas.usp.br/pluginfile.php/5447649/mod_resource/content/1/MAT105_Projecao_Vetor.pdf >. Acesso em: 15 de fev. de 2022.\n",
    "\n",
    "LEDESMA, D. S. **Apostila de Geometria Analítica:** Notas de Aula com Exercícios Resolvidos. Instituto de Matemática, Estatística e Computação Científica (IME), Universidade Estadual de Campinas, Campinas, SP, 28 de nov. de 2021. Disponível em: < http://www.ime.unicamp.br/~dledesma/disciplinasministradas/apostilas/Apostila-GA.pdf >. Acesso em: 15 de fev. de 2022.\n",
    "\n",
    "POCO, J. **Análise de Componentes Principais**.  Apostila recebida no curso autoinstrucional Introdução à Ciência de Dados. Escola de Matemática Aplicada da Fundação Getulio Vargas, Rio de Janeiro, RJ. Disponível em: < https://nc-www5.fgv.br/cursosgratuitos/cg/OCWICDEAD/base_rede/pag/assets/Videoaula_11_M4_Analise_de_coponentes_principais_revisto.pdf >. Acesso em: 15 de fev. de 2022.\n",
    "\n",
    "POCO, J. **Métodos matemáticos e computacionais**.  Apostila recebida no curso autoinstrucional Introdução à Ciência de Dados. Escola de Matemática Aplicada da Fundação Getulio Vargas, Rio de Janeiro, RJ. Disponível em: < https://nc-www5.fgv.br/cursosgratuitos/cg/OCWICDEAD/base_rede/pag/assets/Videoaula_10_M4_Tratamento_e_transformacao_de_dados_revisto_revisto.pdf >. Acesso em: 15 de fev. de 2022. \n",
    "\n",
    "\n",
    "   **Outras Referências:**\n",
    "   \n",
    "LEDESMA, D. S. **Apostila de Geometria Analítica:** Notas de Aula com Exercícios Resolvidos. Creative Writing. Instituto de Matemática, Estatística e Computação Científica (IME), Universidade Estadual de Campinas, Campinas, SP, 28 de nov. de 2021.\n",
    "\n",
    "SCIKIT-learn: **Machine Learning in Python**: Decomposition PCA, Pedregosa et al., JMLR 12, pp. 2825-2830, 2011. Disponível em: < https://scikit-learn.org/stable/modules/generated/sklearn.decomposition.PCA.html > Acesso em: 10/02/2022.\n",
    "\n",
    "SCIKIT-learn: **Machine Learning in Python**: Preprocessing data, Pedregosa et al., JMLR 12, pp. 2825-2830, 2011. Disponível em: < https://scikit-learn.org/stable/modules/preprocessing.html#preprocessing-scaler > Acesso em: 13/02/2022."
   ]
  },
  {
   "cell_type": "markdown",
   "id": "f97f2691",
   "metadata": {
    "heading_collapsed": true
   },
   "source": [
    "## Importação das Bibliotecas"
   ]
  },
  {
   "cell_type": "code",
   "execution_count": 1,
   "id": "f2a5f9b1",
   "metadata": {
    "ExecuteTime": {
     "end_time": "2022-02-17T18:26:06.703454Z",
     "start_time": "2022-02-17T18:26:00.587751Z"
    },
    "hidden": true
   },
   "outputs": [
    {
     "name": "stdout",
     "output_type": "stream",
     "text": [
      "Collecting pyinform\n",
      "  Downloading pyinform-0.2.0-py3-none-any.whl (131 kB)\n",
      "Requirement already satisfied: numpy in c:\\users\\51048723\\anaconda3\\lib\\site-packages (from pyinform) (1.20.3)\n",
      "Installing collected packages: pyinform\n",
      "Successfully installed pyinform-0.2.0\n"
     ]
    }
   ],
   "source": [
    "!pip install pyinform"
   ]
  },
  {
   "cell_type": "code",
   "execution_count": 2,
   "id": "267f3a54",
   "metadata": {
    "ExecuteTime": {
     "end_time": "2022-02-17T18:26:12.604654Z",
     "start_time": "2022-02-17T18:26:06.706452Z"
    },
    "hidden": true
   },
   "outputs": [],
   "source": [
    "#Bibliotecas utilizadas na manipulação geral dos dados\n",
    "import pandas as pd \n",
    "import numpy as np\n",
    "import math\n",
    "\n",
    "#Biblioteca para informar o progresso da execução das células\n",
    "from tqdm.notebook import tqdm as tqdm\n",
    "\n",
    "#Biblioteca para manipular dados no formato de data\n",
    "from datetime import date\n",
    "\n",
    "#Bibliotecas para a visualização gráfica dos dados\n",
    "from matplotlib import pyplot as plt\n",
    "from matplotlib import gridspec\n",
    "import seaborn as sb\n",
    "\n",
    "#Bibliotecas usadas para a manipulação de Dados Semiestruturados\n",
    "import pprint as pp\n",
    "from xml.dom.minidom import parseString, Document, Element, Text, Node, DOMImplementation\n",
    "\n",
    "#Bibliotecas usadas para Modelagem e Avaliação do Método de agrupamento kmeans\n",
    "from sklearn.cluster import KMeans\n",
    "from sklearn import metrics as me \n",
    "\n",
    "#Bibliotecas usadas para Transformação dos Dados\n",
    "from sklearn.preprocessing import RobustScaler\n",
    "from sklearn.manifold import TSNE \n",
    "from sklearn.decomposition import PCA\n",
    "\n",
    "#Bibliotecas usadas para Cálculo da Entropia\n",
    "from pyinform.shannon import entropy"
   ]
  },
  {
   "cell_type": "markdown",
   "id": "cdad13d5",
   "metadata": {
    "hidden": true
   },
   "source": [
    "  "
   ]
  },
  {
   "cell_type": "markdown",
   "id": "fe5f3a4a",
   "metadata": {
    "heading_collapsed": true
   },
   "source": [
    "## Pré-Processamento dos Dados"
   ]
  },
  {
   "cell_type": "markdown",
   "id": "1034346f",
   "metadata": {
    "hidden": true
   },
   "source": [
    "O processamento realizado abaixo tem como o objetivo a criação de um Dataset único que preserve o máximo de informações possíveis sobre o fenômeno analisado, com ênfase no **tratamento de dados faltantes**. Esta abordagem, **propositalmente**, resultará na **Alta Dimensionalidade**, um dos desafios da aplicação de Modelos de  Machine Learning, uma vez que gerará **aumento da complexidade do sistema**, podendo causar **super-ajuste** (Overfitting) do modelo aos dados de treinamento, e também **demandar** uma quantidade considerável de **recursos computacionais**(referenciar).\n",
    "\n",
    "Assim, como o intuito geral do projeto é a exploração da **degradação da performance** do modelo a medida que são feitas as **manipulações das variáveis**, forçar ainda mais a Alta Dimensionalidade no Dataset desde o início, irá fornecer um **contraste** maior quando as técnicas de **Transformação de Dados e Feature Engineering** forem aplicadas."
   ]
  },
  {
   "cell_type": "markdown",
   "id": "906c2af6",
   "metadata": {
    "heading_collapsed": true,
    "hidden": true
   },
   "source": [
    "### Carregamento e Manipulação"
   ]
  },
  {
   "cell_type": "markdown",
   "id": "613d72b1",
   "metadata": {
    "heading_collapsed": true,
    "hidden": true
   },
   "source": [
    "#### Dataset Match"
   ]
  },
  {
   "cell_type": "markdown",
   "id": "fcad6f3a",
   "metadata": {
    "hidden": true
   },
   "source": [
    "Interpretação do Dicionário de Dados"
   ]
  },
  {
   "cell_type": "code",
   "execution_count": 3,
   "id": "72b3c844",
   "metadata": {
    "ExecuteTime": {
     "end_time": "2022-02-17T18:26:12.620664Z",
     "start_time": "2022-02-17T18:26:12.608813Z"
    },
    "hidden": true,
    "hide_input": true
   },
   "outputs": [
    {
     "name": "stdout",
     "output_type": "stream",
     "text": [
      "\n",
      "OBS: Esta interpretação dos dados teve como limitante meu baixo conhecimento sobre o contexto de \"negócio\" \n",
      "dos dados analisados, portanto não pode ser considerada assertiva.\n",
      "\n",
      "    INTERPRETAÇÃO PESSOAL:\n",
      "- HTHG = Coluna home_team_goal = Gols do time da casa \n",
      "- HTAG = Coluna away_team_goal = Gols do time fora da casa \n",
      "- Colunas com prefixo \"home_player_X\" e \"away_player_X\" variando de 1 a 11, correspondem a...:\n",
      "Coordenadas da posição do jogador no eixo x.\n",
      "- Colunas com prefixo \"home_player_Y\" e \"away_player_Y\" variando de 1 a 11, correspondem a...:\n",
      "Coordenadas da posição do jogador no eixo Y.\n",
      "- Colunas com prefixo \"home_player_\" e \"away_player_\" variando de 1 a 11, correspondem a...:\n",
      "Código identificador do jogador em quadra (player_api_id).\n",
      "\n",
      "    DICIONÁRIO OFICIAL DOS DADOS DE PROBABILIDADE DAS APOSTAS 1x2:\n",
      "B365H = probabilidades de vitória em casa Bet365 \n",
      "B365H = Bet365 home win odds\n",
      "B365D = Bet365 draw odds\n",
      "B365A = Bet365 away win odds\n",
      "BSH = Blue Square home win odds\n",
      "BSD = Blue Square draw odds\n",
      "BSA = Blue Square away win odds\n",
      "BWH = Bet&Win home win odds\n",
      "BWD = Bet&Win draw odds\n",
      "BWA = Bet&Win away win odds\n",
      "GBH = Gamebookers home win odds\n",
      "GBD = Gamebookers draw odds\n",
      "GBA = Gamebookers away win odds\n",
      "IWH = Interwetten home win odds\n",
      "IWD = Interwetten draw odds\n",
      "IWA = Interwetten away win odds\n",
      "LBH = Ladbrokes home win odds\n",
      "LBD = Ladbrokes draw odds\n",
      "LBA = Ladbrokes away win odds\n",
      "PSH and PH = Pinnacle home win odds\n",
      "PSD and PD = Pinnacle draw odds\n",
      "PSA and PA = Pinnacle away win odds\n",
      "SOH = Sporting Odds home win odds\n",
      "SOD = Sporting Odds draw odds\n",
      "SOA = Sporting Odds away win odds\n",
      "SBH = Sportingbet home win odds\n",
      "SBD = Sportingbet draw odds\n",
      "SBA = Sportingbet away win odds\n",
      "SJH = Stan James home win odds\n",
      "SJD = Stan James draw odds\n",
      "SJA = Stan James away win odds\n",
      "SYH = Stanleybet home win odds\n",
      "SYD = Stanleybet draw odds\n",
      "SYA = Stanleybet away win odds\n",
      "VCH = VC Bet home win odds\n",
      "VCD = VC Bet draw odds\n",
      "VCA = VC Bet away win odds\n",
      "WHH = William Hill home win odds\n",
      "WHD = William Hill draw odds\n",
      "WHA = William Hill away win odds\n",
      "\n"
     ]
    }
   ],
   "source": [
    "print(\"\"\"\n",
    "OBS: Esta interpretação dos dados teve como limitante meu baixo conhecimento sobre o contexto de \"negócio\" \n",
    "dos dados analisados, portanto não pode ser considerada assertiva.\n",
    "\n",
    "    INTERPRETAÇÃO PESSOAL:\n",
    "- HTHG = Coluna home_team_goal = Gols do time da casa \n",
    "- HTAG = Coluna away_team_goal = Gols do time fora da casa \n",
    "- Colunas com prefixo \"home_player_X\" e \"away_player_X\" variando de 1 a 11, correspondem a...:\n",
    "Coordenadas da posição do jogador no eixo x.\n",
    "- Colunas com prefixo \"home_player_Y\" e \"away_player_Y\" variando de 1 a 11, correspondem a...:\n",
    "Coordenadas da posição do jogador no eixo Y.\n",
    "- Colunas com prefixo \"home_player_\" e \"away_player_\" variando de 1 a 11, correspondem a...:\n",
    "Código identificador do jogador em quadra (player_api_id).\n",
    "\n",
    "    DICIONÁRIO OFICIAL DOS DADOS DE PROBABILIDADE DAS APOSTAS 1x2:\n",
    "B365H = probabilidades de vitória em casa Bet365 \n",
    "B365H = Bet365 home win odds\n",
    "B365D = Bet365 draw odds\n",
    "B365A = Bet365 away win odds\n",
    "BSH = Blue Square home win odds\n",
    "BSD = Blue Square draw odds\n",
    "BSA = Blue Square away win odds\n",
    "BWH = Bet&Win home win odds\n",
    "BWD = Bet&Win draw odds\n",
    "BWA = Bet&Win away win odds\n",
    "GBH = Gamebookers home win odds\n",
    "GBD = Gamebookers draw odds\n",
    "GBA = Gamebookers away win odds\n",
    "IWH = Interwetten home win odds\n",
    "IWD = Interwetten draw odds\n",
    "IWA = Interwetten away win odds\n",
    "LBH = Ladbrokes home win odds\n",
    "LBD = Ladbrokes draw odds\n",
    "LBA = Ladbrokes away win odds\n",
    "PSH and PH = Pinnacle home win odds\n",
    "PSD and PD = Pinnacle draw odds\n",
    "PSA and PA = Pinnacle away win odds\n",
    "SOH = Sporting Odds home win odds\n",
    "SOD = Sporting Odds draw odds\n",
    "SOA = Sporting Odds away win odds\n",
    "SBH = Sportingbet home win odds\n",
    "SBD = Sportingbet draw odds\n",
    "SBA = Sportingbet away win odds\n",
    "SJH = Stan James home win odds\n",
    "SJD = Stan James draw odds\n",
    "SJA = Stan James away win odds\n",
    "SYH = Stanleybet home win odds\n",
    "SYD = Stanleybet draw odds\n",
    "SYA = Stanleybet away win odds\n",
    "VCH = VC Bet home win odds\n",
    "VCD = VC Bet draw odds\n",
    "VCA = VC Bet away win odds\n",
    "WHH = William Hill home win odds\n",
    "WHD = William Hill draw odds\n",
    "WHA = William Hill away win odds\n",
    "\"\"\")"
   ]
  },
  {
   "cell_type": "code",
   "execution_count": 4,
   "id": "2d478c11",
   "metadata": {
    "ExecuteTime": {
     "end_time": "2022-02-17T18:26:18.338730Z",
     "start_time": "2022-02-17T18:26:12.624351Z"
    },
    "hidden": true,
    "hide_input": false
   },
   "outputs": [],
   "source": [
    "df_match = pd.read_csv(\"match.csv\") #, nrows=5000)"
   ]
  },
  {
   "cell_type": "code",
   "execution_count": 5,
   "id": "116c69bc",
   "metadata": {
    "ExecuteTime": {
     "end_time": "2022-02-17T18:26:18.432549Z",
     "start_time": "2022-02-17T18:26:18.355720Z"
    },
    "hidden": true,
    "scrolled": false
   },
   "outputs": [
    {
     "data": {
      "text/html": [
       "<div>\n",
       "<style scoped>\n",
       "    .dataframe tbody tr th:only-of-type {\n",
       "        vertical-align: middle;\n",
       "    }\n",
       "\n",
       "    .dataframe tbody tr th {\n",
       "        vertical-align: top;\n",
       "    }\n",
       "\n",
       "    .dataframe thead th {\n",
       "        text-align: right;\n",
       "    }\n",
       "</style>\n",
       "<table border=\"1\" class=\"dataframe\">\n",
       "  <thead>\n",
       "    <tr style=\"text-align: right;\">\n",
       "      <th></th>\n",
       "      <th>id</th>\n",
       "      <th>country_id</th>\n",
       "      <th>league_id</th>\n",
       "      <th>season</th>\n",
       "      <th>stage</th>\n",
       "      <th>date</th>\n",
       "      <th>match_api_id</th>\n",
       "      <th>home_team_api_id</th>\n",
       "      <th>away_team_api_id</th>\n",
       "      <th>home_team_goal</th>\n",
       "      <th>...</th>\n",
       "      <th>SJA</th>\n",
       "      <th>VCH</th>\n",
       "      <th>VCD</th>\n",
       "      <th>VCA</th>\n",
       "      <th>GBH</th>\n",
       "      <th>GBD</th>\n",
       "      <th>GBA</th>\n",
       "      <th>BSH</th>\n",
       "      <th>BSD</th>\n",
       "      <th>BSA</th>\n",
       "    </tr>\n",
       "  </thead>\n",
       "  <tbody>\n",
       "    <tr>\n",
       "      <th>0</th>\n",
       "      <td>1</td>\n",
       "      <td>1</td>\n",
       "      <td>1</td>\n",
       "      <td>2008/2009</td>\n",
       "      <td>1</td>\n",
       "      <td>2008-08-17 00:00:00</td>\n",
       "      <td>492473</td>\n",
       "      <td>9987</td>\n",
       "      <td>9993</td>\n",
       "      <td>1</td>\n",
       "      <td>...</td>\n",
       "      <td>4.00</td>\n",
       "      <td>1.65</td>\n",
       "      <td>3.40</td>\n",
       "      <td>4.50</td>\n",
       "      <td>1.78</td>\n",
       "      <td>3.25</td>\n",
       "      <td>4.00</td>\n",
       "      <td>1.73</td>\n",
       "      <td>3.40</td>\n",
       "      <td>4.20</td>\n",
       "    </tr>\n",
       "    <tr>\n",
       "      <th>1</th>\n",
       "      <td>2</td>\n",
       "      <td>1</td>\n",
       "      <td>1</td>\n",
       "      <td>2008/2009</td>\n",
       "      <td>1</td>\n",
       "      <td>2008-08-16 00:00:00</td>\n",
       "      <td>492474</td>\n",
       "      <td>10000</td>\n",
       "      <td>9994</td>\n",
       "      <td>0</td>\n",
       "      <td>...</td>\n",
       "      <td>3.80</td>\n",
       "      <td>2.00</td>\n",
       "      <td>3.25</td>\n",
       "      <td>3.25</td>\n",
       "      <td>1.85</td>\n",
       "      <td>3.25</td>\n",
       "      <td>3.75</td>\n",
       "      <td>1.91</td>\n",
       "      <td>3.25</td>\n",
       "      <td>3.60</td>\n",
       "    </tr>\n",
       "    <tr>\n",
       "      <th>2</th>\n",
       "      <td>3</td>\n",
       "      <td>1</td>\n",
       "      <td>1</td>\n",
       "      <td>2008/2009</td>\n",
       "      <td>1</td>\n",
       "      <td>2008-08-16 00:00:00</td>\n",
       "      <td>492475</td>\n",
       "      <td>9984</td>\n",
       "      <td>8635</td>\n",
       "      <td>0</td>\n",
       "      <td>...</td>\n",
       "      <td>2.50</td>\n",
       "      <td>2.35</td>\n",
       "      <td>3.25</td>\n",
       "      <td>2.65</td>\n",
       "      <td>2.50</td>\n",
       "      <td>3.20</td>\n",
       "      <td>2.50</td>\n",
       "      <td>2.30</td>\n",
       "      <td>3.20</td>\n",
       "      <td>2.75</td>\n",
       "    </tr>\n",
       "    <tr>\n",
       "      <th>3</th>\n",
       "      <td>4</td>\n",
       "      <td>1</td>\n",
       "      <td>1</td>\n",
       "      <td>2008/2009</td>\n",
       "      <td>1</td>\n",
       "      <td>2008-08-17 00:00:00</td>\n",
       "      <td>492476</td>\n",
       "      <td>9991</td>\n",
       "      <td>9998</td>\n",
       "      <td>5</td>\n",
       "      <td>...</td>\n",
       "      <td>7.50</td>\n",
       "      <td>1.45</td>\n",
       "      <td>3.75</td>\n",
       "      <td>6.50</td>\n",
       "      <td>1.50</td>\n",
       "      <td>3.75</td>\n",
       "      <td>5.50</td>\n",
       "      <td>1.44</td>\n",
       "      <td>3.75</td>\n",
       "      <td>6.50</td>\n",
       "    </tr>\n",
       "    <tr>\n",
       "      <th>4</th>\n",
       "      <td>5</td>\n",
       "      <td>1</td>\n",
       "      <td>1</td>\n",
       "      <td>2008/2009</td>\n",
       "      <td>1</td>\n",
       "      <td>2008-08-16 00:00:00</td>\n",
       "      <td>492477</td>\n",
       "      <td>7947</td>\n",
       "      <td>9985</td>\n",
       "      <td>1</td>\n",
       "      <td>...</td>\n",
       "      <td>1.73</td>\n",
       "      <td>4.50</td>\n",
       "      <td>3.40</td>\n",
       "      <td>1.65</td>\n",
       "      <td>4.50</td>\n",
       "      <td>3.50</td>\n",
       "      <td>1.65</td>\n",
       "      <td>4.75</td>\n",
       "      <td>3.30</td>\n",
       "      <td>1.67</td>\n",
       "    </tr>\n",
       "  </tbody>\n",
       "</table>\n",
       "<p>5 rows × 115 columns</p>\n",
       "</div>"
      ],
      "text/plain": [
       "   id  country_id  league_id     season  stage                 date  \\\n",
       "0   1           1          1  2008/2009      1  2008-08-17 00:00:00   \n",
       "1   2           1          1  2008/2009      1  2008-08-16 00:00:00   \n",
       "2   3           1          1  2008/2009      1  2008-08-16 00:00:00   \n",
       "3   4           1          1  2008/2009      1  2008-08-17 00:00:00   \n",
       "4   5           1          1  2008/2009      1  2008-08-16 00:00:00   \n",
       "\n",
       "   match_api_id  home_team_api_id  away_team_api_id  home_team_goal  ...  \\\n",
       "0        492473              9987              9993               1  ...   \n",
       "1        492474             10000              9994               0  ...   \n",
       "2        492475              9984              8635               0  ...   \n",
       "3        492476              9991              9998               5  ...   \n",
       "4        492477              7947              9985               1  ...   \n",
       "\n",
       "    SJA   VCH   VCD   VCA   GBH   GBD   GBA   BSH   BSD   BSA  \n",
       "0  4.00  1.65  3.40  4.50  1.78  3.25  4.00  1.73  3.40  4.20  \n",
       "1  3.80  2.00  3.25  3.25  1.85  3.25  3.75  1.91  3.25  3.60  \n",
       "2  2.50  2.35  3.25  2.65  2.50  3.20  2.50  2.30  3.20  2.75  \n",
       "3  7.50  1.45  3.75  6.50  1.50  3.75  5.50  1.44  3.75  6.50  \n",
       "4  1.73  4.50  3.40  1.65  4.50  3.50  1.65  4.75  3.30  1.67  \n",
       "\n",
       "[5 rows x 115 columns]"
      ]
     },
     "execution_count": 5,
     "metadata": {},
     "output_type": "execute_result"
    }
   ],
   "source": [
    "df_match.head()"
   ]
  },
  {
   "cell_type": "code",
   "execution_count": 6,
   "id": "bb2a65bb",
   "metadata": {
    "ExecuteTime": {
     "end_time": "2022-02-17T18:26:18.557671Z",
     "start_time": "2022-02-17T18:26:18.436550Z"
    },
    "hidden": true
   },
   "outputs": [
    {
     "name": "stdout",
     "output_type": "stream",
     "text": [
      "<class 'pandas.core.frame.DataFrame'>\n",
      "RangeIndex: 25979 entries, 0 to 25978\n",
      "Data columns (total 115 columns):\n",
      " #    Column            Non-Null Count  Dtype  \n",
      "---   ------            --------------  -----  \n",
      " 0    id                25979 non-null  int64  \n",
      " 1    country_id        25979 non-null  int64  \n",
      " 2    league_id         25979 non-null  int64  \n",
      " 3    season            25979 non-null  object \n",
      " 4    stage             25979 non-null  int64  \n",
      " 5    date              25979 non-null  object \n",
      " 6    match_api_id      25979 non-null  int64  \n",
      " 7    home_team_api_id  25979 non-null  int64  \n",
      " 8    away_team_api_id  25979 non-null  int64  \n",
      " 9    home_team_goal    25979 non-null  int64  \n",
      " 10   away_team_goal    25979 non-null  int64  \n",
      " 11   home_player_X1    24158 non-null  float64\n",
      " 12   home_player_X2    24158 non-null  float64\n",
      " 13   home_player_X3    24147 non-null  float64\n",
      " 14   home_player_X4    24147 non-null  float64\n",
      " 15   home_player_X5    24147 non-null  float64\n",
      " 16   home_player_X6    24147 non-null  float64\n",
      " 17   home_player_X7    24147 non-null  float64\n",
      " 18   home_player_X8    24147 non-null  float64\n",
      " 19   home_player_X9    24147 non-null  float64\n",
      " 20   home_player_X10   24147 non-null  float64\n",
      " 21   home_player_X11   24147 non-null  float64\n",
      " 22   away_player_X1    24147 non-null  float64\n",
      " 23   away_player_X2    24147 non-null  float64\n",
      " 24   away_player_X3    24147 non-null  float64\n",
      " 25   away_player_X4    24147 non-null  float64\n",
      " 26   away_player_X5    24147 non-null  float64\n",
      " 27   away_player_X6    24147 non-null  float64\n",
      " 28   away_player_X7    24147 non-null  float64\n",
      " 29   away_player_X8    24147 non-null  float64\n",
      " 30   away_player_X9    24146 non-null  float64\n",
      " 31   away_player_X10   24146 non-null  float64\n",
      " 32   away_player_X11   24140 non-null  float64\n",
      " 33   home_player_Y1    24158 non-null  float64\n",
      " 34   home_player_Y2    24158 non-null  float64\n",
      " 35   home_player_Y3    24147 non-null  float64\n",
      " 36   home_player_Y4    24147 non-null  float64\n",
      " 37   home_player_Y5    24147 non-null  float64\n",
      " 38   home_player_Y6    24147 non-null  float64\n",
      " 39   home_player_Y7    24147 non-null  float64\n",
      " 40   home_player_Y8    24147 non-null  float64\n",
      " 41   home_player_Y9    24147 non-null  float64\n",
      " 42   home_player_Y10   24147 non-null  float64\n",
      " 43   home_player_Y11   24147 non-null  float64\n",
      " 44   away_player_Y1    24147 non-null  float64\n",
      " 45   away_player_Y2    24147 non-null  float64\n",
      " 46   away_player_Y3    24147 non-null  float64\n",
      " 47   away_player_Y4    24147 non-null  float64\n",
      " 48   away_player_Y5    24147 non-null  float64\n",
      " 49   away_player_Y6    24147 non-null  float64\n",
      " 50   away_player_Y7    24147 non-null  float64\n",
      " 51   away_player_Y8    24147 non-null  float64\n",
      " 52   away_player_Y9    24146 non-null  float64\n",
      " 53   away_player_Y10   24146 non-null  float64\n",
      " 54   away_player_Y11   24140 non-null  float64\n",
      " 55   home_player_1     24755 non-null  float64\n",
      " 56   home_player_2     24664 non-null  float64\n",
      " 57   home_player_3     24698 non-null  float64\n",
      " 58   home_player_4     24656 non-null  float64\n",
      " 59   home_player_5     24663 non-null  float64\n",
      " 60   home_player_6     24654 non-null  float64\n",
      " 61   home_player_7     24752 non-null  float64\n",
      " 62   home_player_8     24670 non-null  float64\n",
      " 63   home_player_9     24706 non-null  float64\n",
      " 64   home_player_10    24543 non-null  float64\n",
      " 65   home_player_11    24424 non-null  float64\n",
      " 66   away_player_1     24745 non-null  float64\n",
      " 67   away_player_2     24701 non-null  float64\n",
      " 68   away_player_3     24686 non-null  float64\n",
      " 69   away_player_4     24658 non-null  float64\n",
      " 70   away_player_5     24644 non-null  float64\n",
      " 71   away_player_6     24666 non-null  float64\n",
      " 72   away_player_7     24744 non-null  float64\n",
      " 73   away_player_8     24638 non-null  float64\n",
      " 74   away_player_9     24651 non-null  float64\n",
      " 75   away_player_10    24538 non-null  float64\n",
      " 76   away_player_11    24425 non-null  float64\n",
      " 77   goal              14217 non-null  object \n",
      " 78   shoton            14217 non-null  object \n",
      " 79   shotoff           14217 non-null  object \n",
      " 80   foulcommit        14217 non-null  object \n",
      " 81   card              14217 non-null  object \n",
      " 82   cross             14217 non-null  object \n",
      " 83   corner            14217 non-null  object \n",
      " 84   possession        14217 non-null  object \n",
      " 85   B365H             22592 non-null  float64\n",
      " 86   B365D             22592 non-null  float64\n",
      " 87   B365A             22592 non-null  float64\n",
      " 88   BWH               22575 non-null  float64\n",
      " 89   BWD               22575 non-null  float64\n",
      " 90   BWA               22575 non-null  float64\n",
      " 91   IWH               22520 non-null  float64\n",
      " 92   IWD               22520 non-null  float64\n",
      " 93   IWA               22520 non-null  float64\n",
      " 94   LBH               22556 non-null  float64\n",
      " 95   LBD               22556 non-null  float64\n",
      " 96   LBA               22556 non-null  float64\n",
      " 97   PSH               11168 non-null  float64\n",
      " 98   PSD               11168 non-null  float64\n",
      " 99   PSA               11168 non-null  float64\n",
      " 100  WHH               22571 non-null  float64\n",
      " 101  WHD               22571 non-null  float64\n",
      " 102  WHA               22571 non-null  float64\n",
      " 103  SJH               17097 non-null  float64\n",
      " 104  SJD               17097 non-null  float64\n",
      " 105  SJA               17097 non-null  float64\n",
      " 106  VCH               22568 non-null  float64\n",
      " 107  VCD               22568 non-null  float64\n",
      " 108  VCA               22568 non-null  float64\n",
      " 109  GBH               14162 non-null  float64\n",
      " 110  GBD               14162 non-null  float64\n",
      " 111  GBA               14162 non-null  float64\n",
      " 112  BSH               14161 non-null  float64\n",
      " 113  BSD               14161 non-null  float64\n",
      " 114  BSA               14161 non-null  float64\n",
      "dtypes: float64(96), int64(9), object(10)\n",
      "memory usage: 22.8+ MB\n"
     ]
    }
   ],
   "source": [
    "df_match.info(verbose=True, show_counts=True)"
   ]
  },
  {
   "cell_type": "code",
   "execution_count": 7,
   "id": "e4bc9dca",
   "metadata": {
    "ExecuteTime": {
     "end_time": "2022-02-17T18:26:18.589010Z",
     "start_time": "2022-02-17T18:26:18.560686Z"
    },
    "hidden": true
   },
   "outputs": [
    {
     "name": "stdout",
     "output_type": "stream",
     "text": [
      "82.274144501328 %\n"
     ]
    }
   ],
   "source": [
    "print( ( df_match.iloc[:,55:77].dropna().shape[0] /df_match.shape[0])*100, '%')"
   ]
  },
  {
   "cell_type": "markdown",
   "id": "83a881b7",
   "metadata": {
    "hidden": true
   },
   "source": [
    "As colunas com os prefixos `home_player_` e `away_player_` contêm a referência à coluna `player_api_id` da tabela `df_player`, que correspondem ao id de cada jogador em sua posição da partida. Para mesclar os dados de ambas as tabelas é preciso que todas estas colunas (índice 55 a 77), em todas as linhas (originalmente 25979 linhas), contenham este campo identificador, o que é plausível pois cerca de 82,27% da base tem tais campos preenchidos.\n",
    "\n",
    "Assim sendo, a primeira seleção de linhas de todo o dataset terá este grupo de colunas como determinante. Abaixo a filtragem:"
   ]
  },
  {
   "cell_type": "code",
   "execution_count": 8,
   "id": "e9dd5180",
   "metadata": {
    "ExecuteTime": {
     "end_time": "2022-02-17T18:26:18.774296Z",
     "start_time": "2022-02-17T18:26:18.591966Z"
    },
    "hidden": true
   },
   "outputs": [
    {
     "name": "stdout",
     "output_type": "stream",
     "text": [
      "<class 'pandas.core.frame.DataFrame'>\n",
      "Int64Index: 21374 entries, 145 to 25978\n",
      "Data columns (total 115 columns):\n",
      " #    Column            Non-Null Count  Dtype  \n",
      "---   ------            --------------  -----  \n",
      " 0    id                21374 non-null  int64  \n",
      " 1    country_id        21374 non-null  int64  \n",
      " 2    league_id         21374 non-null  int64  \n",
      " 3    season            21374 non-null  object \n",
      " 4    stage             21374 non-null  int64  \n",
      " 5    date              21374 non-null  object \n",
      " 6    match_api_id      21374 non-null  int64  \n",
      " 7    home_team_api_id  21374 non-null  int64  \n",
      " 8    away_team_api_id  21374 non-null  int64  \n",
      " 9    home_team_goal    21374 non-null  int64  \n",
      " 10   away_team_goal    21374 non-null  int64  \n",
      " 11   home_player_X1    21367 non-null  float64\n",
      " 12   home_player_X2    21367 non-null  float64\n",
      " 13   home_player_X3    21365 non-null  float64\n",
      " 14   home_player_X4    21365 non-null  float64\n",
      " 15   home_player_X5    21365 non-null  float64\n",
      " 16   home_player_X6    21365 non-null  float64\n",
      " 17   home_player_X7    21365 non-null  float64\n",
      " 18   home_player_X8    21365 non-null  float64\n",
      " 19   home_player_X9    21365 non-null  float64\n",
      " 20   home_player_X10   21365 non-null  float64\n",
      " 21   home_player_X11   21365 non-null  float64\n",
      " 22   away_player_X1    21365 non-null  float64\n",
      " 23   away_player_X2    21365 non-null  float64\n",
      " 24   away_player_X3    21365 non-null  float64\n",
      " 25   away_player_X4    21365 non-null  float64\n",
      " 26   away_player_X5    21365 non-null  float64\n",
      " 27   away_player_X6    21365 non-null  float64\n",
      " 28   away_player_X7    21365 non-null  float64\n",
      " 29   away_player_X8    21365 non-null  float64\n",
      " 30   away_player_X9    21365 non-null  float64\n",
      " 31   away_player_X10   21365 non-null  float64\n",
      " 32   away_player_X11   21361 non-null  float64\n",
      " 33   home_player_Y1    21367 non-null  float64\n",
      " 34   home_player_Y2    21367 non-null  float64\n",
      " 35   home_player_Y3    21365 non-null  float64\n",
      " 36   home_player_Y4    21365 non-null  float64\n",
      " 37   home_player_Y5    21365 non-null  float64\n",
      " 38   home_player_Y6    21365 non-null  float64\n",
      " 39   home_player_Y7    21365 non-null  float64\n",
      " 40   home_player_Y8    21365 non-null  float64\n",
      " 41   home_player_Y9    21365 non-null  float64\n",
      " 42   home_player_Y10   21365 non-null  float64\n",
      " 43   home_player_Y11   21365 non-null  float64\n",
      " 44   away_player_Y1    21365 non-null  float64\n",
      " 45   away_player_Y2    21365 non-null  float64\n",
      " 46   away_player_Y3    21365 non-null  float64\n",
      " 47   away_player_Y4    21365 non-null  float64\n",
      " 48   away_player_Y5    21365 non-null  float64\n",
      " 49   away_player_Y6    21365 non-null  float64\n",
      " 50   away_player_Y7    21365 non-null  float64\n",
      " 51   away_player_Y8    21365 non-null  float64\n",
      " 52   away_player_Y9    21365 non-null  float64\n",
      " 53   away_player_Y10   21365 non-null  float64\n",
      " 54   away_player_Y11   21361 non-null  float64\n",
      " 55   home_player_1     21374 non-null  float64\n",
      " 56   home_player_2     21374 non-null  float64\n",
      " 57   home_player_3     21374 non-null  float64\n",
      " 58   home_player_4     21374 non-null  float64\n",
      " 59   home_player_5     21374 non-null  float64\n",
      " 60   home_player_6     21374 non-null  float64\n",
      " 61   home_player_7     21374 non-null  float64\n",
      " 62   home_player_8     21374 non-null  float64\n",
      " 63   home_player_9     21374 non-null  float64\n",
      " 64   home_player_10    21374 non-null  float64\n",
      " 65   home_player_11    21374 non-null  float64\n",
      " 66   away_player_1     21374 non-null  float64\n",
      " 67   away_player_2     21374 non-null  float64\n",
      " 68   away_player_3     21374 non-null  float64\n",
      " 69   away_player_4     21374 non-null  float64\n",
      " 70   away_player_5     21374 non-null  float64\n",
      " 71   away_player_6     21374 non-null  float64\n",
      " 72   away_player_7     21374 non-null  float64\n",
      " 73   away_player_8     21374 non-null  float64\n",
      " 74   away_player_9     21374 non-null  float64\n",
      " 75   away_player_10    21374 non-null  float64\n",
      " 76   away_player_11    21374 non-null  float64\n",
      " 77   goal              13325 non-null  object \n",
      " 78   shoton            13325 non-null  object \n",
      " 79   shotoff           13325 non-null  object \n",
      " 80   foulcommit        13325 non-null  object \n",
      " 81   card              13325 non-null  object \n",
      " 82   cross             13325 non-null  object \n",
      " 83   corner            13325 non-null  object \n",
      " 84   possession        13325 non-null  object \n",
      " 85   B365H             19691 non-null  float64\n",
      " 86   B365D             19691 non-null  float64\n",
      " 87   B365A             19691 non-null  float64\n",
      " 88   BWH               19675 non-null  float64\n",
      " 89   BWD               19675 non-null  float64\n",
      " 90   BWA               19675 non-null  float64\n",
      " 91   IWH               19635 non-null  float64\n",
      " 92   IWD               19635 non-null  float64\n",
      " 93   IWA               19635 non-null  float64\n",
      " 94   LBH               19662 non-null  float64\n",
      " 95   LBD               19662 non-null  float64\n",
      " 96   LBA               19662 non-null  float64\n",
      " 97   PSH               10446 non-null  float64\n",
      " 98   PSD               10446 non-null  float64\n",
      " 99   PSA               10446 non-null  float64\n",
      " 100  WHH               19678 non-null  float64\n",
      " 101  WHD               19678 non-null  float64\n",
      " 102  WHA               19678 non-null  float64\n",
      " 103  SJH               14627 non-null  float64\n",
      " 104  SJD               14627 non-null  float64\n",
      " 105  SJA               14627 non-null  float64\n",
      " 106  VCH               19669 non-null  float64\n",
      " 107  VCD               19669 non-null  float64\n",
      " 108  VCA               19669 non-null  float64\n",
      " 109  GBH               11854 non-null  float64\n",
      " 110  GBD               11854 non-null  float64\n",
      " 111  GBA               11854 non-null  float64\n",
      " 112  BSH               11856 non-null  float64\n",
      " 113  BSD               11856 non-null  float64\n",
      " 114  BSA               11856 non-null  float64\n",
      "dtypes: float64(96), int64(9), object(10)\n",
      "memory usage: 18.9+ MB\n"
     ]
    }
   ],
   "source": [
    "df_bruto0 = df_match.loc[df_match.iloc[:,55:77].dropna().index, :]\n",
    "df_bruto0.info(verbose=True, show_counts=True)\n",
    "\n",
    "#df_bruto0.head()"
   ]
  },
  {
   "cell_type": "code",
   "execution_count": 9,
   "id": "4549fa14",
   "metadata": {
    "ExecuteTime": {
     "end_time": "2022-02-17T18:26:18.820238Z",
     "start_time": "2022-02-17T18:26:18.777419Z"
    },
    "hidden": true
   },
   "outputs": [
    {
     "data": {
      "text/html": [
       "<div>\n",
       "<style scoped>\n",
       "    .dataframe tbody tr th:only-of-type {\n",
       "        vertical-align: middle;\n",
       "    }\n",
       "\n",
       "    .dataframe tbody tr th {\n",
       "        vertical-align: top;\n",
       "    }\n",
       "\n",
       "    .dataframe thead th {\n",
       "        text-align: right;\n",
       "    }\n",
       "</style>\n",
       "<table border=\"1\" class=\"dataframe\">\n",
       "  <thead>\n",
       "    <tr style=\"text-align: right;\">\n",
       "      <th></th>\n",
       "      <th>PSH</th>\n",
       "      <th>PSD</th>\n",
       "      <th>PSA</th>\n",
       "      <th>SJH</th>\n",
       "      <th>SJD</th>\n",
       "      <th>SJA</th>\n",
       "      <th>GBH</th>\n",
       "      <th>GBD</th>\n",
       "      <th>GBA</th>\n",
       "      <th>BSH</th>\n",
       "      <th>BSD</th>\n",
       "      <th>BSA</th>\n",
       "    </tr>\n",
       "  </thead>\n",
       "  <tbody>\n",
       "    <tr>\n",
       "      <th>145</th>\n",
       "      <td>NaN</td>\n",
       "      <td>NaN</td>\n",
       "      <td>NaN</td>\n",
       "      <td>3.05</td>\n",
       "      <td>3.20</td>\n",
       "      <td>2.30</td>\n",
       "      <td>2.90</td>\n",
       "      <td>3.25</td>\n",
       "      <td>2.30</td>\n",
       "      <td>2.80</td>\n",
       "      <td>3.2</td>\n",
       "      <td>2.25</td>\n",
       "    </tr>\n",
       "    <tr>\n",
       "      <th>153</th>\n",
       "      <td>NaN</td>\n",
       "      <td>NaN</td>\n",
       "      <td>NaN</td>\n",
       "      <td>3.05</td>\n",
       "      <td>3.25</td>\n",
       "      <td>2.25</td>\n",
       "      <td>2.90</td>\n",
       "      <td>3.20</td>\n",
       "      <td>2.30</td>\n",
       "      <td>2.62</td>\n",
       "      <td>3.2</td>\n",
       "      <td>2.38</td>\n",
       "    </tr>\n",
       "    <tr>\n",
       "      <th>155</th>\n",
       "      <td>NaN</td>\n",
       "      <td>NaN</td>\n",
       "      <td>NaN</td>\n",
       "      <td>1.36</td>\n",
       "      <td>4.50</td>\n",
       "      <td>8.50</td>\n",
       "      <td>1.35</td>\n",
       "      <td>4.33</td>\n",
       "      <td>8.50</td>\n",
       "      <td>1.36</td>\n",
       "      <td>4.2</td>\n",
       "      <td>7.00</td>\n",
       "    </tr>\n",
       "    <tr>\n",
       "      <th>162</th>\n",
       "      <td>NaN</td>\n",
       "      <td>NaN</td>\n",
       "      <td>NaN</td>\n",
       "      <td>4.75</td>\n",
       "      <td>3.50</td>\n",
       "      <td>1.73</td>\n",
       "      <td>4.50</td>\n",
       "      <td>3.40</td>\n",
       "      <td>1.75</td>\n",
       "      <td>4.20</td>\n",
       "      <td>3.3</td>\n",
       "      <td>1.75</td>\n",
       "    </tr>\n",
       "    <tr>\n",
       "      <th>168</th>\n",
       "      <td>NaN</td>\n",
       "      <td>NaN</td>\n",
       "      <td>NaN</td>\n",
       "      <td>1.67</td>\n",
       "      <td>3.50</td>\n",
       "      <td>5.00</td>\n",
       "      <td>1.65</td>\n",
       "      <td>3.50</td>\n",
       "      <td>5.00</td>\n",
       "      <td>1.70</td>\n",
       "      <td>3.4</td>\n",
       "      <td>4.33</td>\n",
       "    </tr>\n",
       "  </tbody>\n",
       "</table>\n",
       "</div>"
      ],
      "text/plain": [
       "     PSH  PSD  PSA   SJH   SJD   SJA   GBH   GBD   GBA   BSH  BSD   BSA\n",
       "145  NaN  NaN  NaN  3.05  3.20  2.30  2.90  3.25  2.30  2.80  3.2  2.25\n",
       "153  NaN  NaN  NaN  3.05  3.25  2.25  2.90  3.20  2.30  2.62  3.2  2.38\n",
       "155  NaN  NaN  NaN  1.36  4.50  8.50  1.35  4.33  8.50  1.36  4.2  7.00\n",
       "162  NaN  NaN  NaN  4.75  3.50  1.73  4.50  3.40  1.75  4.20  3.3  1.75\n",
       "168  NaN  NaN  NaN  1.67  3.50  5.00  1.65  3.50  5.00  1.70  3.4  4.33"
      ]
     },
     "execution_count": 9,
     "metadata": {},
     "output_type": "execute_result"
    }
   ],
   "source": [
    "df_bruto0.iloc[:, [97, 98, 99, 103, 104, 105, 109, 110, 111, 112, 113, 114]].head() "
   ]
  },
  {
   "cell_type": "code",
   "execution_count": 10,
   "id": "52b562a0",
   "metadata": {
    "ExecuteTime": {
     "end_time": "2022-02-17T18:26:18.851494Z",
     "start_time": "2022-02-17T18:26:18.826240Z"
    },
    "hidden": true
   },
   "outputs": [
    {
     "data": {
      "text/plain": [
       "PSH    10446\n",
       "PSD    10446\n",
       "PSA    10446\n",
       "SJH    14627\n",
       "SJD    14627\n",
       "SJA    14627\n",
       "GBH    11854\n",
       "GBD    11854\n",
       "GBA    11854\n",
       "BSH    11856\n",
       "BSD    11856\n",
       "BSA    11856\n",
       "dtype: int64"
      ]
     },
     "execution_count": 10,
     "metadata": {},
     "output_type": "execute_result"
    }
   ],
   "source": [
    "df_bruto0.iloc[:, [97, 98, 99, 103, 104, 105, 109, 110, 111, 112, 113, 114]].count()"
   ]
  },
  {
   "cell_type": "code",
   "execution_count": 11,
   "id": "ab58a6ba",
   "metadata": {
    "ExecuteTime": {
     "end_time": "2022-02-17T18:26:18.882169Z",
     "start_time": "2022-02-17T18:26:18.854988Z"
    },
    "hidden": true
   },
   "outputs": [
    {
     "data": {
      "text/plain": [
       "12195.75"
      ]
     },
     "execution_count": 11,
     "metadata": {},
     "output_type": "execute_result"
    }
   ],
   "source": [
    "media = np.mean(df_bruto0.iloc[:, [97, 98, 99, 103, 104, 105, 109, 110, 111, 112, 113, 114]].count())\n",
    "media"
   ]
  },
  {
   "cell_type": "code",
   "execution_count": 12,
   "id": "c47ac105",
   "metadata": {
    "ExecuteTime": {
     "end_time": "2022-02-17T18:26:18.898263Z",
     "start_time": "2022-02-17T18:26:18.885109Z"
    },
    "hidden": true
   },
   "outputs": [
    {
     "name": "stdout",
     "output_type": "stream",
     "text": [
      "57.05880976887807 %\n"
     ]
    }
   ],
   "source": [
    "print(media/df_bruto0.shape[0]*100, \"%\")"
   ]
  },
  {
   "cell_type": "markdown",
   "id": "65e0326e",
   "metadata": {
    "hidden": true
   },
   "source": [
    "As colunas de índice 97 a 99, 103 a 105 e 109 a 114 contém, em média, apenas 57.06% de seus valores preenchidos, e por isso também  estão sendo eliminadas da análise. "
   ]
  },
  {
   "cell_type": "code",
   "execution_count": 13,
   "id": "861d09cc",
   "metadata": {
    "ExecuteTime": {
     "end_time": "2022-02-17T18:26:18.929785Z",
     "start_time": "2022-02-17T18:26:18.901227Z"
    },
    "hidden": true
   },
   "outputs": [
    {
     "data": {
      "text/plain": [
       "(21374, 103)"
      ]
     },
     "execution_count": 13,
     "metadata": {},
     "output_type": "execute_result"
    }
   ],
   "source": [
    "df_bruto1 = df_bruto0.drop(columns=df_bruto0.columns[[97, 98, 99, 103, 104, 105, 109, 110, 111, 112, 113, 114]])\n",
    "#df_bruto1.info(verbose=True, show_counts=True)\n",
    "df_bruto1.shape"
   ]
  },
  {
   "cell_type": "markdown",
   "id": "3dc1b77e",
   "metadata": {
    "hidden": true
   },
   "source": [
    "     "
   ]
  },
  {
   "cell_type": "markdown",
   "id": "b685a294",
   "metadata": {
    "ExecuteTime": {
     "end_time": "2022-02-08T16:57:29.649588Z",
     "start_time": "2022-02-08T16:57:29.632236Z"
    },
    "heading_collapsed": true,
    "hidden": true
   },
   "source": [
    "#### Dataset Player"
   ]
  },
  {
   "cell_type": "code",
   "execution_count": 14,
   "id": "f26f349b",
   "metadata": {
    "ExecuteTime": {
     "end_time": "2022-02-17T18:26:18.992155Z",
     "start_time": "2022-02-17T18:26:18.932745Z"
    },
    "hidden": true
   },
   "outputs": [],
   "source": [
    "df_player0 = pd.read_csv(\"player.csv\")"
   ]
  },
  {
   "cell_type": "code",
   "execution_count": 15,
   "id": "97150d66",
   "metadata": {
    "ExecuteTime": {
     "end_time": "2022-02-17T18:26:19.023380Z",
     "start_time": "2022-02-17T18:26:18.995166Z"
    },
    "hidden": true
   },
   "outputs": [
    {
     "data": {
      "text/html": [
       "<div>\n",
       "<style scoped>\n",
       "    .dataframe tbody tr th:only-of-type {\n",
       "        vertical-align: middle;\n",
       "    }\n",
       "\n",
       "    .dataframe tbody tr th {\n",
       "        vertical-align: top;\n",
       "    }\n",
       "\n",
       "    .dataframe thead th {\n",
       "        text-align: right;\n",
       "    }\n",
       "</style>\n",
       "<table border=\"1\" class=\"dataframe\">\n",
       "  <thead>\n",
       "    <tr style=\"text-align: right;\">\n",
       "      <th></th>\n",
       "      <th>id</th>\n",
       "      <th>player_api_id</th>\n",
       "      <th>player_name</th>\n",
       "      <th>player_fifa_api_id</th>\n",
       "      <th>birthday</th>\n",
       "      <th>height</th>\n",
       "      <th>weight</th>\n",
       "    </tr>\n",
       "  </thead>\n",
       "  <tbody>\n",
       "    <tr>\n",
       "      <th>0</th>\n",
       "      <td>1</td>\n",
       "      <td>505942</td>\n",
       "      <td>Aaron Appindangoye</td>\n",
       "      <td>218353</td>\n",
       "      <td>1992-02-29 00:00:00</td>\n",
       "      <td>182.88</td>\n",
       "      <td>187</td>\n",
       "    </tr>\n",
       "    <tr>\n",
       "      <th>1</th>\n",
       "      <td>2</td>\n",
       "      <td>155782</td>\n",
       "      <td>Aaron Cresswell</td>\n",
       "      <td>189615</td>\n",
       "      <td>1989-12-15 00:00:00</td>\n",
       "      <td>170.18</td>\n",
       "      <td>146</td>\n",
       "    </tr>\n",
       "    <tr>\n",
       "      <th>2</th>\n",
       "      <td>3</td>\n",
       "      <td>162549</td>\n",
       "      <td>Aaron Doran</td>\n",
       "      <td>186170</td>\n",
       "      <td>1991-05-13 00:00:00</td>\n",
       "      <td>170.18</td>\n",
       "      <td>163</td>\n",
       "    </tr>\n",
       "    <tr>\n",
       "      <th>3</th>\n",
       "      <td>4</td>\n",
       "      <td>30572</td>\n",
       "      <td>Aaron Galindo</td>\n",
       "      <td>140161</td>\n",
       "      <td>1982-05-08 00:00:00</td>\n",
       "      <td>182.88</td>\n",
       "      <td>198</td>\n",
       "    </tr>\n",
       "    <tr>\n",
       "      <th>4</th>\n",
       "      <td>5</td>\n",
       "      <td>23780</td>\n",
       "      <td>Aaron Hughes</td>\n",
       "      <td>17725</td>\n",
       "      <td>1979-11-08 00:00:00</td>\n",
       "      <td>182.88</td>\n",
       "      <td>154</td>\n",
       "    </tr>\n",
       "  </tbody>\n",
       "</table>\n",
       "</div>"
      ],
      "text/plain": [
       "   id  player_api_id         player_name  player_fifa_api_id  \\\n",
       "0   1         505942  Aaron Appindangoye              218353   \n",
       "1   2         155782     Aaron Cresswell              189615   \n",
       "2   3         162549         Aaron Doran              186170   \n",
       "3   4          30572       Aaron Galindo              140161   \n",
       "4   5          23780        Aaron Hughes               17725   \n",
       "\n",
       "              birthday  height  weight  \n",
       "0  1992-02-29 00:00:00  182.88     187  \n",
       "1  1989-12-15 00:00:00  170.18     146  \n",
       "2  1991-05-13 00:00:00  170.18     163  \n",
       "3  1982-05-08 00:00:00  182.88     198  \n",
       "4  1979-11-08 00:00:00  182.88     154  "
      ]
     },
     "execution_count": 15,
     "metadata": {},
     "output_type": "execute_result"
    }
   ],
   "source": [
    "df_player0.head()"
   ]
  },
  {
   "cell_type": "markdown",
   "id": "389e30da",
   "metadata": {
    "hidden": true
   },
   "source": [
    "Convertendo a coluna birthday de uma Escala Intervalar para uma Escala Racional, normalizando os dados para que assumam valores absolutos e possam ser melhor interpretados pelo modelo."
   ]
  },
  {
   "cell_type": "code",
   "execution_count": 16,
   "id": "610d8846",
   "metadata": {
    "ExecuteTime": {
     "end_time": "2022-02-17T18:26:19.131987Z",
     "start_time": "2022-02-17T18:26:19.026455Z"
    },
    "hidden": true
   },
   "outputs": [
    {
     "data": {
      "text/html": [
       "<div>\n",
       "<style scoped>\n",
       "    .dataframe tbody tr th:only-of-type {\n",
       "        vertical-align: middle;\n",
       "    }\n",
       "\n",
       "    .dataframe tbody tr th {\n",
       "        vertical-align: top;\n",
       "    }\n",
       "\n",
       "    .dataframe thead th {\n",
       "        text-align: right;\n",
       "    }\n",
       "</style>\n",
       "<table border=\"1\" class=\"dataframe\">\n",
       "  <thead>\n",
       "    <tr style=\"text-align: right;\">\n",
       "      <th></th>\n",
       "      <th>id</th>\n",
       "      <th>player_api_id</th>\n",
       "      <th>player_name</th>\n",
       "      <th>player_fifa_api_id</th>\n",
       "      <th>birthday</th>\n",
       "      <th>height</th>\n",
       "      <th>weight</th>\n",
       "      <th>date_birthday</th>\n",
       "      <th>age</th>\n",
       "    </tr>\n",
       "  </thead>\n",
       "  <tbody>\n",
       "    <tr>\n",
       "      <th>0</th>\n",
       "      <td>1</td>\n",
       "      <td>505942</td>\n",
       "      <td>Aaron Appindangoye</td>\n",
       "      <td>218353</td>\n",
       "      <td>1992-02-29 00:00:00</td>\n",
       "      <td>182.88</td>\n",
       "      <td>187</td>\n",
       "      <td>1992-02-29</td>\n",
       "      <td>29.968515</td>\n",
       "    </tr>\n",
       "    <tr>\n",
       "      <th>1</th>\n",
       "      <td>2</td>\n",
       "      <td>155782</td>\n",
       "      <td>Aaron Cresswell</td>\n",
       "      <td>189615</td>\n",
       "      <td>1989-12-15 00:00:00</td>\n",
       "      <td>170.18</td>\n",
       "      <td>146</td>\n",
       "      <td>1989-12-15</td>\n",
       "      <td>32.175222</td>\n",
       "    </tr>\n",
       "    <tr>\n",
       "      <th>2</th>\n",
       "      <td>3</td>\n",
       "      <td>162549</td>\n",
       "      <td>Aaron Doran</td>\n",
       "      <td>186170</td>\n",
       "      <td>1991-05-13 00:00:00</td>\n",
       "      <td>170.18</td>\n",
       "      <td>163</td>\n",
       "      <td>1991-05-13</td>\n",
       "      <td>30.767967</td>\n",
       "    </tr>\n",
       "    <tr>\n",
       "      <th>3</th>\n",
       "      <td>4</td>\n",
       "      <td>30572</td>\n",
       "      <td>Aaron Galindo</td>\n",
       "      <td>140161</td>\n",
       "      <td>1982-05-08 00:00:00</td>\n",
       "      <td>182.88</td>\n",
       "      <td>198</td>\n",
       "      <td>1982-05-08</td>\n",
       "      <td>39.780972</td>\n",
       "    </tr>\n",
       "    <tr>\n",
       "      <th>4</th>\n",
       "      <td>5</td>\n",
       "      <td>23780</td>\n",
       "      <td>Aaron Hughes</td>\n",
       "      <td>17725</td>\n",
       "      <td>1979-11-08 00:00:00</td>\n",
       "      <td>182.88</td>\n",
       "      <td>154</td>\n",
       "      <td>1979-11-08</td>\n",
       "      <td>42.277892</td>\n",
       "    </tr>\n",
       "  </tbody>\n",
       "</table>\n",
       "</div>"
      ],
      "text/plain": [
       "   id  player_api_id         player_name  player_fifa_api_id  \\\n",
       "0   1         505942  Aaron Appindangoye              218353   \n",
       "1   2         155782     Aaron Cresswell              189615   \n",
       "2   3         162549         Aaron Doran              186170   \n",
       "3   4          30572       Aaron Galindo              140161   \n",
       "4   5          23780        Aaron Hughes               17725   \n",
       "\n",
       "              birthday  height  weight date_birthday        age  \n",
       "0  1992-02-29 00:00:00  182.88     187    1992-02-29  29.968515  \n",
       "1  1989-12-15 00:00:00  170.18     146    1989-12-15  32.175222  \n",
       "2  1991-05-13 00:00:00  170.18     163    1991-05-13  30.767967  \n",
       "3  1982-05-08 00:00:00  182.88     198    1982-05-08  39.780972  \n",
       "4  1979-11-08 00:00:00  182.88     154    1979-11-08  42.277892  "
      ]
     },
     "execution_count": 16,
     "metadata": {},
     "output_type": "execute_result"
    }
   ],
   "source": [
    "df_player0[\"date_birthday\"] = df_player0.birthday.str.slice(0, 10)\n",
    "df_player0[\"age\"] = df_player0[\"date_birthday\"].apply(lambda x : (date.today() -date( int(x[:4]), int(x[5:7]), int(x[8:10]) )).days/365.25)\n",
    "df_player0.head()"
   ]
  },
  {
   "cell_type": "code",
   "execution_count": 17,
   "id": "e12ee5f0",
   "metadata": {
    "ExecuteTime": {
     "end_time": "2022-02-17T18:26:19.177523Z",
     "start_time": "2022-02-17T18:26:19.135254Z"
    },
    "hidden": true
   },
   "outputs": [
    {
     "name": "stdout",
     "output_type": "stream",
     "text": [
      "<class 'pandas.core.frame.DataFrame'>\n",
      "RangeIndex: 11060 entries, 0 to 11059\n",
      "Data columns (total 9 columns):\n",
      " #   Column              Non-Null Count  Dtype  \n",
      "---  ------              --------------  -----  \n",
      " 0   id                  11060 non-null  int64  \n",
      " 1   player_api_id       11060 non-null  int64  \n",
      " 2   player_name         11060 non-null  object \n",
      " 3   player_fifa_api_id  11060 non-null  int64  \n",
      " 4   birthday            11060 non-null  object \n",
      " 5   height              11060 non-null  float64\n",
      " 6   weight              11060 non-null  int64  \n",
      " 7   date_birthday       11060 non-null  object \n",
      " 8   age                 11060 non-null  float64\n",
      "dtypes: float64(2), int64(4), object(3)\n",
      "memory usage: 777.8+ KB\n"
     ]
    }
   ],
   "source": [
    "df_player0.info()"
   ]
  },
  {
   "cell_type": "markdown",
   "id": "cf26e116",
   "metadata": {
    "heading_collapsed": true,
    "hidden": true
   },
   "source": [
    "#### Dataset Player_attributes"
   ]
  },
  {
   "cell_type": "code",
   "execution_count": 18,
   "id": "d165bed5",
   "metadata": {
    "ExecuteTime": {
     "end_time": "2022-02-17T18:26:20.655720Z",
     "start_time": "2022-02-17T18:26:19.180478Z"
    },
    "hidden": true
   },
   "outputs": [],
   "source": [
    "df_player_attributes = pd.read_csv(\"player_attributes.csv\")"
   ]
  },
  {
   "cell_type": "code",
   "execution_count": 19,
   "id": "22801bfe",
   "metadata": {
    "ExecuteTime": {
     "end_time": "2022-02-17T18:26:20.702073Z",
     "start_time": "2022-02-17T18:26:20.659563Z"
    },
    "hidden": true,
    "scrolled": true
   },
   "outputs": [
    {
     "data": {
      "text/html": [
       "<div>\n",
       "<style scoped>\n",
       "    .dataframe tbody tr th:only-of-type {\n",
       "        vertical-align: middle;\n",
       "    }\n",
       "\n",
       "    .dataframe tbody tr th {\n",
       "        vertical-align: top;\n",
       "    }\n",
       "\n",
       "    .dataframe thead th {\n",
       "        text-align: right;\n",
       "    }\n",
       "</style>\n",
       "<table border=\"1\" class=\"dataframe\">\n",
       "  <thead>\n",
       "    <tr style=\"text-align: right;\">\n",
       "      <th></th>\n",
       "      <th>id</th>\n",
       "      <th>player_fifa_api_id</th>\n",
       "      <th>player_api_id</th>\n",
       "      <th>date</th>\n",
       "      <th>overall_rating</th>\n",
       "      <th>potential</th>\n",
       "      <th>preferred_foot</th>\n",
       "      <th>attacking_work_rate</th>\n",
       "      <th>defensive_work_rate</th>\n",
       "      <th>crossing</th>\n",
       "      <th>...</th>\n",
       "      <th>vision</th>\n",
       "      <th>penalties</th>\n",
       "      <th>marking</th>\n",
       "      <th>standing_tackle</th>\n",
       "      <th>sliding_tackle</th>\n",
       "      <th>gk_diving</th>\n",
       "      <th>gk_handling</th>\n",
       "      <th>gk_kicking</th>\n",
       "      <th>gk_positioning</th>\n",
       "      <th>gk_reflexes</th>\n",
       "    </tr>\n",
       "  </thead>\n",
       "  <tbody>\n",
       "    <tr>\n",
       "      <th>0</th>\n",
       "      <td>1</td>\n",
       "      <td>218353</td>\n",
       "      <td>505942</td>\n",
       "      <td>2016-02-18 00:00:00</td>\n",
       "      <td>67.0</td>\n",
       "      <td>71.0</td>\n",
       "      <td>right</td>\n",
       "      <td>medium</td>\n",
       "      <td>medium</td>\n",
       "      <td>49.0</td>\n",
       "      <td>...</td>\n",
       "      <td>54.0</td>\n",
       "      <td>48.0</td>\n",
       "      <td>65.0</td>\n",
       "      <td>69.0</td>\n",
       "      <td>69.0</td>\n",
       "      <td>6.0</td>\n",
       "      <td>11.0</td>\n",
       "      <td>10.0</td>\n",
       "      <td>8.0</td>\n",
       "      <td>8.0</td>\n",
       "    </tr>\n",
       "    <tr>\n",
       "      <th>1</th>\n",
       "      <td>2</td>\n",
       "      <td>218353</td>\n",
       "      <td>505942</td>\n",
       "      <td>2015-11-19 00:00:00</td>\n",
       "      <td>67.0</td>\n",
       "      <td>71.0</td>\n",
       "      <td>right</td>\n",
       "      <td>medium</td>\n",
       "      <td>medium</td>\n",
       "      <td>49.0</td>\n",
       "      <td>...</td>\n",
       "      <td>54.0</td>\n",
       "      <td>48.0</td>\n",
       "      <td>65.0</td>\n",
       "      <td>69.0</td>\n",
       "      <td>69.0</td>\n",
       "      <td>6.0</td>\n",
       "      <td>11.0</td>\n",
       "      <td>10.0</td>\n",
       "      <td>8.0</td>\n",
       "      <td>8.0</td>\n",
       "    </tr>\n",
       "    <tr>\n",
       "      <th>2</th>\n",
       "      <td>3</td>\n",
       "      <td>218353</td>\n",
       "      <td>505942</td>\n",
       "      <td>2015-09-21 00:00:00</td>\n",
       "      <td>62.0</td>\n",
       "      <td>66.0</td>\n",
       "      <td>right</td>\n",
       "      <td>medium</td>\n",
       "      <td>medium</td>\n",
       "      <td>49.0</td>\n",
       "      <td>...</td>\n",
       "      <td>54.0</td>\n",
       "      <td>48.0</td>\n",
       "      <td>65.0</td>\n",
       "      <td>66.0</td>\n",
       "      <td>69.0</td>\n",
       "      <td>6.0</td>\n",
       "      <td>11.0</td>\n",
       "      <td>10.0</td>\n",
       "      <td>8.0</td>\n",
       "      <td>8.0</td>\n",
       "    </tr>\n",
       "    <tr>\n",
       "      <th>3</th>\n",
       "      <td>4</td>\n",
       "      <td>218353</td>\n",
       "      <td>505942</td>\n",
       "      <td>2015-03-20 00:00:00</td>\n",
       "      <td>61.0</td>\n",
       "      <td>65.0</td>\n",
       "      <td>right</td>\n",
       "      <td>medium</td>\n",
       "      <td>medium</td>\n",
       "      <td>48.0</td>\n",
       "      <td>...</td>\n",
       "      <td>53.0</td>\n",
       "      <td>47.0</td>\n",
       "      <td>62.0</td>\n",
       "      <td>63.0</td>\n",
       "      <td>66.0</td>\n",
       "      <td>5.0</td>\n",
       "      <td>10.0</td>\n",
       "      <td>9.0</td>\n",
       "      <td>7.0</td>\n",
       "      <td>7.0</td>\n",
       "    </tr>\n",
       "    <tr>\n",
       "      <th>4</th>\n",
       "      <td>5</td>\n",
       "      <td>218353</td>\n",
       "      <td>505942</td>\n",
       "      <td>2007-02-22 00:00:00</td>\n",
       "      <td>61.0</td>\n",
       "      <td>65.0</td>\n",
       "      <td>right</td>\n",
       "      <td>medium</td>\n",
       "      <td>medium</td>\n",
       "      <td>48.0</td>\n",
       "      <td>...</td>\n",
       "      <td>53.0</td>\n",
       "      <td>47.0</td>\n",
       "      <td>62.0</td>\n",
       "      <td>63.0</td>\n",
       "      <td>66.0</td>\n",
       "      <td>5.0</td>\n",
       "      <td>10.0</td>\n",
       "      <td>9.0</td>\n",
       "      <td>7.0</td>\n",
       "      <td>7.0</td>\n",
       "    </tr>\n",
       "  </tbody>\n",
       "</table>\n",
       "<p>5 rows × 42 columns</p>\n",
       "</div>"
      ],
      "text/plain": [
       "   id  player_fifa_api_id  player_api_id                 date  overall_rating  \\\n",
       "0   1              218353         505942  2016-02-18 00:00:00            67.0   \n",
       "1   2              218353         505942  2015-11-19 00:00:00            67.0   \n",
       "2   3              218353         505942  2015-09-21 00:00:00            62.0   \n",
       "3   4              218353         505942  2015-03-20 00:00:00            61.0   \n",
       "4   5              218353         505942  2007-02-22 00:00:00            61.0   \n",
       "\n",
       "   potential preferred_foot attacking_work_rate defensive_work_rate  crossing  \\\n",
       "0       71.0          right              medium              medium      49.0   \n",
       "1       71.0          right              medium              medium      49.0   \n",
       "2       66.0          right              medium              medium      49.0   \n",
       "3       65.0          right              medium              medium      48.0   \n",
       "4       65.0          right              medium              medium      48.0   \n",
       "\n",
       "   ...  vision  penalties  marking  standing_tackle  sliding_tackle  \\\n",
       "0  ...    54.0       48.0     65.0             69.0            69.0   \n",
       "1  ...    54.0       48.0     65.0             69.0            69.0   \n",
       "2  ...    54.0       48.0     65.0             66.0            69.0   \n",
       "3  ...    53.0       47.0     62.0             63.0            66.0   \n",
       "4  ...    53.0       47.0     62.0             63.0            66.0   \n",
       "\n",
       "   gk_diving  gk_handling  gk_kicking  gk_positioning  gk_reflexes  \n",
       "0        6.0         11.0        10.0             8.0          8.0  \n",
       "1        6.0         11.0        10.0             8.0          8.0  \n",
       "2        6.0         11.0        10.0             8.0          8.0  \n",
       "3        5.0         10.0         9.0             7.0          7.0  \n",
       "4        5.0         10.0         9.0             7.0          7.0  \n",
       "\n",
       "[5 rows x 42 columns]"
      ]
     },
     "execution_count": 19,
     "metadata": {},
     "output_type": "execute_result"
    }
   ],
   "source": [
    "df_player_attributes.head()"
   ]
  },
  {
   "cell_type": "code",
   "execution_count": 20,
   "id": "e6116763",
   "metadata": {
    "ExecuteTime": {
     "end_time": "2022-02-17T18:26:20.810023Z",
     "start_time": "2022-02-17T18:26:20.705036Z"
    },
    "hidden": true
   },
   "outputs": [
    {
     "name": "stdout",
     "output_type": "stream",
     "text": [
      "<class 'pandas.core.frame.DataFrame'>\n",
      "RangeIndex: 183978 entries, 0 to 183977\n",
      "Data columns (total 42 columns):\n",
      " #   Column               Non-Null Count   Dtype  \n",
      "---  ------               --------------   -----  \n",
      " 0   id                   183978 non-null  int64  \n",
      " 1   player_fifa_api_id   183978 non-null  int64  \n",
      " 2   player_api_id        183978 non-null  int64  \n",
      " 3   date                 183978 non-null  object \n",
      " 4   overall_rating       183142 non-null  float64\n",
      " 5   potential            183142 non-null  float64\n",
      " 6   preferred_foot       183142 non-null  object \n",
      " 7   attacking_work_rate  180748 non-null  object \n",
      " 8   defensive_work_rate  183142 non-null  object \n",
      " 9   crossing             183142 non-null  float64\n",
      " 10  finishing            183142 non-null  float64\n",
      " 11  heading_accuracy     183142 non-null  float64\n",
      " 12  short_passing        183142 non-null  float64\n",
      " 13  volleys              181265 non-null  float64\n",
      " 14  dribbling            183142 non-null  float64\n",
      " 15  curve                181265 non-null  float64\n",
      " 16  free_kick_accuracy   183142 non-null  float64\n",
      " 17  long_passing         183142 non-null  float64\n",
      " 18  ball_control         183142 non-null  float64\n",
      " 19  acceleration         183142 non-null  float64\n",
      " 20  sprint_speed         183142 non-null  float64\n",
      " 21  agility              181265 non-null  float64\n",
      " 22  reactions            183142 non-null  float64\n",
      " 23  balance              181265 non-null  float64\n",
      " 24  shot_power           183142 non-null  float64\n",
      " 25  jumping              181265 non-null  float64\n",
      " 26  stamina              183142 non-null  float64\n",
      " 27  strength             183142 non-null  float64\n",
      " 28  long_shots           183142 non-null  float64\n",
      " 29  aggression           183142 non-null  float64\n",
      " 30  interceptions        183142 non-null  float64\n",
      " 31  positioning          183142 non-null  float64\n",
      " 32  vision               181265 non-null  float64\n",
      " 33  penalties            183142 non-null  float64\n",
      " 34  marking              183142 non-null  float64\n",
      " 35  standing_tackle      183142 non-null  float64\n",
      " 36  sliding_tackle       181265 non-null  float64\n",
      " 37  gk_diving            183142 non-null  float64\n",
      " 38  gk_handling          183142 non-null  float64\n",
      " 39  gk_kicking           183142 non-null  float64\n",
      " 40  gk_positioning       183142 non-null  float64\n",
      " 41  gk_reflexes          183142 non-null  float64\n",
      "dtypes: float64(35), int64(3), object(4)\n",
      "memory usage: 59.0+ MB\n"
     ]
    }
   ],
   "source": [
    "df_player_attributes.info()"
   ]
  },
  {
   "cell_type": "code",
   "execution_count": 21,
   "id": "a2052d12",
   "metadata": {
    "ExecuteTime": {
     "end_time": "2022-02-17T18:26:21.104819Z",
     "start_time": "2022-02-17T18:26:20.813788Z"
    },
    "hidden": true
   },
   "outputs": [
    {
     "data": {
      "text/plain": [
       "id                     183978\n",
       "player_fifa_api_id      11062\n",
       "player_api_id           11060\n",
       "date                      197\n",
       "overall_rating             61\n",
       "potential                  56\n",
       "preferred_foot              2\n",
       "attacking_work_rate         8\n",
       "defensive_work_rate        19\n",
       "crossing                   95\n",
       "finishing                  97\n",
       "heading_accuracy           96\n",
       "short_passing              95\n",
       "volleys                    93\n",
       "dribbling                  97\n",
       "curve                      92\n",
       "free_kick_accuracy         97\n",
       "long_passing               95\n",
       "ball_control               93\n",
       "acceleration               86\n",
       "sprint_speed               85\n",
       "agility                    81\n",
       "reactions                  78\n",
       "balance                    81\n",
       "shot_power                 96\n",
       "jumping                    79\n",
       "stamina                    84\n",
       "strength                   82\n",
       "long_shots                 96\n",
       "aggression                 91\n",
       "interceptions              96\n",
       "positioning                95\n",
       "vision                     97\n",
       "penalties                  94\n",
       "marking                    95\n",
       "standing_tackle            95\n",
       "sliding_tackle             94\n",
       "gk_diving                  93\n",
       "gk_handling                90\n",
       "gk_kicking                 97\n",
       "gk_positioning             94\n",
       "gk_reflexes                92\n",
       "dtype: int64"
      ]
     },
     "execution_count": 21,
     "metadata": {},
     "output_type": "execute_result"
    }
   ],
   "source": [
    "df_player_attributes.nunique()"
   ]
  },
  {
   "cell_type": "markdown",
   "id": "462c8827",
   "metadata": {
    "hidden": true
   },
   "source": [
    "   Ao analisar os valores únicos do dataset df_player_attributes, percebeu-se que os dados dos atributos dos jogadores foram registrados numa evolução ao longo do tempo.\n",
    "   Observando o gráfico abaixo (Figura 1), é possível visualizar que a distribuição da quantidade de registros por ano não segue um padrão definido, sendo plausível deduzir que a coleta dos dados não seguiu uma única metodologia durante o período.\n",
    "\n",
    "   Portanto, para simplificar a análise, decidiu-se desconsiderar a evolução histórica de tais características, usando em seu lugar apenas média de cada atributo."
   ]
  },
  {
   "cell_type": "code",
   "execution_count": 22,
   "id": "1c0847c3",
   "metadata": {
    "ExecuteTime": {
     "end_time": "2022-02-17T18:26:21.709771Z",
     "start_time": "2022-02-17T18:26:21.106335Z"
    },
    "hidden": true
   },
   "outputs": [
    {
     "data": {
      "image/png": "[encoded data removed]",
      "text/plain": [
       "<Figure size 432x288 with 1 Axes>"
      ]
     },
     "metadata": {
      "needs_background": "light"
     },
     "output_type": "display_data"
    }
   ],
   "source": [
    "df_player_attributes[\"date\"] = pd.to_datetime(df_player_attributes.date.astype(\"str\").str.slice(0, 10)) \n",
    "plt.scatter(df_player_attributes[\"date\"].value_counts().index, df_player_attributes[\"date\"].value_counts().values)\n",
    "plt.title(\"Figura 1\\n\") \n",
    "plt.xlabel(\"\\nData de Registro dos Dados\")\n",
    "plt.ylabel(\"Quantidade de Registros por Data\")\n",
    "plt.show()"
   ]
  },
  {
   "cell_type": "markdown",
   "id": "100ba869",
   "metadata": {
    "hidden": true
   },
   "source": [
    "Desconsiderando da tabela df_player_attributes os campos de identificação (exceto o que será usado para mesclar os dados), a data e outras variáveis categóricas."
   ]
  },
  {
   "cell_type": "code",
   "execution_count": 23,
   "id": "0f3b818a",
   "metadata": {
    "ExecuteTime": {
     "end_time": "2022-02-17T18:26:21.755636Z",
     "start_time": "2022-02-17T18:26:21.712826Z"
    },
    "hidden": true
   },
   "outputs": [],
   "source": [
    "df_player_attributes = df_player_attributes.drop(columns=[\"id\", \"player_fifa_api_id\", \"date\", \"preferred_foot\", \"attacking_work_rate\", \"defensive_work_rate\" ])"
   ]
  },
  {
   "cell_type": "markdown",
   "id": "1fa44a7d",
   "metadata": {
    "hidden": true
   },
   "source": [
    "Agrupando os atributos dos jogadores pela média de cada player."
   ]
  },
  {
   "cell_type": "code",
   "execution_count": 24,
   "id": "6b5dba50",
   "metadata": {
    "ExecuteTime": {
     "end_time": "2022-02-17T18:26:21.959375Z",
     "start_time": "2022-02-17T18:26:21.758225Z"
    },
    "hidden": true
   },
   "outputs": [
    {
     "data": {
      "text/html": [
       "<div>\n",
       "<style scoped>\n",
       "    .dataframe tbody tr th:only-of-type {\n",
       "        vertical-align: middle;\n",
       "    }\n",
       "\n",
       "    .dataframe tbody tr th {\n",
       "        vertical-align: top;\n",
       "    }\n",
       "\n",
       "    .dataframe thead th {\n",
       "        text-align: right;\n",
       "    }\n",
       "</style>\n",
       "<table border=\"1\" class=\"dataframe\">\n",
       "  <thead>\n",
       "    <tr style=\"text-align: right;\">\n",
       "      <th></th>\n",
       "      <th>player_api_id</th>\n",
       "      <th>overall_rating</th>\n",
       "      <th>potential</th>\n",
       "      <th>crossing</th>\n",
       "      <th>finishing</th>\n",
       "      <th>heading_accuracy</th>\n",
       "      <th>short_passing</th>\n",
       "      <th>volleys</th>\n",
       "      <th>dribbling</th>\n",
       "      <th>curve</th>\n",
       "      <th>...</th>\n",
       "      <th>vision</th>\n",
       "      <th>penalties</th>\n",
       "      <th>marking</th>\n",
       "      <th>standing_tackle</th>\n",
       "      <th>sliding_tackle</th>\n",
       "      <th>gk_diving</th>\n",
       "      <th>gk_handling</th>\n",
       "      <th>gk_kicking</th>\n",
       "      <th>gk_positioning</th>\n",
       "      <th>gk_reflexes</th>\n",
       "    </tr>\n",
       "  </thead>\n",
       "  <tbody>\n",
       "    <tr>\n",
       "      <th>0</th>\n",
       "      <td>2625</td>\n",
       "      <td>60.142857</td>\n",
       "      <td>61.142857</td>\n",
       "      <td>50.142857</td>\n",
       "      <td>47.285714</td>\n",
       "      <td>46.285714</td>\n",
       "      <td>56.500000</td>\n",
       "      <td>38.000000</td>\n",
       "      <td>54.142857</td>\n",
       "      <td>50.000000</td>\n",
       "      <td>...</td>\n",
       "      <td>55.285714</td>\n",
       "      <td>61.928571</td>\n",
       "      <td>62.928571</td>\n",
       "      <td>63.857143</td>\n",
       "      <td>56.571429</td>\n",
       "      <td>12.428571</td>\n",
       "      <td>12.857143</td>\n",
       "      <td>19.071429</td>\n",
       "      <td>10.357143</td>\n",
       "      <td>10.428571</td>\n",
       "    </tr>\n",
       "    <tr>\n",
       "      <th>1</th>\n",
       "      <td>2752</td>\n",
       "      <td>69.380952</td>\n",
       "      <td>70.380952</td>\n",
       "      <td>36.428571</td>\n",
       "      <td>37.428571</td>\n",
       "      <td>75.333333</td>\n",
       "      <td>54.809524</td>\n",
       "      <td>20.428571</td>\n",
       "      <td>44.857143</td>\n",
       "      <td>30.428571</td>\n",
       "      <td>...</td>\n",
       "      <td>52.428571</td>\n",
       "      <td>35.428571</td>\n",
       "      <td>71.095238</td>\n",
       "      <td>70.666667</td>\n",
       "      <td>65.571429</td>\n",
       "      <td>11.095238</td>\n",
       "      <td>6.095238</td>\n",
       "      <td>7.095238</td>\n",
       "      <td>9.095238</td>\n",
       "      <td>15.095238</td>\n",
       "    </tr>\n",
       "    <tr>\n",
       "      <th>2</th>\n",
       "      <td>2768</td>\n",
       "      <td>69.285714</td>\n",
       "      <td>70.571429</td>\n",
       "      <td>42.238095</td>\n",
       "      <td>42.761905</td>\n",
       "      <td>66.666667</td>\n",
       "      <td>64.714286</td>\n",
       "      <td>28.761905</td>\n",
       "      <td>40.238095</td>\n",
       "      <td>51.761905</td>\n",
       "      <td>...</td>\n",
       "      <td>57.761905</td>\n",
       "      <td>31.904762</td>\n",
       "      <td>71.666667</td>\n",
       "      <td>70.619048</td>\n",
       "      <td>79.714286</td>\n",
       "      <td>10.761905</td>\n",
       "      <td>15.904762</td>\n",
       "      <td>22.714286</td>\n",
       "      <td>15.142857</td>\n",
       "      <td>12.095238</td>\n",
       "    </tr>\n",
       "    <tr>\n",
       "      <th>3</th>\n",
       "      <td>2770</td>\n",
       "      <td>71.133333</td>\n",
       "      <td>73.533333</td>\n",
       "      <td>61.866667</td>\n",
       "      <td>67.666667</td>\n",
       "      <td>67.800000</td>\n",
       "      <td>72.533333</td>\n",
       "      <td>67.133333</td>\n",
       "      <td>75.066667</td>\n",
       "      <td>79.800000</td>\n",
       "      <td>...</td>\n",
       "      <td>71.600000</td>\n",
       "      <td>63.933333</td>\n",
       "      <td>30.200000</td>\n",
       "      <td>37.533333</td>\n",
       "      <td>25.000000</td>\n",
       "      <td>8.666667</td>\n",
       "      <td>15.666667</td>\n",
       "      <td>27.200000</td>\n",
       "      <td>16.333333</td>\n",
       "      <td>17.000000</td>\n",
       "    </tr>\n",
       "    <tr>\n",
       "      <th>4</th>\n",
       "      <td>2790</td>\n",
       "      <td>70.200000</td>\n",
       "      <td>75.800000</td>\n",
       "      <td>70.000000</td>\n",
       "      <td>37.400000</td>\n",
       "      <td>55.200000</td>\n",
       "      <td>68.000000</td>\n",
       "      <td>43.000000</td>\n",
       "      <td>60.800000</td>\n",
       "      <td>67.000000</td>\n",
       "      <td>...</td>\n",
       "      <td>60.000000</td>\n",
       "      <td>55.400000</td>\n",
       "      <td>74.600000</td>\n",
       "      <td>74.600000</td>\n",
       "      <td>69.000000</td>\n",
       "      <td>8.000000</td>\n",
       "      <td>17.000000</td>\n",
       "      <td>59.000000</td>\n",
       "      <td>16.600000</td>\n",
       "      <td>17.400000</td>\n",
       "    </tr>\n",
       "  </tbody>\n",
       "</table>\n",
       "<p>5 rows × 36 columns</p>\n",
       "</div>"
      ],
      "text/plain": [
       "   player_api_id  overall_rating  potential   crossing  finishing  \\\n",
       "0           2625       60.142857  61.142857  50.142857  47.285714   \n",
       "1           2752       69.380952  70.380952  36.428571  37.428571   \n",
       "2           2768       69.285714  70.571429  42.238095  42.761905   \n",
       "3           2770       71.133333  73.533333  61.866667  67.666667   \n",
       "4           2790       70.200000  75.800000  70.000000  37.400000   \n",
       "\n",
       "   heading_accuracy  short_passing    volleys  dribbling      curve  ...  \\\n",
       "0         46.285714      56.500000  38.000000  54.142857  50.000000  ...   \n",
       "1         75.333333      54.809524  20.428571  44.857143  30.428571  ...   \n",
       "2         66.666667      64.714286  28.761905  40.238095  51.761905  ...   \n",
       "3         67.800000      72.533333  67.133333  75.066667  79.800000  ...   \n",
       "4         55.200000      68.000000  43.000000  60.800000  67.000000  ...   \n",
       "\n",
       "      vision  penalties    marking  standing_tackle  sliding_tackle  \\\n",
       "0  55.285714  61.928571  62.928571        63.857143       56.571429   \n",
       "1  52.428571  35.428571  71.095238        70.666667       65.571429   \n",
       "2  57.761905  31.904762  71.666667        70.619048       79.714286   \n",
       "3  71.600000  63.933333  30.200000        37.533333       25.000000   \n",
       "4  60.000000  55.400000  74.600000        74.600000       69.000000   \n",
       "\n",
       "   gk_diving  gk_handling  gk_kicking  gk_positioning  gk_reflexes  \n",
       "0  12.428571    12.857143   19.071429       10.357143    10.428571  \n",
       "1  11.095238     6.095238    7.095238        9.095238    15.095238  \n",
       "2  10.761905    15.904762   22.714286       15.142857    12.095238  \n",
       "3   8.666667    15.666667   27.200000       16.333333    17.000000  \n",
       "4   8.000000    17.000000   59.000000       16.600000    17.400000  \n",
       "\n",
       "[5 rows x 36 columns]"
      ]
     },
     "execution_count": 24,
     "metadata": {},
     "output_type": "execute_result"
    }
   ],
   "source": [
    "df_player_attributes = df_player_attributes.groupby(by=\"player_api_id\", as_index=False).mean()\n",
    "df_player_attributes.head()"
   ]
  },
  {
   "cell_type": "markdown",
   "id": "9f34cee0",
   "metadata": {
    "heading_collapsed": true,
    "hidden": true
   },
   "source": [
    "#### Dataset Team_attributes"
   ]
  },
  {
   "cell_type": "code",
   "execution_count": 25,
   "id": "1b85fac9",
   "metadata": {
    "ExecuteTime": {
     "end_time": "2022-02-17T18:26:21.990520Z",
     "start_time": "2022-02-17T18:26:21.963374Z"
    },
    "hidden": true
   },
   "outputs": [],
   "source": [
    "df_team_attributes = pd.read_csv(\"team_attributes.csv\")"
   ]
  },
  {
   "cell_type": "code",
   "execution_count": 26,
   "id": "d5f6f300",
   "metadata": {
    "ExecuteTime": {
     "end_time": "2022-02-17T18:26:22.036286Z",
     "start_time": "2022-02-17T18:26:21.992379Z"
    },
    "hidden": true
   },
   "outputs": [
    {
     "data": {
      "text/html": [
       "<div>\n",
       "<style scoped>\n",
       "    .dataframe tbody tr th:only-of-type {\n",
       "        vertical-align: middle;\n",
       "    }\n",
       "\n",
       "    .dataframe tbody tr th {\n",
       "        vertical-align: top;\n",
       "    }\n",
       "\n",
       "    .dataframe thead th {\n",
       "        text-align: right;\n",
       "    }\n",
       "</style>\n",
       "<table border=\"1\" class=\"dataframe\">\n",
       "  <thead>\n",
       "    <tr style=\"text-align: right;\">\n",
       "      <th></th>\n",
       "      <th>id</th>\n",
       "      <th>team_fifa_api_id</th>\n",
       "      <th>team_api_id</th>\n",
       "      <th>date</th>\n",
       "      <th>buildUpPlaySpeed</th>\n",
       "      <th>buildUpPlaySpeedClass</th>\n",
       "      <th>buildUpPlayDribbling</th>\n",
       "      <th>buildUpPlayDribblingClass</th>\n",
       "      <th>buildUpPlayPassing</th>\n",
       "      <th>buildUpPlayPassingClass</th>\n",
       "      <th>...</th>\n",
       "      <th>chanceCreationShooting</th>\n",
       "      <th>chanceCreationShootingClass</th>\n",
       "      <th>chanceCreationPositioningClass</th>\n",
       "      <th>defencePressure</th>\n",
       "      <th>defencePressureClass</th>\n",
       "      <th>defenceAggression</th>\n",
       "      <th>defenceAggressionClass</th>\n",
       "      <th>defenceTeamWidth</th>\n",
       "      <th>defenceTeamWidthClass</th>\n",
       "      <th>defenceDefenderLineClass</th>\n",
       "    </tr>\n",
       "  </thead>\n",
       "  <tbody>\n",
       "    <tr>\n",
       "      <th>0</th>\n",
       "      <td>1</td>\n",
       "      <td>434</td>\n",
       "      <td>9930</td>\n",
       "      <td>2010-02-22 00:00:00</td>\n",
       "      <td>60</td>\n",
       "      <td>Balanced</td>\n",
       "      <td>NaN</td>\n",
       "      <td>Little</td>\n",
       "      <td>50</td>\n",
       "      <td>Mixed</td>\n",
       "      <td>...</td>\n",
       "      <td>55</td>\n",
       "      <td>Normal</td>\n",
       "      <td>Organised</td>\n",
       "      <td>50</td>\n",
       "      <td>Medium</td>\n",
       "      <td>55</td>\n",
       "      <td>Press</td>\n",
       "      <td>45</td>\n",
       "      <td>Normal</td>\n",
       "      <td>Cover</td>\n",
       "    </tr>\n",
       "    <tr>\n",
       "      <th>1</th>\n",
       "      <td>2</td>\n",
       "      <td>434</td>\n",
       "      <td>9930</td>\n",
       "      <td>2014-09-19 00:00:00</td>\n",
       "      <td>52</td>\n",
       "      <td>Balanced</td>\n",
       "      <td>48.0</td>\n",
       "      <td>Normal</td>\n",
       "      <td>56</td>\n",
       "      <td>Mixed</td>\n",
       "      <td>...</td>\n",
       "      <td>64</td>\n",
       "      <td>Normal</td>\n",
       "      <td>Organised</td>\n",
       "      <td>47</td>\n",
       "      <td>Medium</td>\n",
       "      <td>44</td>\n",
       "      <td>Press</td>\n",
       "      <td>54</td>\n",
       "      <td>Normal</td>\n",
       "      <td>Cover</td>\n",
       "    </tr>\n",
       "    <tr>\n",
       "      <th>2</th>\n",
       "      <td>3</td>\n",
       "      <td>434</td>\n",
       "      <td>9930</td>\n",
       "      <td>2015-09-10 00:00:00</td>\n",
       "      <td>47</td>\n",
       "      <td>Balanced</td>\n",
       "      <td>41.0</td>\n",
       "      <td>Normal</td>\n",
       "      <td>54</td>\n",
       "      <td>Mixed</td>\n",
       "      <td>...</td>\n",
       "      <td>64</td>\n",
       "      <td>Normal</td>\n",
       "      <td>Organised</td>\n",
       "      <td>47</td>\n",
       "      <td>Medium</td>\n",
       "      <td>44</td>\n",
       "      <td>Press</td>\n",
       "      <td>54</td>\n",
       "      <td>Normal</td>\n",
       "      <td>Cover</td>\n",
       "    </tr>\n",
       "    <tr>\n",
       "      <th>3</th>\n",
       "      <td>4</td>\n",
       "      <td>77</td>\n",
       "      <td>8485</td>\n",
       "      <td>2010-02-22 00:00:00</td>\n",
       "      <td>70</td>\n",
       "      <td>Fast</td>\n",
       "      <td>NaN</td>\n",
       "      <td>Little</td>\n",
       "      <td>70</td>\n",
       "      <td>Long</td>\n",
       "      <td>...</td>\n",
       "      <td>70</td>\n",
       "      <td>Lots</td>\n",
       "      <td>Organised</td>\n",
       "      <td>60</td>\n",
       "      <td>Medium</td>\n",
       "      <td>70</td>\n",
       "      <td>Double</td>\n",
       "      <td>70</td>\n",
       "      <td>Wide</td>\n",
       "      <td>Cover</td>\n",
       "    </tr>\n",
       "    <tr>\n",
       "      <th>4</th>\n",
       "      <td>5</td>\n",
       "      <td>77</td>\n",
       "      <td>8485</td>\n",
       "      <td>2011-02-22 00:00:00</td>\n",
       "      <td>47</td>\n",
       "      <td>Balanced</td>\n",
       "      <td>NaN</td>\n",
       "      <td>Little</td>\n",
       "      <td>52</td>\n",
       "      <td>Mixed</td>\n",
       "      <td>...</td>\n",
       "      <td>52</td>\n",
       "      <td>Normal</td>\n",
       "      <td>Organised</td>\n",
       "      <td>47</td>\n",
       "      <td>Medium</td>\n",
       "      <td>47</td>\n",
       "      <td>Press</td>\n",
       "      <td>52</td>\n",
       "      <td>Normal</td>\n",
       "      <td>Cover</td>\n",
       "    </tr>\n",
       "  </tbody>\n",
       "</table>\n",
       "<p>5 rows × 25 columns</p>\n",
       "</div>"
      ],
      "text/plain": [
       "   id  team_fifa_api_id  team_api_id                 date  buildUpPlaySpeed  \\\n",
       "0   1               434         9930  2010-02-22 00:00:00                60   \n",
       "1   2               434         9930  2014-09-19 00:00:00                52   \n",
       "2   3               434         9930  2015-09-10 00:00:00                47   \n",
       "3   4                77         8485  2010-02-22 00:00:00                70   \n",
       "4   5                77         8485  2011-02-22 00:00:00                47   \n",
       "\n",
       "  buildUpPlaySpeedClass  buildUpPlayDribbling buildUpPlayDribblingClass  \\\n",
       "0              Balanced                   NaN                    Little   \n",
       "1              Balanced                  48.0                    Normal   \n",
       "2              Balanced                  41.0                    Normal   \n",
       "3                  Fast                   NaN                    Little   \n",
       "4              Balanced                   NaN                    Little   \n",
       "\n",
       "   buildUpPlayPassing buildUpPlayPassingClass  ... chanceCreationShooting  \\\n",
       "0                  50                   Mixed  ...                     55   \n",
       "1                  56                   Mixed  ...                     64   \n",
       "2                  54                   Mixed  ...                     64   \n",
       "3                  70                    Long  ...                     70   \n",
       "4                  52                   Mixed  ...                     52   \n",
       "\n",
       "   chanceCreationShootingClass chanceCreationPositioningClass  \\\n",
       "0                       Normal                      Organised   \n",
       "1                       Normal                      Organised   \n",
       "2                       Normal                      Organised   \n",
       "3                         Lots                      Organised   \n",
       "4                       Normal                      Organised   \n",
       "\n",
       "   defencePressure defencePressureClass  defenceAggression  \\\n",
       "0               50               Medium                 55   \n",
       "1               47               Medium                 44   \n",
       "2               47               Medium                 44   \n",
       "3               60               Medium                 70   \n",
       "4               47               Medium                 47   \n",
       "\n",
       "  defenceAggressionClass defenceTeamWidth  defenceTeamWidthClass  \\\n",
       "0                  Press               45                 Normal   \n",
       "1                  Press               54                 Normal   \n",
       "2                  Press               54                 Normal   \n",
       "3                 Double               70                   Wide   \n",
       "4                  Press               52                 Normal   \n",
       "\n",
       "  defenceDefenderLineClass  \n",
       "0                    Cover  \n",
       "1                    Cover  \n",
       "2                    Cover  \n",
       "3                    Cover  \n",
       "4                    Cover  \n",
       "\n",
       "[5 rows x 25 columns]"
      ]
     },
     "execution_count": 26,
     "metadata": {},
     "output_type": "execute_result"
    }
   ],
   "source": [
    "df_team_attributes.head()"
   ]
  },
  {
   "cell_type": "code",
   "execution_count": 27,
   "id": "cca2df8a",
   "metadata": {
    "ExecuteTime": {
     "end_time": "2022-02-17T18:26:22.067983Z",
     "start_time": "2022-02-17T18:26:22.040421Z"
    },
    "hidden": true
   },
   "outputs": [
    {
     "name": "stdout",
     "output_type": "stream",
     "text": [
      "<class 'pandas.core.frame.DataFrame'>\n",
      "RangeIndex: 1458 entries, 0 to 1457\n",
      "Data columns (total 25 columns):\n",
      " #   Column                          Non-Null Count  Dtype  \n",
      "---  ------                          --------------  -----  \n",
      " 0   id                              1458 non-null   int64  \n",
      " 1   team_fifa_api_id                1458 non-null   int64  \n",
      " 2   team_api_id                     1458 non-null   int64  \n",
      " 3   date                            1458 non-null   object \n",
      " 4   buildUpPlaySpeed                1458 non-null   int64  \n",
      " 5   buildUpPlaySpeedClass           1458 non-null   object \n",
      " 6   buildUpPlayDribbling            489 non-null    float64\n",
      " 7   buildUpPlayDribblingClass       1458 non-null   object \n",
      " 8   buildUpPlayPassing              1458 non-null   int64  \n",
      " 9   buildUpPlayPassingClass         1458 non-null   object \n",
      " 10  buildUpPlayPositioningClass     1458 non-null   object \n",
      " 11  chanceCreationPassing           1458 non-null   int64  \n",
      " 12  chanceCreationPassingClass      1458 non-null   object \n",
      " 13  chanceCreationCrossing          1458 non-null   int64  \n",
      " 14  chanceCreationCrossingClass     1458 non-null   object \n",
      " 15  chanceCreationShooting          1458 non-null   int64  \n",
      " 16  chanceCreationShootingClass     1458 non-null   object \n",
      " 17  chanceCreationPositioningClass  1458 non-null   object \n",
      " 18  defencePressure                 1458 non-null   int64  \n",
      " 19  defencePressureClass            1458 non-null   object \n",
      " 20  defenceAggression               1458 non-null   int64  \n",
      " 21  defenceAggressionClass          1458 non-null   object \n",
      " 22  defenceTeamWidth                1458 non-null   int64  \n",
      " 23  defenceTeamWidthClass           1458 non-null   object \n",
      " 24  defenceDefenderLineClass        1458 non-null   object \n",
      "dtypes: float64(1), int64(11), object(13)\n",
      "memory usage: 284.9+ KB\n"
     ]
    }
   ],
   "source": [
    "df_team_attributes.info()"
   ]
  },
  {
   "cell_type": "code",
   "execution_count": 28,
   "id": "5f3064e5",
   "metadata": {
    "ExecuteTime": {
     "end_time": "2022-02-17T18:26:22.098308Z",
     "start_time": "2022-02-17T18:26:22.076995Z"
    },
    "hidden": true
   },
   "outputs": [
    {
     "data": {
      "text/plain": [
       "id                                1458\n",
       "team_fifa_api_id                   285\n",
       "team_api_id                        288\n",
       "date                                 6\n",
       "buildUpPlaySpeed                    57\n",
       "buildUpPlaySpeedClass                3\n",
       "buildUpPlayDribbling                49\n",
       "buildUpPlayDribblingClass            3\n",
       "buildUpPlayPassing                  58\n",
       "buildUpPlayPassingClass              3\n",
       "buildUpPlayPositioningClass          2\n",
       "chanceCreationPassing               50\n",
       "chanceCreationPassingClass           3\n",
       "chanceCreationCrossing              56\n",
       "chanceCreationCrossingClass          3\n",
       "chanceCreationShooting              57\n",
       "chanceCreationShootingClass          3\n",
       "chanceCreationPositioningClass       2\n",
       "defencePressure                     48\n",
       "defencePressureClass                 3\n",
       "defenceAggression                   47\n",
       "defenceAggressionClass               3\n",
       "defenceTeamWidth                    43\n",
       "defenceTeamWidthClass                3\n",
       "defenceDefenderLineClass             2\n",
       "dtype: int64"
      ]
     },
     "execution_count": 28,
     "metadata": {},
     "output_type": "execute_result"
    }
   ],
   "source": [
    "df_team_attributes.nunique()"
   ]
  },
  {
   "cell_type": "code",
   "execution_count": 29,
   "id": "4f038226",
   "metadata": {
    "ExecuteTime": {
     "end_time": "2022-02-17T18:26:22.410200Z",
     "start_time": "2022-02-17T18:26:22.100318Z"
    },
    "hidden": true
   },
   "outputs": [
    {
     "data": {
      "image/png": "[encoded data removed]",
      "text/plain": [
       "<Figure size 432x288 with 1 Axes>"
      ]
     },
     "metadata": {
      "needs_background": "light"
     },
     "output_type": "display_data"
    }
   ],
   "source": [
    "df_team_attributes[\"date\"] = pd.to_datetime(df_team_attributes.date.astype(\"str\").str.slice(0, 10)) \n",
    "plt.scatter(df_team_attributes[\"date\"].value_counts().index, df_team_attributes[\"date\"].value_counts().values)\n",
    "plt.title(\"Figura 2\\n\") \n",
    "plt.xlabel(\"\\nData de Registro dos Dados\")\n",
    "plt.ylabel(\"Quantidade de Registros por Data\")\n",
    "plt.show()"
   ]
  },
  {
   "cell_type": "markdown",
   "id": "e70787c6",
   "metadata": {
    "hidden": true
   },
   "source": [
    "Os dados do dataset df_team_attributes, assim como no dataset df_player_attributes, foram registrados mais de uma vez num intervalo de tempo (como pode ser visto na Figura 2), portanto será tratado da mesma forma, usando em seu lugar apenas média de cada atributo da tabela."
   ]
  },
  {
   "cell_type": "code",
   "execution_count": 30,
   "id": "7c4021b1",
   "metadata": {
    "ExecuteTime": {
     "end_time": "2022-02-17T18:26:22.426232Z",
     "start_time": "2022-02-17T18:26:22.412108Z"
    },
    "hidden": true
   },
   "outputs": [
    {
     "name": "stdout",
     "output_type": "stream",
     "text": [
      "33.53909465020576 %\n"
     ]
    }
   ],
   "source": [
    "print(len(df_team_attributes.buildUpPlayDribbling.dropna())/df_team_attributes.shape[0]*100 , \"%\")"
   ]
  },
  {
   "cell_type": "markdown",
   "id": "e27dd896",
   "metadata": {
    "hidden": true
   },
   "source": [
    "Desconsiderando a coluna \"buildUpPlayDribbling\" por conter apenas 33.54% de seus dados preenchidos, mantendo apenas as variáveis quantitativas da tabela df_team_attributes e o campo chave team_api_id para mesclagem dos dado."
   ]
  },
  {
   "cell_type": "code",
   "execution_count": 31,
   "id": "1de8f35c",
   "metadata": {
    "ExecuteTime": {
     "end_time": "2022-02-17T18:26:22.456882Z",
     "start_time": "2022-02-17T18:26:22.430180Z"
    },
    "hidden": true
   },
   "outputs": [
    {
     "data": {
      "text/html": [
       "<div>\n",
       "<style scoped>\n",
       "    .dataframe tbody tr th:only-of-type {\n",
       "        vertical-align: middle;\n",
       "    }\n",
       "\n",
       "    .dataframe tbody tr th {\n",
       "        vertical-align: top;\n",
       "    }\n",
       "\n",
       "    .dataframe thead th {\n",
       "        text-align: right;\n",
       "    }\n",
       "</style>\n",
       "<table border=\"1\" class=\"dataframe\">\n",
       "  <thead>\n",
       "    <tr style=\"text-align: right;\">\n",
       "      <th></th>\n",
       "      <th>team_api_id</th>\n",
       "      <th>buildUpPlaySpeed</th>\n",
       "      <th>buildUpPlayPassing</th>\n",
       "      <th>chanceCreationPassing</th>\n",
       "      <th>chanceCreationCrossing</th>\n",
       "      <th>chanceCreationShooting</th>\n",
       "      <th>defencePressure</th>\n",
       "      <th>defenceAggression</th>\n",
       "      <th>defenceTeamWidth</th>\n",
       "    </tr>\n",
       "  </thead>\n",
       "  <tbody>\n",
       "    <tr>\n",
       "      <th>0</th>\n",
       "      <td>9930</td>\n",
       "      <td>60</td>\n",
       "      <td>50</td>\n",
       "      <td>60</td>\n",
       "      <td>65</td>\n",
       "      <td>55</td>\n",
       "      <td>50</td>\n",
       "      <td>55</td>\n",
       "      <td>45</td>\n",
       "    </tr>\n",
       "    <tr>\n",
       "      <th>1</th>\n",
       "      <td>9930</td>\n",
       "      <td>52</td>\n",
       "      <td>56</td>\n",
       "      <td>54</td>\n",
       "      <td>63</td>\n",
       "      <td>64</td>\n",
       "      <td>47</td>\n",
       "      <td>44</td>\n",
       "      <td>54</td>\n",
       "    </tr>\n",
       "    <tr>\n",
       "      <th>2</th>\n",
       "      <td>9930</td>\n",
       "      <td>47</td>\n",
       "      <td>54</td>\n",
       "      <td>54</td>\n",
       "      <td>63</td>\n",
       "      <td>64</td>\n",
       "      <td>47</td>\n",
       "      <td>44</td>\n",
       "      <td>54</td>\n",
       "    </tr>\n",
       "    <tr>\n",
       "      <th>3</th>\n",
       "      <td>8485</td>\n",
       "      <td>70</td>\n",
       "      <td>70</td>\n",
       "      <td>70</td>\n",
       "      <td>70</td>\n",
       "      <td>70</td>\n",
       "      <td>60</td>\n",
       "      <td>70</td>\n",
       "      <td>70</td>\n",
       "    </tr>\n",
       "    <tr>\n",
       "      <th>4</th>\n",
       "      <td>8485</td>\n",
       "      <td>47</td>\n",
       "      <td>52</td>\n",
       "      <td>53</td>\n",
       "      <td>48</td>\n",
       "      <td>52</td>\n",
       "      <td>47</td>\n",
       "      <td>47</td>\n",
       "      <td>52</td>\n",
       "    </tr>\n",
       "  </tbody>\n",
       "</table>\n",
       "</div>"
      ],
      "text/plain": [
       "   team_api_id  buildUpPlaySpeed  buildUpPlayPassing  chanceCreationPassing  \\\n",
       "0         9930                60                  50                     60   \n",
       "1         9930                52                  56                     54   \n",
       "2         9930                47                  54                     54   \n",
       "3         8485                70                  70                     70   \n",
       "4         8485                47                  52                     53   \n",
       "\n",
       "   chanceCreationCrossing  chanceCreationShooting  defencePressure  \\\n",
       "0                      65                      55               50   \n",
       "1                      63                      64               47   \n",
       "2                      63                      64               47   \n",
       "3                      70                      70               60   \n",
       "4                      48                      52               47   \n",
       "\n",
       "   defenceAggression  defenceTeamWidth  \n",
       "0                 55                45  \n",
       "1                 44                54  \n",
       "2                 44                54  \n",
       "3                 70                70  \n",
       "4                 47                52  "
      ]
     },
     "execution_count": 31,
     "metadata": {},
     "output_type": "execute_result"
    }
   ],
   "source": [
    "df_team_attributes = df_team_attributes.select_dtypes(include=['number']).drop(columns=[\"id\", \"team_fifa_api_id\", \"buildUpPlayDribbling\"])\n",
    "df_team_attributes.head()"
   ]
  },
  {
   "cell_type": "code",
   "execution_count": 32,
   "id": "c8846545",
   "metadata": {
    "ExecuteTime": {
     "end_time": "2022-02-17T18:26:22.488633Z",
     "start_time": "2022-02-17T18:26:22.458842Z"
    },
    "hidden": true
   },
   "outputs": [
    {
     "name": "stdout",
     "output_type": "stream",
     "text": [
      "<class 'pandas.core.frame.DataFrame'>\n",
      "RangeIndex: 288 entries, 0 to 287\n",
      "Data columns (total 9 columns):\n",
      " #   Column                  Non-Null Count  Dtype  \n",
      "---  ------                  --------------  -----  \n",
      " 0   team_api_id             288 non-null    int64  \n",
      " 1   buildUpPlaySpeed        288 non-null    float64\n",
      " 2   buildUpPlayPassing      288 non-null    float64\n",
      " 3   chanceCreationPassing   288 non-null    float64\n",
      " 4   chanceCreationCrossing  288 non-null    float64\n",
      " 5   chanceCreationShooting  288 non-null    float64\n",
      " 6   defencePressure         288 non-null    float64\n",
      " 7   defenceAggression       288 non-null    float64\n",
      " 8   defenceTeamWidth        288 non-null    float64\n",
      "dtypes: float64(8), int64(1)\n",
      "memory usage: 20.4 KB\n"
     ]
    }
   ],
   "source": [
    "df_team_attributes = df_team_attributes.groupby(by=\"team_api_id\", as_index=False).mean() \n",
    "df_team_attributes.info() "
   ]
  },
  {
   "cell_type": "markdown",
   "id": "ce5b2799",
   "metadata": {
    "hidden": true
   },
   "source": [
    "  "
   ]
  },
  {
   "cell_type": "markdown",
   "id": "844ba44e",
   "metadata": {
    "heading_collapsed": true,
    "hidden": true
   },
   "source": [
    "### Join datasets"
   ]
  },
  {
   "cell_type": "markdown",
   "id": "9fe32efe",
   "metadata": {
    "hidden": true
   },
   "source": [
    "Mesclando os dados da tabela df_player com seus atributos de jogador."
   ]
  },
  {
   "cell_type": "code",
   "execution_count": 33,
   "id": "b429f8e3",
   "metadata": {
    "ExecuteTime": {
     "end_time": "2022-02-17T18:26:22.565776Z",
     "start_time": "2022-02-17T18:26:22.490911Z"
    },
    "hidden": true
   },
   "outputs": [
    {
     "data": {
      "text/html": [
       "<div>\n",
       "<style scoped>\n",
       "    .dataframe tbody tr th:only-of-type {\n",
       "        vertical-align: middle;\n",
       "    }\n",
       "\n",
       "    .dataframe tbody tr th {\n",
       "        vertical-align: top;\n",
       "    }\n",
       "\n",
       "    .dataframe thead th {\n",
       "        text-align: right;\n",
       "    }\n",
       "</style>\n",
       "<table border=\"1\" class=\"dataframe\">\n",
       "  <thead>\n",
       "    <tr style=\"text-align: right;\">\n",
       "      <th></th>\n",
       "      <th>id</th>\n",
       "      <th>player_api_id</th>\n",
       "      <th>player_name</th>\n",
       "      <th>player_fifa_api_id</th>\n",
       "      <th>birthday</th>\n",
       "      <th>height</th>\n",
       "      <th>weight</th>\n",
       "      <th>date_birthday</th>\n",
       "      <th>age</th>\n",
       "      <th>overall_rating</th>\n",
       "      <th>...</th>\n",
       "      <th>vision</th>\n",
       "      <th>penalties</th>\n",
       "      <th>marking</th>\n",
       "      <th>standing_tackle</th>\n",
       "      <th>sliding_tackle</th>\n",
       "      <th>gk_diving</th>\n",
       "      <th>gk_handling</th>\n",
       "      <th>gk_kicking</th>\n",
       "      <th>gk_positioning</th>\n",
       "      <th>gk_reflexes</th>\n",
       "    </tr>\n",
       "  </thead>\n",
       "  <tbody>\n",
       "    <tr>\n",
       "      <th>0</th>\n",
       "      <td>1</td>\n",
       "      <td>505942</td>\n",
       "      <td>Aaron Appindangoye</td>\n",
       "      <td>218353</td>\n",
       "      <td>1992-02-29 00:00:00</td>\n",
       "      <td>182.88</td>\n",
       "      <td>187</td>\n",
       "      <td>1992-02-29</td>\n",
       "      <td>29.968515</td>\n",
       "      <td>63.600000</td>\n",
       "      <td>...</td>\n",
       "      <td>53.600000</td>\n",
       "      <td>47.600000</td>\n",
       "      <td>63.800000</td>\n",
       "      <td>66.000000</td>\n",
       "      <td>67.800000</td>\n",
       "      <td>5.600000</td>\n",
       "      <td>10.600000</td>\n",
       "      <td>9.600000</td>\n",
       "      <td>7.600000</td>\n",
       "      <td>7.600000</td>\n",
       "    </tr>\n",
       "    <tr>\n",
       "      <th>1</th>\n",
       "      <td>2</td>\n",
       "      <td>155782</td>\n",
       "      <td>Aaron Cresswell</td>\n",
       "      <td>189615</td>\n",
       "      <td>1989-12-15 00:00:00</td>\n",
       "      <td>170.18</td>\n",
       "      <td>146</td>\n",
       "      <td>1989-12-15</td>\n",
       "      <td>32.175222</td>\n",
       "      <td>66.969697</td>\n",
       "      <td>...</td>\n",
       "      <td>57.454545</td>\n",
       "      <td>53.121212</td>\n",
       "      <td>69.393939</td>\n",
       "      <td>68.787879</td>\n",
       "      <td>71.515152</td>\n",
       "      <td>12.181818</td>\n",
       "      <td>8.666667</td>\n",
       "      <td>14.242424</td>\n",
       "      <td>10.363636</td>\n",
       "      <td>12.909091</td>\n",
       "    </tr>\n",
       "    <tr>\n",
       "      <th>2</th>\n",
       "      <td>3</td>\n",
       "      <td>162549</td>\n",
       "      <td>Aaron Doran</td>\n",
       "      <td>186170</td>\n",
       "      <td>1991-05-13 00:00:00</td>\n",
       "      <td>170.18</td>\n",
       "      <td>163</td>\n",
       "      <td>1991-05-13</td>\n",
       "      <td>30.767967</td>\n",
       "      <td>67.000000</td>\n",
       "      <td>...</td>\n",
       "      <td>69.384615</td>\n",
       "      <td>60.538462</td>\n",
       "      <td>22.038462</td>\n",
       "      <td>21.115385</td>\n",
       "      <td>21.346154</td>\n",
       "      <td>14.038462</td>\n",
       "      <td>11.807692</td>\n",
       "      <td>17.730769</td>\n",
       "      <td>10.115385</td>\n",
       "      <td>13.500000</td>\n",
       "    </tr>\n",
       "    <tr>\n",
       "      <th>3</th>\n",
       "      <td>4</td>\n",
       "      <td>30572</td>\n",
       "      <td>Aaron Galindo</td>\n",
       "      <td>140161</td>\n",
       "      <td>1982-05-08 00:00:00</td>\n",
       "      <td>182.88</td>\n",
       "      <td>198</td>\n",
       "      <td>1982-05-08</td>\n",
       "      <td>39.780972</td>\n",
       "      <td>69.086957</td>\n",
       "      <td>...</td>\n",
       "      <td>53.782609</td>\n",
       "      <td>41.739130</td>\n",
       "      <td>70.608696</td>\n",
       "      <td>70.652174</td>\n",
       "      <td>68.043478</td>\n",
       "      <td>14.173913</td>\n",
       "      <td>11.173913</td>\n",
       "      <td>22.869565</td>\n",
       "      <td>11.173913</td>\n",
       "      <td>10.173913</td>\n",
       "    </tr>\n",
       "    <tr>\n",
       "      <th>4</th>\n",
       "      <td>5</td>\n",
       "      <td>23780</td>\n",
       "      <td>Aaron Hughes</td>\n",
       "      <td>17725</td>\n",
       "      <td>1979-11-08 00:00:00</td>\n",
       "      <td>182.88</td>\n",
       "      <td>154</td>\n",
       "      <td>1979-11-08</td>\n",
       "      <td>42.277892</td>\n",
       "      <td>73.240000</td>\n",
       "      <td>...</td>\n",
       "      <td>46.480000</td>\n",
       "      <td>52.960000</td>\n",
       "      <td>77.600000</td>\n",
       "      <td>76.040000</td>\n",
       "      <td>74.600000</td>\n",
       "      <td>8.280000</td>\n",
       "      <td>8.320000</td>\n",
       "      <td>24.920000</td>\n",
       "      <td>12.840000</td>\n",
       "      <td>11.920000</td>\n",
       "    </tr>\n",
       "  </tbody>\n",
       "</table>\n",
       "<p>5 rows × 44 columns</p>\n",
       "</div>"
      ],
      "text/plain": [
       "   id  player_api_id         player_name  player_fifa_api_id  \\\n",
       "0   1         505942  Aaron Appindangoye              218353   \n",
       "1   2         155782     Aaron Cresswell              189615   \n",
       "2   3         162549         Aaron Doran              186170   \n",
       "3   4          30572       Aaron Galindo              140161   \n",
       "4   5          23780        Aaron Hughes               17725   \n",
       "\n",
       "              birthday  height  weight date_birthday        age  \\\n",
       "0  1992-02-29 00:00:00  182.88     187    1992-02-29  29.968515   \n",
       "1  1989-12-15 00:00:00  170.18     146    1989-12-15  32.175222   \n",
       "2  1991-05-13 00:00:00  170.18     163    1991-05-13  30.767967   \n",
       "3  1982-05-08 00:00:00  182.88     198    1982-05-08  39.780972   \n",
       "4  1979-11-08 00:00:00  182.88     154    1979-11-08  42.277892   \n",
       "\n",
       "   overall_rating  ...     vision  penalties    marking  standing_tackle  \\\n",
       "0       63.600000  ...  53.600000  47.600000  63.800000        66.000000   \n",
       "1       66.969697  ...  57.454545  53.121212  69.393939        68.787879   \n",
       "2       67.000000  ...  69.384615  60.538462  22.038462        21.115385   \n",
       "3       69.086957  ...  53.782609  41.739130  70.608696        70.652174   \n",
       "4       73.240000  ...  46.480000  52.960000  77.600000        76.040000   \n",
       "\n",
       "   sliding_tackle  gk_diving  gk_handling  gk_kicking  gk_positioning  \\\n",
       "0       67.800000   5.600000    10.600000    9.600000        7.600000   \n",
       "1       71.515152  12.181818     8.666667   14.242424       10.363636   \n",
       "2       21.346154  14.038462    11.807692   17.730769       10.115385   \n",
       "3       68.043478  14.173913    11.173913   22.869565       11.173913   \n",
       "4       74.600000   8.280000     8.320000   24.920000       12.840000   \n",
       "\n",
       "   gk_reflexes  \n",
       "0     7.600000  \n",
       "1    12.909091  \n",
       "2    13.500000  \n",
       "3    10.173913  \n",
       "4    11.920000  \n",
       "\n",
       "[5 rows x 44 columns]"
      ]
     },
     "execution_count": 33,
     "metadata": {},
     "output_type": "execute_result"
    }
   ],
   "source": [
    "df_player1= pd.merge(df_player0, df_player_attributes, how=\"inner\", on=\"player_api_id\")\n",
    "df_player1.head()"
   ]
  },
  {
   "cell_type": "markdown",
   "id": "7993329c",
   "metadata": {
    "hidden": true
   },
   "source": [
    "  "
   ]
  },
  {
   "cell_type": "markdown",
   "id": "80f2ad5f",
   "metadata": {
    "hidden": true
   },
   "source": [
    "Mesclando os dados da tabela match com a tabela player, desconsiderando da segunda tabela os campos de identificação e os atributos reduntantes (como data de nascimento e idade)."
   ]
  },
  {
   "cell_type": "code",
   "execution_count": 34,
   "id": "45519b94",
   "metadata": {
    "ExecuteTime": {
     "end_time": "2022-02-17T18:26:26.559231Z",
     "start_time": "2022-02-17T18:26:22.568001Z"
    },
    "hidden": true
   },
   "outputs": [
    {
     "data": {
      "text/plain": [
       "(21374, 488)"
      ]
     },
     "execution_count": 34,
     "metadata": {},
     "output_type": "execute_result"
    }
   ],
   "source": [
    "#A coluna player_api_id no dataset do df_player será a chave identificadora para realizar o join com \n",
    "#a tabela df_match, que tem correspondência pelas colunas home_player_N e away_player_N, que numeram o \n",
    "#jogador participante da partida\n",
    "\n",
    "colunas_de_interesse = list(df_player_attributes.drop(columns=\"player_api_id\").columns)\n",
    "\n",
    "df_bruto2 = df_bruto1.copy()\n",
    "for i in range(1, len( df_bruto2.iloc[:,55:77].columns) ):\n",
    "    df_bruto2 = pd.merge(df_bruto2, df_player1.add_suffix(str(i)).add_prefix(\"home_player_\"), how=\"left\", \n",
    "                         left_on=\"home_player_\"+str(i), right_on=\"home_player_\"+\"player_api_id\"+str(i)).\\\n",
    "                         loc[:,list(df_bruto2.columns)+\\\n",
    "                               list(df_player1.loc[:, colunas_de_interesse].\\\n",
    "                                    add_suffix(str(i)).add_prefix(\"home_player_\").columns)]                                             \n",
    "    \n",
    "    if i==11:\n",
    "        break\n",
    "    \n",
    "#df_bruto2.info(verbose=True, show_counts=True)\n",
    "df_bruto2.shape"
   ]
  },
  {
   "cell_type": "code",
   "execution_count": 35,
   "id": "4446708f",
   "metadata": {
    "ExecuteTime": {
     "end_time": "2022-02-17T18:26:34.635927Z",
     "start_time": "2022-02-17T18:26:26.561130Z"
    },
    "hidden": true
   },
   "outputs": [
    {
     "name": "stdout",
     "output_type": "stream",
     "text": [
      "<class 'pandas.core.frame.DataFrame'>\n",
      "Int64Index: 21374 entries, 0 to 21373\n",
      "Data columns (total 873 columns):\n",
      " #    Column                            Non-Null Count  Dtype  \n",
      "---   ------                            --------------  -----  \n",
      " 0    id                                21374 non-null  int64  \n",
      " 1    country_id                        21374 non-null  int64  \n",
      " 2    league_id                         21374 non-null  int64  \n",
      " 3    season                            21374 non-null  object \n",
      " 4    stage                             21374 non-null  int64  \n",
      " 5    date                              21374 non-null  object \n",
      " 6    match_api_id                      21374 non-null  int64  \n",
      " 7    home_team_api_id                  21374 non-null  int64  \n",
      " 8    away_team_api_id                  21374 non-null  int64  \n",
      " 9    home_team_goal                    21374 non-null  int64  \n",
      " 10   away_team_goal                    21374 non-null  int64  \n",
      " 11   home_player_X1                    21367 non-null  float64\n",
      " 12   home_player_X2                    21367 non-null  float64\n",
      " 13   home_player_X3                    21365 non-null  float64\n",
      " 14   home_player_X4                    21365 non-null  float64\n",
      " 15   home_player_X5                    21365 non-null  float64\n",
      " 16   home_player_X6                    21365 non-null  float64\n",
      " 17   home_player_X7                    21365 non-null  float64\n",
      " 18   home_player_X8                    21365 non-null  float64\n",
      " 19   home_player_X9                    21365 non-null  float64\n",
      " 20   home_player_X10                   21365 non-null  float64\n",
      " 21   home_player_X11                   21365 non-null  float64\n",
      " 22   away_player_X1                    21365 non-null  float64\n",
      " 23   away_player_X2                    21365 non-null  float64\n",
      " 24   away_player_X3                    21365 non-null  float64\n",
      " 25   away_player_X4                    21365 non-null  float64\n",
      " 26   away_player_X5                    21365 non-null  float64\n",
      " 27   away_player_X6                    21365 non-null  float64\n",
      " 28   away_player_X7                    21365 non-null  float64\n",
      " 29   away_player_X8                    21365 non-null  float64\n",
      " 30   away_player_X9                    21365 non-null  float64\n",
      " 31   away_player_X10                   21365 non-null  float64\n",
      " 32   away_player_X11                   21361 non-null  float64\n",
      " 33   home_player_Y1                    21367 non-null  float64\n",
      " 34   home_player_Y2                    21367 non-null  float64\n",
      " 35   home_player_Y3                    21365 non-null  float64\n",
      " 36   home_player_Y4                    21365 non-null  float64\n",
      " 37   home_player_Y5                    21365 non-null  float64\n",
      " 38   home_player_Y6                    21365 non-null  float64\n",
      " 39   home_player_Y7                    21365 non-null  float64\n",
      " 40   home_player_Y8                    21365 non-null  float64\n",
      " 41   home_player_Y9                    21365 non-null  float64\n",
      " 42   home_player_Y10                   21365 non-null  float64\n",
      " 43   home_player_Y11                   21365 non-null  float64\n",
      " 44   away_player_Y1                    21365 non-null  float64\n",
      " 45   away_player_Y2                    21365 non-null  float64\n",
      " 46   away_player_Y3                    21365 non-null  float64\n",
      " 47   away_player_Y4                    21365 non-null  float64\n",
      " 48   away_player_Y5                    21365 non-null  float64\n",
      " 49   away_player_Y6                    21365 non-null  float64\n",
      " 50   away_player_Y7                    21365 non-null  float64\n",
      " 51   away_player_Y8                    21365 non-null  float64\n",
      " 52   away_player_Y9                    21365 non-null  float64\n",
      " 53   away_player_Y10                   21365 non-null  float64\n",
      " 54   away_player_Y11                   21361 non-null  float64\n",
      " 55   home_player_1                     21374 non-null  float64\n",
      " 56   home_player_2                     21374 non-null  float64\n",
      " 57   home_player_3                     21374 non-null  float64\n",
      " 58   home_player_4                     21374 non-null  float64\n",
      " 59   home_player_5                     21374 non-null  float64\n",
      " 60   home_player_6                     21374 non-null  float64\n",
      " 61   home_player_7                     21374 non-null  float64\n",
      " 62   home_player_8                     21374 non-null  float64\n",
      " 63   home_player_9                     21374 non-null  float64\n",
      " 64   home_player_10                    21374 non-null  float64\n",
      " 65   home_player_11                    21374 non-null  float64\n",
      " 66   away_player_1                     21374 non-null  float64\n",
      " 67   away_player_2                     21374 non-null  float64\n",
      " 68   away_player_3                     21374 non-null  float64\n",
      " 69   away_player_4                     21374 non-null  float64\n",
      " 70   away_player_5                     21374 non-null  float64\n",
      " 71   away_player_6                     21374 non-null  float64\n",
      " 72   away_player_7                     21374 non-null  float64\n",
      " 73   away_player_8                     21374 non-null  float64\n",
      " 74   away_player_9                     21374 non-null  float64\n",
      " 75   away_player_10                    21374 non-null  float64\n",
      " 76   away_player_11                    21374 non-null  float64\n",
      " 77   goal                              13325 non-null  object \n",
      " 78   shoton                            13325 non-null  object \n",
      " 79   shotoff                           13325 non-null  object \n",
      " 80   foulcommit                        13325 non-null  object \n",
      " 81   card                              13325 non-null  object \n",
      " 82   cross                             13325 non-null  object \n",
      " 83   corner                            13325 non-null  object \n",
      " 84   possession                        13325 non-null  object \n",
      " 85   B365H                             19691 non-null  float64\n",
      " 86   B365D                             19691 non-null  float64\n",
      " 87   B365A                             19691 non-null  float64\n",
      " 88   BWH                               19675 non-null  float64\n",
      " 89   BWD                               19675 non-null  float64\n",
      " 90   BWA                               19675 non-null  float64\n",
      " 91   IWH                               19635 non-null  float64\n",
      " 92   IWD                               19635 non-null  float64\n",
      " 93   IWA                               19635 non-null  float64\n",
      " 94   LBH                               19662 non-null  float64\n",
      " 95   LBD                               19662 non-null  float64\n",
      " 96   LBA                               19662 non-null  float64\n",
      " 97   WHH                               19678 non-null  float64\n",
      " 98   WHD                               19678 non-null  float64\n",
      " 99   WHA                               19678 non-null  float64\n",
      " 100  VCH                               19669 non-null  float64\n",
      " 101  VCD                               19669 non-null  float64\n",
      " 102  VCA                               19669 non-null  float64\n",
      " 103  home_player_overall_rating1       21374 non-null  float64\n",
      " 104  home_player_potential1            21374 non-null  float64\n",
      " 105  home_player_crossing1             21374 non-null  float64\n",
      " 106  home_player_finishing1            21374 non-null  float64\n",
      " 107  home_player_heading_accuracy1     21374 non-null  float64\n",
      " 108  home_player_short_passing1        21374 non-null  float64\n",
      " 109  home_player_volleys1              21243 non-null  float64\n",
      " 110  home_player_dribbling1            21374 non-null  float64\n",
      " 111  home_player_curve1                21243 non-null  float64\n",
      " 112  home_player_free_kick_accuracy1   21374 non-null  float64\n",
      " 113  home_player_long_passing1         21374 non-null  float64\n",
      " 114  home_player_ball_control1         21374 non-null  float64\n",
      " 115  home_player_acceleration1         21374 non-null  float64\n",
      " 116  home_player_sprint_speed1         21374 non-null  float64\n",
      " 117  home_player_agility1              21243 non-null  float64\n",
      " 118  home_player_reactions1            21374 non-null  float64\n",
      " 119  home_player_balance1              21243 non-null  float64\n",
      " 120  home_player_shot_power1           21374 non-null  float64\n",
      " 121  home_player_jumping1              21243 non-null  float64\n",
      " 122  home_player_stamina1              21374 non-null  float64\n",
      " 123  home_player_strength1             21374 non-null  float64\n",
      " 124  home_player_long_shots1           21374 non-null  float64\n",
      " 125  home_player_aggression1           21374 non-null  float64\n",
      " 126  home_player_interceptions1        21374 non-null  float64\n",
      " 127  home_player_positioning1          21374 non-null  float64\n",
      " 128  home_player_vision1               21243 non-null  float64\n",
      " 129  home_player_penalties1            21374 non-null  float64\n",
      " 130  home_player_marking1              21374 non-null  float64\n",
      " 131  home_player_standing_tackle1      21374 non-null  float64\n",
      " 132  home_player_sliding_tackle1       21243 non-null  float64\n",
      " 133  home_player_gk_diving1            21374 non-null  float64\n",
      " 134  home_player_gk_handling1          21374 non-null  float64\n",
      " 135  home_player_gk_kicking1           21374 non-null  float64\n",
      " 136  home_player_gk_positioning1       21374 non-null  float64\n",
      " 137  home_player_gk_reflexes1          21374 non-null  float64\n",
      " 138  home_player_overall_rating2       21374 non-null  float64\n",
      " 139  home_player_potential2            21374 non-null  float64\n",
      " 140  home_player_crossing2             21374 non-null  float64\n",
      " 141  home_player_finishing2            21374 non-null  float64\n",
      " 142  home_player_heading_accuracy2     21374 non-null  float64\n",
      " 143  home_player_short_passing2        21374 non-null  float64\n",
      " 144  home_player_volleys2              21094 non-null  float64\n",
      " 145  home_player_dribbling2            21374 non-null  float64\n",
      " 146  home_player_curve2                21094 non-null  float64\n",
      " 147  home_player_free_kick_accuracy2   21374 non-null  float64\n",
      " 148  home_player_long_passing2         21374 non-null  float64\n",
      " 149  home_player_ball_control2         21374 non-null  float64\n",
      " 150  home_player_acceleration2         21374 non-null  float64\n",
      " 151  home_player_sprint_speed2         21374 non-null  float64\n",
      " 152  home_player_agility2              21094 non-null  float64\n",
      " 153  home_player_reactions2            21374 non-null  float64\n",
      " 154  home_player_balance2              21094 non-null  float64\n",
      " 155  home_player_shot_power2           21374 non-null  float64\n",
      " 156  home_player_jumping2              21094 non-null  float64\n",
      " 157  home_player_stamina2              21374 non-null  float64\n",
      " 158  home_player_strength2             21374 non-null  float64\n",
      " 159  home_player_long_shots2           21374 non-null  float64\n",
      " 160  home_player_aggression2           21374 non-null  float64\n",
      " 161  home_player_interceptions2        21374 non-null  float64\n",
      " 162  home_player_positioning2          21374 non-null  float64\n",
      " 163  home_player_vision2               21094 non-null  float64\n",
      " 164  home_player_penalties2            21374 non-null  float64\n",
      " 165  home_player_marking2              21374 non-null  float64\n",
      " 166  home_player_standing_tackle2      21374 non-null  float64\n",
      " 167  home_player_sliding_tackle2       21094 non-null  float64\n",
      " 168  home_player_gk_diving2            21374 non-null  float64\n",
      " 169  home_player_gk_handling2          21374 non-null  float64\n",
      " 170  home_player_gk_kicking2           21374 non-null  float64\n",
      " 171  home_player_gk_positioning2       21374 non-null  float64\n",
      " 172  home_player_gk_reflexes2          21374 non-null  float64\n",
      " 173  home_player_overall_rating3       21374 non-null  float64\n",
      " 174  home_player_potential3            21374 non-null  float64\n",
      " 175  home_player_crossing3             21374 non-null  float64\n",
      " 176  home_player_finishing3            21374 non-null  float64\n",
      " 177  home_player_heading_accuracy3     21374 non-null  float64\n",
      " 178  home_player_short_passing3        21374 non-null  float64\n",
      " 179  home_player_volleys3              21089 non-null  float64\n",
      " 180  home_player_dribbling3            21374 non-null  float64\n",
      " 181  home_player_curve3                21089 non-null  float64\n",
      " 182  home_player_free_kick_accuracy3   21374 non-null  float64\n",
      " 183  home_player_long_passing3         21374 non-null  float64\n",
      " 184  home_player_ball_control3         21374 non-null  float64\n",
      " 185  home_player_acceleration3         21374 non-null  float64\n",
      " 186  home_player_sprint_speed3         21374 non-null  float64\n",
      " 187  home_player_agility3              21089 non-null  float64\n",
      " 188  home_player_reactions3            21374 non-null  float64\n",
      " 189  home_player_balance3              21089 non-null  float64\n",
      " 190  home_player_shot_power3           21374 non-null  float64\n",
      " 191  home_player_jumping3              21089 non-null  float64\n",
      " 192  home_player_stamina3              21374 non-null  float64\n",
      " 193  home_player_strength3             21374 non-null  float64\n",
      " 194  home_player_long_shots3           21374 non-null  float64\n",
      " 195  home_player_aggression3           21374 non-null  float64\n",
      " 196  home_player_interceptions3        21374 non-null  float64\n",
      " 197  home_player_positioning3          21374 non-null  float64\n",
      " 198  home_player_vision3               21089 non-null  float64\n",
      " 199  home_player_penalties3            21374 non-null  float64\n",
      " 200  home_player_marking3              21374 non-null  float64\n",
      " 201  home_player_standing_tackle3      21374 non-null  float64\n",
      " 202  home_player_sliding_tackle3       21089 non-null  float64\n",
      " 203  home_player_gk_diving3            21374 non-null  float64\n",
      " 204  home_player_gk_handling3          21374 non-null  float64\n",
      " 205  home_player_gk_kicking3           21374 non-null  float64\n",
      " 206  home_player_gk_positioning3       21374 non-null  float64\n",
      " 207  home_player_gk_reflexes3          21374 non-null  float64\n",
      " 208  home_player_overall_rating4       21374 non-null  float64\n",
      " 209  home_player_potential4            21374 non-null  float64\n",
      " 210  home_player_crossing4             21374 non-null  float64\n",
      " 211  home_player_finishing4            21374 non-null  float64\n",
      " 212  home_player_heading_accuracy4     21374 non-null  float64\n",
      " 213  home_player_short_passing4        21374 non-null  float64\n",
      " 214  home_player_volleys4              21144 non-null  float64\n",
      " 215  home_player_dribbling4            21374 non-null  float64\n",
      " 216  home_player_curve4                21144 non-null  float64\n",
      " 217  home_player_free_kick_accuracy4   21374 non-null  float64\n",
      " 218  home_player_long_passing4         21374 non-null  float64\n",
      " 219  home_player_ball_control4         21374 non-null  float64\n",
      " 220  home_player_acceleration4         21374 non-null  float64\n",
      " 221  home_player_sprint_speed4         21374 non-null  float64\n",
      " 222  home_player_agility4              21144 non-null  float64\n",
      " 223  home_player_reactions4            21374 non-null  float64\n",
      " 224  home_player_balance4              21144 non-null  float64\n",
      " 225  home_player_shot_power4           21374 non-null  float64\n",
      " 226  home_player_jumping4              21144 non-null  float64\n",
      " 227  home_player_stamina4              21374 non-null  float64\n",
      " 228  home_player_strength4             21374 non-null  float64\n",
      " 229  home_player_long_shots4           21374 non-null  float64\n",
      " 230  home_player_aggression4           21374 non-null  float64\n",
      " 231  home_player_interceptions4        21374 non-null  float64\n",
      " 232  home_player_positioning4          21374 non-null  float64\n",
      " 233  home_player_vision4               21144 non-null  float64\n",
      " 234  home_player_penalties4            21374 non-null  float64\n",
      " 235  home_player_marking4              21374 non-null  float64\n",
      " 236  home_player_standing_tackle4      21374 non-null  float64\n",
      " 237  home_player_sliding_tackle4       21144 non-null  float64\n",
      " 238  home_player_gk_diving4            21374 non-null  float64\n",
      " 239  home_player_gk_handling4          21374 non-null  float64\n",
      " 240  home_player_gk_kicking4           21374 non-null  float64\n",
      " 241  home_player_gk_positioning4       21374 non-null  float64\n",
      " 242  home_player_gk_reflexes4          21374 non-null  float64\n",
      " 243  home_player_overall_rating5       21374 non-null  float64\n",
      " 244  home_player_potential5            21374 non-null  float64\n",
      " 245  home_player_crossing5             21374 non-null  float64\n",
      " 246  home_player_finishing5            21374 non-null  float64\n",
      " 247  home_player_heading_accuracy5     21374 non-null  float64\n",
      " 248  home_player_short_passing5        21374 non-null  float64\n",
      " 249  home_player_volleys5              21182 non-null  float64\n",
      " 250  home_player_dribbling5            21374 non-null  float64\n",
      " 251  home_player_curve5                21182 non-null  float64\n",
      " 252  home_player_free_kick_accuracy5   21374 non-null  float64\n",
      " 253  home_player_long_passing5         21374 non-null  float64\n",
      " 254  home_player_ball_control5         21374 non-null  float64\n",
      " 255  home_player_acceleration5         21374 non-null  float64\n",
      " 256  home_player_sprint_speed5         21374 non-null  float64\n",
      " 257  home_player_agility5              21182 non-null  float64\n",
      " 258  home_player_reactions5            21374 non-null  float64\n",
      " 259  home_player_balance5              21182 non-null  float64\n",
      " 260  home_player_shot_power5           21374 non-null  float64\n",
      " 261  home_player_jumping5              21182 non-null  float64\n",
      " 262  home_player_stamina5              21374 non-null  float64\n",
      " 263  home_player_strength5             21374 non-null  float64\n",
      " 264  home_player_long_shots5           21374 non-null  float64\n",
      " 265  home_player_aggression5           21374 non-null  float64\n",
      " 266  home_player_interceptions5        21374 non-null  float64\n",
      " 267  home_player_positioning5          21374 non-null  float64\n",
      " 268  home_player_vision5               21182 non-null  float64\n",
      " 269  home_player_penalties5            21374 non-null  float64\n",
      " 270  home_player_marking5              21374 non-null  float64\n",
      " 271  home_player_standing_tackle5      21374 non-null  float64\n",
      " 272  home_player_sliding_tackle5       21182 non-null  float64\n",
      " 273  home_player_gk_diving5            21374 non-null  float64\n",
      " 274  home_player_gk_handling5          21374 non-null  float64\n",
      " 275  home_player_gk_kicking5           21374 non-null  float64\n",
      " 276  home_player_gk_positioning5       21374 non-null  float64\n",
      " 277  home_player_gk_reflexes5          21374 non-null  float64\n",
      " 278  home_player_overall_rating6       21374 non-null  float64\n",
      " 279  home_player_potential6            21374 non-null  float64\n",
      " 280  home_player_crossing6             21374 non-null  float64\n",
      " 281  home_player_finishing6            21374 non-null  float64\n",
      " 282  home_player_heading_accuracy6     21374 non-null  float64\n",
      " 283  home_player_short_passing6        21374 non-null  float64\n",
      " 284  home_player_volleys6              21216 non-null  float64\n",
      " 285  home_player_dribbling6            21374 non-null  float64\n",
      " 286  home_player_curve6                21216 non-null  float64\n",
      " 287  home_player_free_kick_accuracy6   21374 non-null  float64\n",
      " 288  home_player_long_passing6         21374 non-null  float64\n",
      " 289  home_player_ball_control6         21374 non-null  float64\n",
      " 290  home_player_acceleration6         21374 non-null  float64\n",
      " 291  home_player_sprint_speed6         21374 non-null  float64\n",
      " 292  home_player_agility6              21216 non-null  float64\n",
      " 293  home_player_reactions6            21374 non-null  float64\n",
      " 294  home_player_balance6              21216 non-null  float64\n",
      " 295  home_player_shot_power6           21374 non-null  float64\n",
      " 296  home_player_jumping6              21216 non-null  float64\n",
      " 297  home_player_stamina6              21374 non-null  float64\n",
      " 298  home_player_strength6             21374 non-null  float64\n",
      " 299  home_player_long_shots6           21374 non-null  float64\n",
      " 300  home_player_aggression6           21374 non-null  float64\n",
      " 301  home_player_interceptions6        21374 non-null  float64\n",
      " 302  home_player_positioning6          21374 non-null  float64\n",
      " 303  home_player_vision6               21216 non-null  float64\n",
      " 304  home_player_penalties6            21374 non-null  float64\n",
      " 305  home_player_marking6              21374 non-null  float64\n",
      " 306  home_player_standing_tackle6      21374 non-null  float64\n",
      " 307  home_player_sliding_tackle6       21216 non-null  float64\n",
      " 308  home_player_gk_diving6            21374 non-null  float64\n",
      " 309  home_player_gk_handling6          21374 non-null  float64\n",
      " 310  home_player_gk_kicking6           21374 non-null  float64\n",
      " 311  home_player_gk_positioning6       21374 non-null  float64\n",
      " 312  home_player_gk_reflexes6          21374 non-null  float64\n",
      " 313  home_player_overall_rating7       21374 non-null  float64\n",
      " 314  home_player_potential7            21374 non-null  float64\n",
      " 315  home_player_crossing7             21374 non-null  float64\n",
      " 316  home_player_finishing7            21374 non-null  float64\n",
      " 317  home_player_heading_accuracy7     21374 non-null  float64\n",
      " 318  home_player_short_passing7        21374 non-null  float64\n",
      " 319  home_player_volleys7              21135 non-null  float64\n",
      " 320  home_player_dribbling7            21374 non-null  float64\n",
      " 321  home_player_curve7                21135 non-null  float64\n",
      " 322  home_player_free_kick_accuracy7   21374 non-null  float64\n",
      " 323  home_player_long_passing7         21374 non-null  float64\n",
      " 324  home_player_ball_control7         21374 non-null  float64\n",
      " 325  home_player_acceleration7         21374 non-null  float64\n",
      " 326  home_player_sprint_speed7         21374 non-null  float64\n",
      " 327  home_player_agility7              21135 non-null  float64\n",
      " 328  home_player_reactions7            21374 non-null  float64\n",
      " 329  home_player_balance7              21135 non-null  float64\n",
      " 330  home_player_shot_power7           21374 non-null  float64\n",
      " 331  home_player_jumping7              21135 non-null  float64\n",
      " 332  home_player_stamina7              21374 non-null  float64\n",
      " 333  home_player_strength7             21374 non-null  float64\n",
      " 334  home_player_long_shots7           21374 non-null  float64\n",
      " 335  home_player_aggression7           21374 non-null  float64\n",
      " 336  home_player_interceptions7        21374 non-null  float64\n",
      " 337  home_player_positioning7          21374 non-null  float64\n",
      " 338  home_player_vision7               21135 non-null  float64\n",
      " 339  home_player_penalties7            21374 non-null  float64\n",
      " 340  home_player_marking7              21374 non-null  float64\n",
      " 341  home_player_standing_tackle7      21374 non-null  float64\n",
      " 342  home_player_sliding_tackle7       21135 non-null  float64\n",
      " 343  home_player_gk_diving7            21374 non-null  float64\n",
      " 344  home_player_gk_handling7          21374 non-null  float64\n",
      " 345  home_player_gk_kicking7           21374 non-null  float64\n",
      " 346  home_player_gk_positioning7       21374 non-null  float64\n",
      " 347  home_player_gk_reflexes7          21374 non-null  float64\n",
      " 348  home_player_overall_rating8       21374 non-null  float64\n",
      " 349  home_player_potential8            21374 non-null  float64\n",
      " 350  home_player_crossing8             21374 non-null  float64\n",
      " 351  home_player_finishing8            21374 non-null  float64\n",
      " 352  home_player_heading_accuracy8     21374 non-null  float64\n",
      " 353  home_player_short_passing8        21374 non-null  float64\n",
      " 354  home_player_volleys8              21203 non-null  float64\n",
      " 355  home_player_dribbling8            21374 non-null  float64\n",
      " 356  home_player_curve8                21203 non-null  float64\n",
      " 357  home_player_free_kick_accuracy8   21374 non-null  float64\n",
      " 358  home_player_long_passing8         21374 non-null  float64\n",
      " 359  home_player_ball_control8         21374 non-null  float64\n",
      " 360  home_player_acceleration8         21374 non-null  float64\n",
      " 361  home_player_sprint_speed8         21374 non-null  float64\n",
      " 362  home_player_agility8              21203 non-null  float64\n",
      " 363  home_player_reactions8            21374 non-null  float64\n",
      " 364  home_player_balance8              21203 non-null  float64\n",
      " 365  home_player_shot_power8           21374 non-null  float64\n",
      " 366  home_player_jumping8              21203 non-null  float64\n",
      " 367  home_player_stamina8              21374 non-null  float64\n",
      " 368  home_player_strength8             21374 non-null  float64\n",
      " 369  home_player_long_shots8           21374 non-null  float64\n",
      " 370  home_player_aggression8           21374 non-null  float64\n",
      " 371  home_player_interceptions8        21374 non-null  float64\n",
      " 372  home_player_positioning8          21374 non-null  float64\n",
      " 373  home_player_vision8               21203 non-null  float64\n",
      " 374  home_player_penalties8            21374 non-null  float64\n",
      " 375  home_player_marking8              21374 non-null  float64\n",
      " 376  home_player_standing_tackle8      21374 non-null  float64\n",
      " 377  home_player_sliding_tackle8       21203 non-null  float64\n",
      " 378  home_player_gk_diving8            21374 non-null  float64\n",
      " 379  home_player_gk_handling8          21374 non-null  float64\n",
      " 380  home_player_gk_kicking8           21374 non-null  float64\n",
      " 381  home_player_gk_positioning8       21374 non-null  float64\n",
      " 382  home_player_gk_reflexes8          21374 non-null  float64\n",
      " 383  home_player_overall_rating9       21374 non-null  float64\n",
      " 384  home_player_potential9            21374 non-null  float64\n",
      " 385  home_player_crossing9             21374 non-null  float64\n",
      " 386  home_player_finishing9            21374 non-null  float64\n",
      " 387  home_player_heading_accuracy9     21374 non-null  float64\n",
      " 388  home_player_short_passing9        21374 non-null  float64\n",
      " 389  home_player_volleys9              21225 non-null  float64\n",
      " 390  home_player_dribbling9            21374 non-null  float64\n",
      " 391  home_player_curve9                21225 non-null  float64\n",
      " 392  home_player_free_kick_accuracy9   21374 non-null  float64\n",
      " 393  home_player_long_passing9         21374 non-null  float64\n",
      " 394  home_player_ball_control9         21374 non-null  float64\n",
      " 395  home_player_acceleration9         21374 non-null  float64\n",
      " 396  home_player_sprint_speed9         21374 non-null  float64\n",
      " 397  home_player_agility9              21225 non-null  float64\n",
      " 398  home_player_reactions9            21374 non-null  float64\n",
      " 399  home_player_balance9              21225 non-null  float64\n",
      " 400  home_player_shot_power9           21374 non-null  float64\n",
      " 401  home_player_jumping9              21225 non-null  float64\n",
      " 402  home_player_stamina9              21374 non-null  float64\n",
      " 403  home_player_strength9             21374 non-null  float64\n",
      " 404  home_player_long_shots9           21374 non-null  float64\n",
      " 405  home_player_aggression9           21374 non-null  float64\n",
      " 406  home_player_interceptions9        21374 non-null  float64\n",
      " 407  home_player_positioning9          21374 non-null  float64\n",
      " 408  home_player_vision9               21225 non-null  float64\n",
      " 409  home_player_penalties9            21374 non-null  float64\n",
      " 410  home_player_marking9              21374 non-null  float64\n",
      " 411  home_player_standing_tackle9      21374 non-null  float64\n",
      " 412  home_player_sliding_tackle9       21225 non-null  float64\n",
      " 413  home_player_gk_diving9            21374 non-null  float64\n",
      " 414  home_player_gk_handling9          21374 non-null  float64\n",
      " 415  home_player_gk_kicking9           21374 non-null  float64\n",
      " 416  home_player_gk_positioning9       21374 non-null  float64\n",
      " 417  home_player_gk_reflexes9          21374 non-null  float64\n",
      " 418  home_player_overall_rating10      21374 non-null  float64\n",
      " 419  home_player_potential10           21374 non-null  float64\n",
      " 420  home_player_crossing10            21374 non-null  float64\n",
      " 421  home_player_finishing10           21374 non-null  float64\n",
      " 422  home_player_heading_accuracy10    21374 non-null  float64\n",
      " 423  home_player_short_passing10       21374 non-null  float64\n",
      " 424  home_player_volleys10             21211 non-null  float64\n",
      " 425  home_player_dribbling10           21374 non-null  float64\n",
      " 426  home_player_curve10               21211 non-null  float64\n",
      " 427  home_player_free_kick_accuracy10  21374 non-null  float64\n",
      " 428  home_player_long_passing10        21374 non-null  float64\n",
      " 429  home_player_ball_control10        21374 non-null  float64\n",
      " 430  home_player_acceleration10        21374 non-null  float64\n",
      " 431  home_player_sprint_speed10        21374 non-null  float64\n",
      " 432  home_player_agility10             21211 non-null  float64\n",
      " 433  home_player_reactions10           21374 non-null  float64\n",
      " 434  home_player_balance10             21211 non-null  float64\n",
      " 435  home_player_shot_power10          21374 non-null  float64\n",
      " 436  home_player_jumping10             21211 non-null  float64\n",
      " 437  home_player_stamina10             21374 non-null  float64\n",
      " 438  home_player_strength10            21374 non-null  float64\n",
      " 439  home_player_long_shots10          21374 non-null  float64\n",
      " 440  home_player_aggression10          21374 non-null  float64\n",
      " 441  home_player_interceptions10       21374 non-null  float64\n",
      " 442  home_player_positioning10         21374 non-null  float64\n",
      " 443  home_player_vision10              21211 non-null  float64\n",
      " 444  home_player_penalties10           21374 non-null  float64\n",
      " 445  home_player_marking10             21374 non-null  float64\n",
      " 446  home_player_standing_tackle10     21374 non-null  float64\n",
      " 447  home_player_sliding_tackle10      21211 non-null  float64\n",
      " 448  home_player_gk_diving10           21374 non-null  float64\n",
      " 449  home_player_gk_handling10         21374 non-null  float64\n",
      " 450  home_player_gk_kicking10          21374 non-null  float64\n",
      " 451  home_player_gk_positioning10      21374 non-null  float64\n",
      " 452  home_player_gk_reflexes10         21374 non-null  float64\n",
      " 453  home_player_overall_rating11      21374 non-null  float64\n",
      " 454  home_player_potential11           21374 non-null  float64\n",
      " 455  home_player_crossing11            21374 non-null  float64\n",
      " 456  home_player_finishing11           21374 non-null  float64\n",
      " 457  home_player_heading_accuracy11    21374 non-null  float64\n",
      " 458  home_player_short_passing11       21374 non-null  float64\n",
      " 459  home_player_volleys11             21211 non-null  float64\n",
      " 460  home_player_dribbling11           21374 non-null  float64\n",
      " 461  home_player_curve11               21211 non-null  float64\n",
      " 462  home_player_free_kick_accuracy11  21374 non-null  float64\n",
      " 463  home_player_long_passing11        21374 non-null  float64\n",
      " 464  home_player_ball_control11        21374 non-null  float64\n",
      " 465  home_player_acceleration11        21374 non-null  float64\n",
      " 466  home_player_sprint_speed11        21374 non-null  float64\n",
      " 467  home_player_agility11             21211 non-null  float64\n",
      " 468  home_player_reactions11           21374 non-null  float64\n",
      " 469  home_player_balance11             21211 non-null  float64\n",
      " 470  home_player_shot_power11          21374 non-null  float64\n",
      " 471  home_player_jumping11             21211 non-null  float64\n",
      " 472  home_player_stamina11             21374 non-null  float64\n",
      " 473  home_player_strength11            21374 non-null  float64\n",
      " 474  home_player_long_shots11          21374 non-null  float64\n",
      " 475  home_player_aggression11          21374 non-null  float64\n",
      " 476  home_player_interceptions11       21374 non-null  float64\n",
      " 477  home_player_positioning11         21374 non-null  float64\n",
      " 478  home_player_vision11              21211 non-null  float64\n",
      " 479  home_player_penalties11           21374 non-null  float64\n",
      " 480  home_player_marking11             21374 non-null  float64\n",
      " 481  home_player_standing_tackle11     21374 non-null  float64\n",
      " 482  home_player_sliding_tackle11      21211 non-null  float64\n",
      " 483  home_player_gk_diving11           21374 non-null  float64\n",
      " 484  home_player_gk_handling11         21374 non-null  float64\n",
      " 485  home_player_gk_kicking11          21374 non-null  float64\n",
      " 486  home_player_gk_positioning11      21374 non-null  float64\n",
      " 487  home_player_gk_reflexes11         21374 non-null  float64\n",
      " 488  away_player_overall_rating1       21374 non-null  float64\n",
      " 489  away_player_potential1            21374 non-null  float64\n",
      " 490  away_player_crossing1             21374 non-null  float64\n",
      " 491  away_player_finishing1            21374 non-null  float64\n",
      " 492  away_player_heading_accuracy1     21374 non-null  float64\n",
      " 493  away_player_short_passing1        21374 non-null  float64\n",
      " 494  away_player_volleys1              21233 non-null  float64\n",
      " 495  away_player_dribbling1            21374 non-null  float64\n",
      " 496  away_player_curve1                21233 non-null  float64\n",
      " 497  away_player_free_kick_accuracy1   21374 non-null  float64\n",
      " 498  away_player_long_passing1         21374 non-null  float64\n",
      " 499  away_player_ball_control1         21374 non-null  float64\n",
      " 500  away_player_acceleration1         21374 non-null  float64\n",
      " 501  away_player_sprint_speed1         21374 non-null  float64\n",
      " 502  away_player_agility1              21233 non-null  float64\n",
      " 503  away_player_reactions1            21374 non-null  float64\n",
      " 504  away_player_balance1              21233 non-null  float64\n",
      " 505  away_player_shot_power1           21374 non-null  float64\n",
      " 506  away_player_jumping1              21233 non-null  float64\n",
      " 507  away_player_stamina1              21374 non-null  float64\n",
      " 508  away_player_strength1             21374 non-null  float64\n",
      " 509  away_player_long_shots1           21374 non-null  float64\n",
      " 510  away_player_aggression1           21374 non-null  float64\n",
      " 511  away_player_interceptions1        21374 non-null  float64\n",
      " 512  away_player_positioning1          21374 non-null  float64\n",
      " 513  away_player_vision1               21233 non-null  float64\n",
      " 514  away_player_penalties1            21374 non-null  float64\n",
      " 515  away_player_marking1              21374 non-null  float64\n",
      " 516  away_player_standing_tackle1      21374 non-null  float64\n",
      " 517  away_player_sliding_tackle1       21233 non-null  float64\n",
      " 518  away_player_gk_diving1            21374 non-null  float64\n",
      " 519  away_player_gk_handling1          21374 non-null  float64\n",
      " 520  away_player_gk_kicking1           21374 non-null  float64\n",
      " 521  away_player_gk_positioning1       21374 non-null  float64\n",
      " 522  away_player_gk_reflexes1          21374 non-null  float64\n",
      " 523  away_player_overall_rating2       21374 non-null  float64\n",
      " 524  away_player_potential2            21374 non-null  float64\n",
      " 525  away_player_crossing2             21374 non-null  float64\n",
      " 526  away_player_finishing2            21374 non-null  float64\n",
      " 527  away_player_heading_accuracy2     21374 non-null  float64\n",
      " 528  away_player_short_passing2        21374 non-null  float64\n",
      " 529  away_player_volleys2              21101 non-null  float64\n",
      " 530  away_player_dribbling2            21374 non-null  float64\n",
      " 531  away_player_curve2                21101 non-null  float64\n",
      " 532  away_player_free_kick_accuracy2   21374 non-null  float64\n",
      " 533  away_player_long_passing2         21374 non-null  float64\n",
      " 534  away_player_ball_control2         21374 non-null  float64\n",
      " 535  away_player_acceleration2         21374 non-null  float64\n",
      " 536  away_player_sprint_speed2         21374 non-null  float64\n",
      " 537  away_player_agility2              21101 non-null  float64\n",
      " 538  away_player_reactions2            21374 non-null  float64\n",
      " 539  away_player_balance2              21101 non-null  float64\n",
      " 540  away_player_shot_power2           21374 non-null  float64\n",
      " 541  away_player_jumping2              21101 non-null  float64\n",
      " 542  away_player_stamina2              21374 non-null  float64\n",
      " 543  away_player_strength2             21374 non-null  float64\n",
      " 544  away_player_long_shots2           21374 non-null  float64\n",
      " 545  away_player_aggression2           21374 non-null  float64\n",
      " 546  away_player_interceptions2        21374 non-null  float64\n",
      " 547  away_player_positioning2          21374 non-null  float64\n",
      " 548  away_player_vision2               21101 non-null  float64\n",
      " 549  away_player_penalties2            21374 non-null  float64\n",
      " 550  away_player_marking2              21374 non-null  float64\n",
      " 551  away_player_standing_tackle2      21374 non-null  float64\n",
      " 552  away_player_sliding_tackle2       21101 non-null  float64\n",
      " 553  away_player_gk_diving2            21374 non-null  float64\n",
      " 554  away_player_gk_handling2          21374 non-null  float64\n",
      " 555  away_player_gk_kicking2           21374 non-null  float64\n",
      " 556  away_player_gk_positioning2       21374 non-null  float64\n",
      " 557  away_player_gk_reflexes2          21374 non-null  float64\n",
      " 558  away_player_overall_rating3       21374 non-null  float64\n",
      " 559  away_player_potential3            21374 non-null  float64\n",
      " 560  away_player_crossing3             21374 non-null  float64\n",
      " 561  away_player_finishing3            21374 non-null  float64\n",
      " 562  away_player_heading_accuracy3     21374 non-null  float64\n",
      " 563  away_player_short_passing3        21374 non-null  float64\n",
      " 564  away_player_volleys3              21094 non-null  float64\n",
      " 565  away_player_dribbling3            21374 non-null  float64\n",
      " 566  away_player_curve3                21094 non-null  float64\n",
      " 567  away_player_free_kick_accuracy3   21374 non-null  float64\n",
      " 568  away_player_long_passing3         21374 non-null  float64\n",
      " 569  away_player_ball_control3         21374 non-null  float64\n",
      " 570  away_player_acceleration3         21374 non-null  float64\n",
      " 571  away_player_sprint_speed3         21374 non-null  float64\n",
      " 572  away_player_agility3              21094 non-null  float64\n",
      " 573  away_player_reactions3            21374 non-null  float64\n",
      " 574  away_player_balance3              21094 non-null  float64\n",
      " 575  away_player_shot_power3           21374 non-null  float64\n",
      " 576  away_player_jumping3              21094 non-null  float64\n",
      " 577  away_player_stamina3              21374 non-null  float64\n",
      " 578  away_player_strength3             21374 non-null  float64\n",
      " 579  away_player_long_shots3           21374 non-null  float64\n",
      " 580  away_player_aggression3           21374 non-null  float64\n",
      " 581  away_player_interceptions3        21374 non-null  float64\n",
      " 582  away_player_positioning3          21374 non-null  float64\n",
      " 583  away_player_vision3               21094 non-null  float64\n",
      " 584  away_player_penalties3            21374 non-null  float64\n",
      " 585  away_player_marking3              21374 non-null  float64\n",
      " 586  away_player_standing_tackle3      21374 non-null  float64\n",
      " 587  away_player_sliding_tackle3       21094 non-null  float64\n",
      " 588  away_player_gk_diving3            21374 non-null  float64\n",
      " 589  away_player_gk_handling3          21374 non-null  float64\n",
      " 590  away_player_gk_kicking3           21374 non-null  float64\n",
      " 591  away_player_gk_positioning3       21374 non-null  float64\n",
      " 592  away_player_gk_reflexes3          21374 non-null  float64\n",
      " 593  away_player_overall_rating4       21374 non-null  float64\n",
      " 594  away_player_potential4            21374 non-null  float64\n",
      " 595  away_player_crossing4             21374 non-null  float64\n",
      " 596  away_player_finishing4            21374 non-null  float64\n",
      " 597  away_player_heading_accuracy4     21374 non-null  float64\n",
      " 598  away_player_short_passing4        21374 non-null  float64\n",
      " 599  away_player_volleys4              21130 non-null  float64\n",
      " 600  away_player_dribbling4            21374 non-null  float64\n",
      " 601  away_player_curve4                21130 non-null  float64\n",
      " 602  away_player_free_kick_accuracy4   21374 non-null  float64\n",
      " 603  away_player_long_passing4         21374 non-null  float64\n",
      " 604  away_player_ball_control4         21374 non-null  float64\n",
      " 605  away_player_acceleration4         21374 non-null  float64\n",
      " 606  away_player_sprint_speed4         21374 non-null  float64\n",
      " 607  away_player_agility4              21130 non-null  float64\n",
      " 608  away_player_reactions4            21374 non-null  float64\n",
      " 609  away_player_balance4              21130 non-null  float64\n",
      " 610  away_player_shot_power4           21374 non-null  float64\n",
      " 611  away_player_jumping4              21130 non-null  float64\n",
      " 612  away_player_stamina4              21374 non-null  float64\n",
      " 613  away_player_strength4             21374 non-null  float64\n",
      " 614  away_player_long_shots4           21374 non-null  float64\n",
      " 615  away_player_aggression4           21374 non-null  float64\n",
      " 616  away_player_interceptions4        21374 non-null  float64\n",
      " 617  away_player_positioning4          21374 non-null  float64\n",
      " 618  away_player_vision4               21130 non-null  float64\n",
      " 619  away_player_penalties4            21374 non-null  float64\n",
      " 620  away_player_marking4              21374 non-null  float64\n",
      " 621  away_player_standing_tackle4      21374 non-null  float64\n",
      " 622  away_player_sliding_tackle4       21130 non-null  float64\n",
      " 623  away_player_gk_diving4            21374 non-null  float64\n",
      " 624  away_player_gk_handling4          21374 non-null  float64\n",
      " 625  away_player_gk_kicking4           21374 non-null  float64\n",
      " 626  away_player_gk_positioning4       21374 non-null  float64\n",
      " 627  away_player_gk_reflexes4          21374 non-null  float64\n",
      " 628  away_player_overall_rating5       21374 non-null  float64\n",
      " 629  away_player_potential5            21374 non-null  float64\n",
      " 630  away_player_crossing5             21374 non-null  float64\n",
      " 631  away_player_finishing5            21374 non-null  float64\n",
      " 632  away_player_heading_accuracy5     21374 non-null  float64\n",
      " 633  away_player_short_passing5        21374 non-null  float64\n",
      " 634  away_player_volleys5              21178 non-null  float64\n",
      " 635  away_player_dribbling5            21374 non-null  float64\n",
      " 636  away_player_curve5                21178 non-null  float64\n",
      " 637  away_player_free_kick_accuracy5   21374 non-null  float64\n",
      " 638  away_player_long_passing5         21374 non-null  float64\n",
      " 639  away_player_ball_control5         21374 non-null  float64\n",
      " 640  away_player_acceleration5         21374 non-null  float64\n",
      " 641  away_player_sprint_speed5         21374 non-null  float64\n",
      " 642  away_player_agility5              21178 non-null  float64\n",
      " 643  away_player_reactions5            21374 non-null  float64\n",
      " 644  away_player_balance5              21178 non-null  float64\n",
      " 645  away_player_shot_power5           21374 non-null  float64\n",
      " 646  away_player_jumping5              21178 non-null  float64\n",
      " 647  away_player_stamina5              21374 non-null  float64\n",
      " 648  away_player_strength5             21374 non-null  float64\n",
      " 649  away_player_long_shots5           21374 non-null  float64\n",
      " 650  away_player_aggression5           21374 non-null  float64\n",
      " 651  away_player_interceptions5        21374 non-null  float64\n",
      " 652  away_player_positioning5          21374 non-null  float64\n",
      " 653  away_player_vision5               21178 non-null  float64\n",
      " 654  away_player_penalties5            21374 non-null  float64\n",
      " 655  away_player_marking5              21374 non-null  float64\n",
      " 656  away_player_standing_tackle5      21374 non-null  float64\n",
      " 657  away_player_sliding_tackle5       21178 non-null  float64\n",
      " 658  away_player_gk_diving5            21374 non-null  float64\n",
      " 659  away_player_gk_handling5          21374 non-null  float64\n",
      " 660  away_player_gk_kicking5           21374 non-null  float64\n",
      " 661  away_player_gk_positioning5       21374 non-null  float64\n",
      " 662  away_player_gk_reflexes5          21374 non-null  float64\n",
      " 663  away_player_overall_rating6       21374 non-null  float64\n",
      " 664  away_player_potential6            21374 non-null  float64\n",
      " 665  away_player_crossing6             21374 non-null  float64\n",
      " 666  away_player_finishing6            21374 non-null  float64\n",
      " 667  away_player_heading_accuracy6     21374 non-null  float64\n",
      " 668  away_player_short_passing6        21374 non-null  float64\n",
      " 669  away_player_volleys6              21206 non-null  float64\n",
      " 670  away_player_dribbling6            21374 non-null  float64\n",
      " 671  away_player_curve6                21206 non-null  float64\n",
      " 672  away_player_free_kick_accuracy6   21374 non-null  float64\n",
      " 673  away_player_long_passing6         21374 non-null  float64\n",
      " 674  away_player_ball_control6         21374 non-null  float64\n",
      " 675  away_player_acceleration6         21374 non-null  float64\n",
      " 676  away_player_sprint_speed6         21374 non-null  float64\n",
      " 677  away_player_agility6              21206 non-null  float64\n",
      " 678  away_player_reactions6            21374 non-null  float64\n",
      " 679  away_player_balance6              21206 non-null  float64\n",
      " 680  away_player_shot_power6           21374 non-null  float64\n",
      " 681  away_player_jumping6              21206 non-null  float64\n",
      " 682  away_player_stamina6              21374 non-null  float64\n",
      " 683  away_player_strength6             21374 non-null  float64\n",
      " 684  away_player_long_shots6           21374 non-null  float64\n",
      " 685  away_player_aggression6           21374 non-null  float64\n",
      " 686  away_player_interceptions6        21374 non-null  float64\n",
      " 687  away_player_positioning6          21374 non-null  float64\n",
      " 688  away_player_vision6               21206 non-null  float64\n",
      " 689  away_player_penalties6            21374 non-null  float64\n",
      " 690  away_player_marking6              21374 non-null  float64\n",
      " 691  away_player_standing_tackle6      21374 non-null  float64\n",
      " 692  away_player_sliding_tackle6       21206 non-null  float64\n",
      " 693  away_player_gk_diving6            21374 non-null  float64\n",
      " 694  away_player_gk_handling6          21374 non-null  float64\n",
      " 695  away_player_gk_kicking6           21374 non-null  float64\n",
      " 696  away_player_gk_positioning6       21374 non-null  float64\n",
      " 697  away_player_gk_reflexes6          21374 non-null  float64\n",
      " 698  away_player_overall_rating7       21374 non-null  float64\n",
      " 699  away_player_potential7            21374 non-null  float64\n",
      " 700  away_player_crossing7             21374 non-null  float64\n",
      " 701  away_player_finishing7            21374 non-null  float64\n",
      " 702  away_player_heading_accuracy7     21374 non-null  float64\n",
      " 703  away_player_short_passing7        21374 non-null  float64\n",
      " 704  away_player_volleys7              21137 non-null  float64\n",
      " 705  away_player_dribbling7            21374 non-null  float64\n",
      " 706  away_player_curve7                21137 non-null  float64\n",
      " 707  away_player_free_kick_accuracy7   21374 non-null  float64\n",
      " 708  away_player_long_passing7         21374 non-null  float64\n",
      " 709  away_player_ball_control7         21374 non-null  float64\n",
      " 710  away_player_acceleration7         21374 non-null  float64\n",
      " 711  away_player_sprint_speed7         21374 non-null  float64\n",
      " 712  away_player_agility7              21137 non-null  float64\n",
      " 713  away_player_reactions7            21374 non-null  float64\n",
      " 714  away_player_balance7              21137 non-null  float64\n",
      " 715  away_player_shot_power7           21374 non-null  float64\n",
      " 716  away_player_jumping7              21137 non-null  float64\n",
      " 717  away_player_stamina7              21374 non-null  float64\n",
      " 718  away_player_strength7             21374 non-null  float64\n",
      " 719  away_player_long_shots7           21374 non-null  float64\n",
      " 720  away_player_aggression7           21374 non-null  float64\n",
      " 721  away_player_interceptions7        21374 non-null  float64\n",
      " 722  away_player_positioning7          21374 non-null  float64\n",
      " 723  away_player_vision7               21137 non-null  float64\n",
      " 724  away_player_penalties7            21374 non-null  float64\n",
      " 725  away_player_marking7              21374 non-null  float64\n",
      " 726  away_player_standing_tackle7      21374 non-null  float64\n",
      " 727  away_player_sliding_tackle7       21137 non-null  float64\n",
      " 728  away_player_gk_diving7            21374 non-null  float64\n",
      " 729  away_player_gk_handling7          21374 non-null  float64\n",
      " 730  away_player_gk_kicking7           21374 non-null  float64\n",
      " 731  away_player_gk_positioning7       21374 non-null  float64\n",
      " 732  away_player_gk_reflexes7          21374 non-null  float64\n",
      " 733  away_player_overall_rating8       21374 non-null  float64\n",
      " 734  away_player_potential8            21374 non-null  float64\n",
      " 735  away_player_crossing8             21374 non-null  float64\n",
      " 736  away_player_finishing8            21374 non-null  float64\n",
      " 737  away_player_heading_accuracy8     21374 non-null  float64\n",
      " 738  away_player_short_passing8        21374 non-null  float64\n",
      " 739  away_player_volleys8              21210 non-null  float64\n",
      " 740  away_player_dribbling8            21374 non-null  float64\n",
      " 741  away_player_curve8                21210 non-null  float64\n",
      " 742  away_player_free_kick_accuracy8   21374 non-null  float64\n",
      " 743  away_player_long_passing8         21374 non-null  float64\n",
      " 744  away_player_ball_control8         21374 non-null  float64\n",
      " 745  away_player_acceleration8         21374 non-null  float64\n",
      " 746  away_player_sprint_speed8         21374 non-null  float64\n",
      " 747  away_player_agility8              21210 non-null  float64\n",
      " 748  away_player_reactions8            21374 non-null  float64\n",
      " 749  away_player_balance8              21210 non-null  float64\n",
      " 750  away_player_shot_power8           21374 non-null  float64\n",
      " 751  away_player_jumping8              21210 non-null  float64\n",
      " 752  away_player_stamina8              21374 non-null  float64\n",
      " 753  away_player_strength8             21374 non-null  float64\n",
      " 754  away_player_long_shots8           21374 non-null  float64\n",
      " 755  away_player_aggression8           21374 non-null  float64\n",
      " 756  away_player_interceptions8        21374 non-null  float64\n",
      " 757  away_player_positioning8          21374 non-null  float64\n",
      " 758  away_player_vision8               21210 non-null  float64\n",
      " 759  away_player_penalties8            21374 non-null  float64\n",
      " 760  away_player_marking8              21374 non-null  float64\n",
      " 761  away_player_standing_tackle8      21374 non-null  float64\n",
      " 762  away_player_sliding_tackle8       21210 non-null  float64\n",
      " 763  away_player_gk_diving8            21374 non-null  float64\n",
      " 764  away_player_gk_handling8          21374 non-null  float64\n",
      " 765  away_player_gk_kicking8           21374 non-null  float64\n",
      " 766  away_player_gk_positioning8       21374 non-null  float64\n",
      " 767  away_player_gk_reflexes8          21374 non-null  float64\n",
      " 768  away_player_overall_rating9       21374 non-null  float64\n",
      " 769  away_player_potential9            21374 non-null  float64\n",
      " 770  away_player_crossing9             21374 non-null  float64\n",
      " 771  away_player_finishing9            21374 non-null  float64\n",
      " 772  away_player_heading_accuracy9     21374 non-null  float64\n",
      " 773  away_player_short_passing9        21374 non-null  float64\n",
      " 774  away_player_volleys9              21213 non-null  float64\n",
      " 775  away_player_dribbling9            21374 non-null  float64\n",
      " 776  away_player_curve9                21213 non-null  float64\n",
      " 777  away_player_free_kick_accuracy9   21374 non-null  float64\n",
      " 778  away_player_long_passing9         21374 non-null  float64\n",
      " 779  away_player_ball_control9         21374 non-null  float64\n",
      " 780  away_player_acceleration9         21374 non-null  float64\n",
      " 781  away_player_sprint_speed9         21374 non-null  float64\n",
      " 782  away_player_agility9              21213 non-null  float64\n",
      " 783  away_player_reactions9            21374 non-null  float64\n",
      " 784  away_player_balance9              21213 non-null  float64\n",
      " 785  away_player_shot_power9           21374 non-null  float64\n",
      " 786  away_player_jumping9              21213 non-null  float64\n",
      " 787  away_player_stamina9              21374 non-null  float64\n",
      " 788  away_player_strength9             21374 non-null  float64\n",
      " 789  away_player_long_shots9           21374 non-null  float64\n",
      " 790  away_player_aggression9           21374 non-null  float64\n",
      " 791  away_player_interceptions9        21374 non-null  float64\n",
      " 792  away_player_positioning9          21374 non-null  float64\n",
      " 793  away_player_vision9               21213 non-null  float64\n",
      " 794  away_player_penalties9            21374 non-null  float64\n",
      " 795  away_player_marking9              21374 non-null  float64\n",
      " 796  away_player_standing_tackle9      21374 non-null  float64\n",
      " 797  away_player_sliding_tackle9       21213 non-null  float64\n",
      " 798  away_player_gk_diving9            21374 non-null  float64\n",
      " 799  away_player_gk_handling9          21374 non-null  float64\n",
      " 800  away_player_gk_kicking9           21374 non-null  float64\n",
      " 801  away_player_gk_positioning9       21374 non-null  float64\n",
      " 802  away_player_gk_reflexes9          21374 non-null  float64\n",
      " 803  away_player_overall_rating10      21374 non-null  float64\n",
      " 804  away_player_potential10           21374 non-null  float64\n",
      " 805  away_player_crossing10            21374 non-null  float64\n",
      " 806  away_player_finishing10           21374 non-null  float64\n",
      " 807  away_player_heading_accuracy10    21374 non-null  float64\n",
      " 808  away_player_short_passing10       21374 non-null  float64\n",
      " 809  away_player_volleys10             21219 non-null  float64\n",
      " 810  away_player_dribbling10           21374 non-null  float64\n",
      " 811  away_player_curve10               21219 non-null  float64\n",
      " 812  away_player_free_kick_accuracy10  21374 non-null  float64\n",
      " 813  away_player_long_passing10        21374 non-null  float64\n",
      " 814  away_player_ball_control10        21374 non-null  float64\n",
      " 815  away_player_acceleration10        21374 non-null  float64\n",
      " 816  away_player_sprint_speed10        21374 non-null  float64\n",
      " 817  away_player_agility10             21219 non-null  float64\n",
      " 818  away_player_reactions10           21374 non-null  float64\n",
      " 819  away_player_balance10             21219 non-null  float64\n",
      " 820  away_player_shot_power10          21374 non-null  float64\n",
      " 821  away_player_jumping10             21219 non-null  float64\n",
      " 822  away_player_stamina10             21374 non-null  float64\n",
      " 823  away_player_strength10            21374 non-null  float64\n",
      " 824  away_player_long_shots10          21374 non-null  float64\n",
      " 825  away_player_aggression10          21374 non-null  float64\n",
      " 826  away_player_interceptions10       21374 non-null  float64\n",
      " 827  away_player_positioning10         21374 non-null  float64\n",
      " 828  away_player_vision10              21219 non-null  float64\n",
      " 829  away_player_penalties10           21374 non-null  float64\n",
      " 830  away_player_marking10             21374 non-null  float64\n",
      " 831  away_player_standing_tackle10     21374 non-null  float64\n",
      " 832  away_player_sliding_tackle10      21219 non-null  float64\n",
      " 833  away_player_gk_diving10           21374 non-null  float64\n",
      " 834  away_player_gk_handling10         21374 non-null  float64\n",
      " 835  away_player_gk_kicking10          21374 non-null  float64\n",
      " 836  away_player_gk_positioning10      21374 non-null  float64\n",
      " 837  away_player_gk_reflexes10         21374 non-null  float64\n",
      " 838  away_player_overall_rating11      21374 non-null  float64\n",
      " 839  away_player_potential11           21374 non-null  float64\n",
      " 840  away_player_crossing11            21374 non-null  float64\n",
      " 841  away_player_finishing11           21374 non-null  float64\n",
      " 842  away_player_heading_accuracy11    21374 non-null  float64\n",
      " 843  away_player_short_passing11       21374 non-null  float64\n",
      " 844  away_player_volleys11             21201 non-null  float64\n",
      " 845  away_player_dribbling11           21374 non-null  float64\n",
      " 846  away_player_curve11               21201 non-null  float64\n",
      " 847  away_player_free_kick_accuracy11  21374 non-null  float64\n",
      " 848  away_player_long_passing11        21374 non-null  float64\n",
      " 849  away_player_ball_control11        21374 non-null  float64\n",
      " 850  away_player_acceleration11        21374 non-null  float64\n",
      " 851  away_player_sprint_speed11        21374 non-null  float64\n",
      " 852  away_player_agility11             21201 non-null  float64\n",
      " 853  away_player_reactions11           21374 non-null  float64\n",
      " 854  away_player_balance11             21201 non-null  float64\n",
      " 855  away_player_shot_power11          21374 non-null  float64\n",
      " 856  away_player_jumping11             21201 non-null  float64\n",
      " 857  away_player_stamina11             21374 non-null  float64\n",
      " 858  away_player_strength11            21374 non-null  float64\n",
      " 859  away_player_long_shots11          21374 non-null  float64\n",
      " 860  away_player_aggression11          21374 non-null  float64\n",
      " 861  away_player_interceptions11       21374 non-null  float64\n",
      " 862  away_player_positioning11         21374 non-null  float64\n",
      " 863  away_player_vision11              21201 non-null  float64\n",
      " 864  away_player_penalties11           21374 non-null  float64\n",
      " 865  away_player_marking11             21374 non-null  float64\n",
      " 866  away_player_standing_tackle11     21374 non-null  float64\n",
      " 867  away_player_sliding_tackle11      21201 non-null  float64\n",
      " 868  away_player_gk_diving11           21374 non-null  float64\n",
      " 869  away_player_gk_handling11         21374 non-null  float64\n",
      " 870  away_player_gk_kicking11          21374 non-null  float64\n",
      " 871  away_player_gk_positioning11      21374 non-null  float64\n",
      " 872  away_player_gk_reflexes11         21374 non-null  float64\n",
      "dtypes: float64(854), int64(9), object(10)\n",
      "memory usage: 142.5+ MB\n"
     ]
    }
   ],
   "source": [
    "for i in range(1, len( df_bruto2.iloc[:,55:77].columns) ):\n",
    "    df_bruto2 = pd.merge(df_bruto2, df_player1.add_suffix(str(i)).add_prefix(\"away_player_\"), how=\"left\", \n",
    "                         left_on=\"away_player_\"+str(i), right_on=\"away_player_\"+\"player_api_id\"+str(i)).\\\n",
    "                         loc[:,list(df_bruto2.columns)+\\\n",
    "                               list(df_player1.loc[:, colunas_de_interesse].\\\n",
    "                                    add_suffix(str(i)).add_prefix(\"away_player_\").columns)]                                             \n",
    "    \n",
    "    if i==11:\n",
    "        break\n",
    "    \n",
    "df_bruto2.info(verbose=True, show_counts=True)"
   ]
  },
  {
   "cell_type": "markdown",
   "id": "fd037352",
   "metadata": {
    "hidden": true
   },
   "source": [
    "   "
   ]
  },
  {
   "cell_type": "markdown",
   "id": "7d579e69",
   "metadata": {
    "hidden": true
   },
   "source": [
    "Mesclando os dados do merge resultante com os atributos do time da casa (prefixo home) e do time adversário (prefixo away), oriundos do dataset Team_attributes"
   ]
  },
  {
   "cell_type": "code",
   "execution_count": 36,
   "id": "5e330a75",
   "metadata": {
    "ExecuteTime": {
     "end_time": "2022-02-17T18:26:34.651997Z",
     "start_time": "2022-02-17T18:26:34.638985Z"
    },
    "hidden": true
   },
   "outputs": [
    {
     "data": {
      "text/plain": [
       "288"
      ]
     },
     "execution_count": 36,
     "metadata": {},
     "output_type": "execute_result"
    }
   ],
   "source": [
    "len(df_bruto2.home_team_api_id.unique())"
   ]
  },
  {
   "cell_type": "code",
   "execution_count": 37,
   "id": "88cc110f",
   "metadata": {
    "ExecuteTime": {
     "end_time": "2022-02-17T18:26:34.667563Z",
     "start_time": "2022-02-17T18:26:34.653997Z"
    },
    "hidden": true
   },
   "outputs": [
    {
     "data": {
      "text/plain": [
       "288"
      ]
     },
     "execution_count": 37,
     "metadata": {},
     "output_type": "execute_result"
    }
   ],
   "source": [
    "len(df_bruto2.away_team_api_id.unique()) "
   ]
  },
  {
   "cell_type": "code",
   "execution_count": 38,
   "id": "691d3b4a",
   "metadata": {
    "ExecuteTime": {
     "end_time": "2022-02-17T18:26:35.165330Z",
     "start_time": "2022-02-17T18:26:34.671691Z"
    },
    "hidden": true
   },
   "outputs": [
    {
     "data": {
      "text/plain": [
       "(21374, 882)"
      ]
     },
     "execution_count": 38,
     "metadata": {},
     "output_type": "execute_result"
    }
   ],
   "source": [
    "df_bruto3 = pd.merge(df_bruto2, df_team_attributes.add_prefix(\"home_team_\"), how=\"left\", \n",
    "                     left_on=\"home_team_api_id\", right_on= \"home_team_\"+\"team_api_id\")\n",
    "#df_bruto3.info(verbose=True, show_counts=True) \n",
    "df_bruto3.shape"
   ]
  },
  {
   "cell_type": "code",
   "execution_count": 39,
   "id": "6059c607",
   "metadata": {
    "ExecuteTime": {
     "end_time": "2022-02-17T18:26:35.523539Z",
     "start_time": "2022-02-17T18:26:35.167338Z"
    },
    "hidden": true
   },
   "outputs": [
    {
     "name": "stdout",
     "output_type": "stream",
     "text": [
      "<class 'pandas.core.frame.DataFrame'>\n",
      "Int64Index: 21374 entries, 0 to 21373\n",
      "Data columns (total 891 columns):\n",
      " #    Column                            Non-Null Count  Dtype  \n",
      "---   ------                            --------------  -----  \n",
      " 0    id                                21374 non-null  int64  \n",
      " 1    country_id                        21374 non-null  int64  \n",
      " 2    league_id                         21374 non-null  int64  \n",
      " 3    season                            21374 non-null  object \n",
      " 4    stage                             21374 non-null  int64  \n",
      " 5    date                              21374 non-null  object \n",
      " 6    match_api_id                      21374 non-null  int64  \n",
      " 7    home_team_api_id                  21374 non-null  int64  \n",
      " 8    away_team_api_id                  21374 non-null  int64  \n",
      " 9    home_team_goal                    21374 non-null  int64  \n",
      " 10   away_team_goal                    21374 non-null  int64  \n",
      " 11   home_player_X1                    21367 non-null  float64\n",
      " 12   home_player_X2                    21367 non-null  float64\n",
      " 13   home_player_X3                    21365 non-null  float64\n",
      " 14   home_player_X4                    21365 non-null  float64\n",
      " 15   home_player_X5                    21365 non-null  float64\n",
      " 16   home_player_X6                    21365 non-null  float64\n",
      " 17   home_player_X7                    21365 non-null  float64\n",
      " 18   home_player_X8                    21365 non-null  float64\n",
      " 19   home_player_X9                    21365 non-null  float64\n",
      " 20   home_player_X10                   21365 non-null  float64\n",
      " 21   home_player_X11                   21365 non-null  float64\n",
      " 22   away_player_X1                    21365 non-null  float64\n",
      " 23   away_player_X2                    21365 non-null  float64\n",
      " 24   away_player_X3                    21365 non-null  float64\n",
      " 25   away_player_X4                    21365 non-null  float64\n",
      " 26   away_player_X5                    21365 non-null  float64\n",
      " 27   away_player_X6                    21365 non-null  float64\n",
      " 28   away_player_X7                    21365 non-null  float64\n",
      " 29   away_player_X8                    21365 non-null  float64\n",
      " 30   away_player_X9                    21365 non-null  float64\n",
      " 31   away_player_X10                   21365 non-null  float64\n",
      " 32   away_player_X11                   21361 non-null  float64\n",
      " 33   home_player_Y1                    21367 non-null  float64\n",
      " 34   home_player_Y2                    21367 non-null  float64\n",
      " 35   home_player_Y3                    21365 non-null  float64\n",
      " 36   home_player_Y4                    21365 non-null  float64\n",
      " 37   home_player_Y5                    21365 non-null  float64\n",
      " 38   home_player_Y6                    21365 non-null  float64\n",
      " 39   home_player_Y7                    21365 non-null  float64\n",
      " 40   home_player_Y8                    21365 non-null  float64\n",
      " 41   home_player_Y9                    21365 non-null  float64\n",
      " 42   home_player_Y10                   21365 non-null  float64\n",
      " 43   home_player_Y11                   21365 non-null  float64\n",
      " 44   away_player_Y1                    21365 non-null  float64\n",
      " 45   away_player_Y2                    21365 non-null  float64\n",
      " 46   away_player_Y3                    21365 non-null  float64\n",
      " 47   away_player_Y4                    21365 non-null  float64\n",
      " 48   away_player_Y5                    21365 non-null  float64\n",
      " 49   away_player_Y6                    21365 non-null  float64\n",
      " 50   away_player_Y7                    21365 non-null  float64\n",
      " 51   away_player_Y8                    21365 non-null  float64\n",
      " 52   away_player_Y9                    21365 non-null  float64\n",
      " 53   away_player_Y10                   21365 non-null  float64\n",
      " 54   away_player_Y11                   21361 non-null  float64\n",
      " 55   home_player_1                     21374 non-null  float64\n",
      " 56   home_player_2                     21374 non-null  float64\n",
      " 57   home_player_3                     21374 non-null  float64\n",
      " 58   home_player_4                     21374 non-null  float64\n",
      " 59   home_player_5                     21374 non-null  float64\n",
      " 60   home_player_6                     21374 non-null  float64\n",
      " 61   home_player_7                     21374 non-null  float64\n",
      " 62   home_player_8                     21374 non-null  float64\n",
      " 63   home_player_9                     21374 non-null  float64\n",
      " 64   home_player_10                    21374 non-null  float64\n",
      " 65   home_player_11                    21374 non-null  float64\n",
      " 66   away_player_1                     21374 non-null  float64\n",
      " 67   away_player_2                     21374 non-null  float64\n",
      " 68   away_player_3                     21374 non-null  float64\n",
      " 69   away_player_4                     21374 non-null  float64\n",
      " 70   away_player_5                     21374 non-null  float64\n",
      " 71   away_player_6                     21374 non-null  float64\n",
      " 72   away_player_7                     21374 non-null  float64\n",
      " 73   away_player_8                     21374 non-null  float64\n",
      " 74   away_player_9                     21374 non-null  float64\n",
      " 75   away_player_10                    21374 non-null  float64\n",
      " 76   away_player_11                    21374 non-null  float64\n",
      " 77   goal                              13325 non-null  object \n",
      " 78   shoton                            13325 non-null  object \n",
      " 79   shotoff                           13325 non-null  object \n",
      " 80   foulcommit                        13325 non-null  object \n",
      " 81   card                              13325 non-null  object \n",
      " 82   cross                             13325 non-null  object \n",
      " 83   corner                            13325 non-null  object \n",
      " 84   possession                        13325 non-null  object \n",
      " 85   B365H                             19691 non-null  float64\n",
      " 86   B365D                             19691 non-null  float64\n",
      " 87   B365A                             19691 non-null  float64\n",
      " 88   BWH                               19675 non-null  float64\n",
      " 89   BWD                               19675 non-null  float64\n",
      " 90   BWA                               19675 non-null  float64\n",
      " 91   IWH                               19635 non-null  float64\n",
      " 92   IWD                               19635 non-null  float64\n",
      " 93   IWA                               19635 non-null  float64\n",
      " 94   LBH                               19662 non-null  float64\n",
      " 95   LBD                               19662 non-null  float64\n",
      " 96   LBA                               19662 non-null  float64\n",
      " 97   WHH                               19678 non-null  float64\n",
      " 98   WHD                               19678 non-null  float64\n",
      " 99   WHA                               19678 non-null  float64\n",
      " 100  VCH                               19669 non-null  float64\n",
      " 101  VCD                               19669 non-null  float64\n",
      " 102  VCA                               19669 non-null  float64\n",
      " 103  home_player_overall_rating1       21374 non-null  float64\n",
      " 104  home_player_potential1            21374 non-null  float64\n",
      " 105  home_player_crossing1             21374 non-null  float64\n",
      " 106  home_player_finishing1            21374 non-null  float64\n",
      " 107  home_player_heading_accuracy1     21374 non-null  float64\n",
      " 108  home_player_short_passing1        21374 non-null  float64\n",
      " 109  home_player_volleys1              21243 non-null  float64\n",
      " 110  home_player_dribbling1            21374 non-null  float64\n",
      " 111  home_player_curve1                21243 non-null  float64\n",
      " 112  home_player_free_kick_accuracy1   21374 non-null  float64\n",
      " 113  home_player_long_passing1         21374 non-null  float64\n",
      " 114  home_player_ball_control1         21374 non-null  float64\n",
      " 115  home_player_acceleration1         21374 non-null  float64\n",
      " 116  home_player_sprint_speed1         21374 non-null  float64\n",
      " 117  home_player_agility1              21243 non-null  float64\n",
      " 118  home_player_reactions1            21374 non-null  float64\n",
      " 119  home_player_balance1              21243 non-null  float64\n",
      " 120  home_player_shot_power1           21374 non-null  float64\n",
      " 121  home_player_jumping1              21243 non-null  float64\n",
      " 122  home_player_stamina1              21374 non-null  float64\n",
      " 123  home_player_strength1             21374 non-null  float64\n",
      " 124  home_player_long_shots1           21374 non-null  float64\n",
      " 125  home_player_aggression1           21374 non-null  float64\n",
      " 126  home_player_interceptions1        21374 non-null  float64\n",
      " 127  home_player_positioning1          21374 non-null  float64\n",
      " 128  home_player_vision1               21243 non-null  float64\n",
      " 129  home_player_penalties1            21374 non-null  float64\n",
      " 130  home_player_marking1              21374 non-null  float64\n",
      " 131  home_player_standing_tackle1      21374 non-null  float64\n",
      " 132  home_player_sliding_tackle1       21243 non-null  float64\n",
      " 133  home_player_gk_diving1            21374 non-null  float64\n",
      " 134  home_player_gk_handling1          21374 non-null  float64\n",
      " 135  home_player_gk_kicking1           21374 non-null  float64\n",
      " 136  home_player_gk_positioning1       21374 non-null  float64\n",
      " 137  home_player_gk_reflexes1          21374 non-null  float64\n",
      " 138  home_player_overall_rating2       21374 non-null  float64\n",
      " 139  home_player_potential2            21374 non-null  float64\n",
      " 140  home_player_crossing2             21374 non-null  float64\n",
      " 141  home_player_finishing2            21374 non-null  float64\n",
      " 142  home_player_heading_accuracy2     21374 non-null  float64\n",
      " 143  home_player_short_passing2        21374 non-null  float64\n",
      " 144  home_player_volleys2              21094 non-null  float64\n",
      " 145  home_player_dribbling2            21374 non-null  float64\n",
      " 146  home_player_curve2                21094 non-null  float64\n",
      " 147  home_player_free_kick_accuracy2   21374 non-null  float64\n",
      " 148  home_player_long_passing2         21374 non-null  float64\n",
      " 149  home_player_ball_control2         21374 non-null  float64\n",
      " 150  home_player_acceleration2         21374 non-null  float64\n",
      " 151  home_player_sprint_speed2         21374 non-null  float64\n",
      " 152  home_player_agility2              21094 non-null  float64\n",
      " 153  home_player_reactions2            21374 non-null  float64\n",
      " 154  home_player_balance2              21094 non-null  float64\n",
      " 155  home_player_shot_power2           21374 non-null  float64\n",
      " 156  home_player_jumping2              21094 non-null  float64\n",
      " 157  home_player_stamina2              21374 non-null  float64\n",
      " 158  home_player_strength2             21374 non-null  float64\n",
      " 159  home_player_long_shots2           21374 non-null  float64\n",
      " 160  home_player_aggression2           21374 non-null  float64\n",
      " 161  home_player_interceptions2        21374 non-null  float64\n",
      " 162  home_player_positioning2          21374 non-null  float64\n",
      " 163  home_player_vision2               21094 non-null  float64\n",
      " 164  home_player_penalties2            21374 non-null  float64\n",
      " 165  home_player_marking2              21374 non-null  float64\n",
      " 166  home_player_standing_tackle2      21374 non-null  float64\n",
      " 167  home_player_sliding_tackle2       21094 non-null  float64\n",
      " 168  home_player_gk_diving2            21374 non-null  float64\n",
      " 169  home_player_gk_handling2          21374 non-null  float64\n",
      " 170  home_player_gk_kicking2           21374 non-null  float64\n",
      " 171  home_player_gk_positioning2       21374 non-null  float64\n",
      " 172  home_player_gk_reflexes2          21374 non-null  float64\n",
      " 173  home_player_overall_rating3       21374 non-null  float64\n",
      " 174  home_player_potential3            21374 non-null  float64\n",
      " 175  home_player_crossing3             21374 non-null  float64\n",
      " 176  home_player_finishing3            21374 non-null  float64\n",
      " 177  home_player_heading_accuracy3     21374 non-null  float64\n",
      " 178  home_player_short_passing3        21374 non-null  float64\n",
      " 179  home_player_volleys3              21089 non-null  float64\n",
      " 180  home_player_dribbling3            21374 non-null  float64\n",
      " 181  home_player_curve3                21089 non-null  float64\n",
      " 182  home_player_free_kick_accuracy3   21374 non-null  float64\n",
      " 183  home_player_long_passing3         21374 non-null  float64\n",
      " 184  home_player_ball_control3         21374 non-null  float64\n",
      " 185  home_player_acceleration3         21374 non-null  float64\n",
      " 186  home_player_sprint_speed3         21374 non-null  float64\n",
      " 187  home_player_agility3              21089 non-null  float64\n",
      " 188  home_player_reactions3            21374 non-null  float64\n",
      " 189  home_player_balance3              21089 non-null  float64\n",
      " 190  home_player_shot_power3           21374 non-null  float64\n",
      " 191  home_player_jumping3              21089 non-null  float64\n",
      " 192  home_player_stamina3              21374 non-null  float64\n",
      " 193  home_player_strength3             21374 non-null  float64\n",
      " 194  home_player_long_shots3           21374 non-null  float64\n",
      " 195  home_player_aggression3           21374 non-null  float64\n",
      " 196  home_player_interceptions3        21374 non-null  float64\n",
      " 197  home_player_positioning3          21374 non-null  float64\n",
      " 198  home_player_vision3               21089 non-null  float64\n",
      " 199  home_player_penalties3            21374 non-null  float64\n",
      " 200  home_player_marking3              21374 non-null  float64\n",
      " 201  home_player_standing_tackle3      21374 non-null  float64\n",
      " 202  home_player_sliding_tackle3       21089 non-null  float64\n",
      " 203  home_player_gk_diving3            21374 non-null  float64\n",
      " 204  home_player_gk_handling3          21374 non-null  float64\n",
      " 205  home_player_gk_kicking3           21374 non-null  float64\n",
      " 206  home_player_gk_positioning3       21374 non-null  float64\n",
      " 207  home_player_gk_reflexes3          21374 non-null  float64\n",
      " 208  home_player_overall_rating4       21374 non-null  float64\n",
      " 209  home_player_potential4            21374 non-null  float64\n",
      " 210  home_player_crossing4             21374 non-null  float64\n",
      " 211  home_player_finishing4            21374 non-null  float64\n",
      " 212  home_player_heading_accuracy4     21374 non-null  float64\n",
      " 213  home_player_short_passing4        21374 non-null  float64\n",
      " 214  home_player_volleys4              21144 non-null  float64\n",
      " 215  home_player_dribbling4            21374 non-null  float64\n",
      " 216  home_player_curve4                21144 non-null  float64\n",
      " 217  home_player_free_kick_accuracy4   21374 non-null  float64\n",
      " 218  home_player_long_passing4         21374 non-null  float64\n",
      " 219  home_player_ball_control4         21374 non-null  float64\n",
      " 220  home_player_acceleration4         21374 non-null  float64\n",
      " 221  home_player_sprint_speed4         21374 non-null  float64\n",
      " 222  home_player_agility4              21144 non-null  float64\n",
      " 223  home_player_reactions4            21374 non-null  float64\n",
      " 224  home_player_balance4              21144 non-null  float64\n",
      " 225  home_player_shot_power4           21374 non-null  float64\n",
      " 226  home_player_jumping4              21144 non-null  float64\n",
      " 227  home_player_stamina4              21374 non-null  float64\n",
      " 228  home_player_strength4             21374 non-null  float64\n",
      " 229  home_player_long_shots4           21374 non-null  float64\n",
      " 230  home_player_aggression4           21374 non-null  float64\n",
      " 231  home_player_interceptions4        21374 non-null  float64\n",
      " 232  home_player_positioning4          21374 non-null  float64\n",
      " 233  home_player_vision4               21144 non-null  float64\n",
      " 234  home_player_penalties4            21374 non-null  float64\n",
      " 235  home_player_marking4              21374 non-null  float64\n",
      " 236  home_player_standing_tackle4      21374 non-null  float64\n",
      " 237  home_player_sliding_tackle4       21144 non-null  float64\n",
      " 238  home_player_gk_diving4            21374 non-null  float64\n",
      " 239  home_player_gk_handling4          21374 non-null  float64\n",
      " 240  home_player_gk_kicking4           21374 non-null  float64\n",
      " 241  home_player_gk_positioning4       21374 non-null  float64\n",
      " 242  home_player_gk_reflexes4          21374 non-null  float64\n",
      " 243  home_player_overall_rating5       21374 non-null  float64\n",
      " 244  home_player_potential5            21374 non-null  float64\n",
      " 245  home_player_crossing5             21374 non-null  float64\n",
      " 246  home_player_finishing5            21374 non-null  float64\n",
      " 247  home_player_heading_accuracy5     21374 non-null  float64\n",
      " 248  home_player_short_passing5        21374 non-null  float64\n",
      " 249  home_player_volleys5              21182 non-null  float64\n",
      " 250  home_player_dribbling5            21374 non-null  float64\n",
      " 251  home_player_curve5                21182 non-null  float64\n",
      " 252  home_player_free_kick_accuracy5   21374 non-null  float64\n",
      " 253  home_player_long_passing5         21374 non-null  float64\n",
      " 254  home_player_ball_control5         21374 non-null  float64\n",
      " 255  home_player_acceleration5         21374 non-null  float64\n",
      " 256  home_player_sprint_speed5         21374 non-null  float64\n",
      " 257  home_player_agility5              21182 non-null  float64\n",
      " 258  home_player_reactions5            21374 non-null  float64\n",
      " 259  home_player_balance5              21182 non-null  float64\n",
      " 260  home_player_shot_power5           21374 non-null  float64\n",
      " 261  home_player_jumping5              21182 non-null  float64\n",
      " 262  home_player_stamina5              21374 non-null  float64\n",
      " 263  home_player_strength5             21374 non-null  float64\n",
      " 264  home_player_long_shots5           21374 non-null  float64\n",
      " 265  home_player_aggression5           21374 non-null  float64\n",
      " 266  home_player_interceptions5        21374 non-null  float64\n",
      " 267  home_player_positioning5          21374 non-null  float64\n",
      " 268  home_player_vision5               21182 non-null  float64\n",
      " 269  home_player_penalties5            21374 non-null  float64\n",
      " 270  home_player_marking5              21374 non-null  float64\n",
      " 271  home_player_standing_tackle5      21374 non-null  float64\n",
      " 272  home_player_sliding_tackle5       21182 non-null  float64\n",
      " 273  home_player_gk_diving5            21374 non-null  float64\n",
      " 274  home_player_gk_handling5          21374 non-null  float64\n",
      " 275  home_player_gk_kicking5           21374 non-null  float64\n",
      " 276  home_player_gk_positioning5       21374 non-null  float64\n",
      " 277  home_player_gk_reflexes5          21374 non-null  float64\n",
      " 278  home_player_overall_rating6       21374 non-null  float64\n",
      " 279  home_player_potential6            21374 non-null  float64\n",
      " 280  home_player_crossing6             21374 non-null  float64\n",
      " 281  home_player_finishing6            21374 non-null  float64\n",
      " 282  home_player_heading_accuracy6     21374 non-null  float64\n",
      " 283  home_player_short_passing6        21374 non-null  float64\n",
      " 284  home_player_volleys6              21216 non-null  float64\n",
      " 285  home_player_dribbling6            21374 non-null  float64\n",
      " 286  home_player_curve6                21216 non-null  float64\n",
      " 287  home_player_free_kick_accuracy6   21374 non-null  float64\n",
      " 288  home_player_long_passing6         21374 non-null  float64\n",
      " 289  home_player_ball_control6         21374 non-null  float64\n",
      " 290  home_player_acceleration6         21374 non-null  float64\n",
      " 291  home_player_sprint_speed6         21374 non-null  float64\n",
      " 292  home_player_agility6              21216 non-null  float64\n",
      " 293  home_player_reactions6            21374 non-null  float64\n",
      " 294  home_player_balance6              21216 non-null  float64\n",
      " 295  home_player_shot_power6           21374 non-null  float64\n",
      " 296  home_player_jumping6              21216 non-null  float64\n",
      " 297  home_player_stamina6              21374 non-null  float64\n",
      " 298  home_player_strength6             21374 non-null  float64\n",
      " 299  home_player_long_shots6           21374 non-null  float64\n",
      " 300  home_player_aggression6           21374 non-null  float64\n",
      " 301  home_player_interceptions6        21374 non-null  float64\n",
      " 302  home_player_positioning6          21374 non-null  float64\n",
      " 303  home_player_vision6               21216 non-null  float64\n",
      " 304  home_player_penalties6            21374 non-null  float64\n",
      " 305  home_player_marking6              21374 non-null  float64\n",
      " 306  home_player_standing_tackle6      21374 non-null  float64\n",
      " 307  home_player_sliding_tackle6       21216 non-null  float64\n",
      " 308  home_player_gk_diving6            21374 non-null  float64\n",
      " 309  home_player_gk_handling6          21374 non-null  float64\n",
      " 310  home_player_gk_kicking6           21374 non-null  float64\n",
      " 311  home_player_gk_positioning6       21374 non-null  float64\n",
      " 312  home_player_gk_reflexes6          21374 non-null  float64\n",
      " 313  home_player_overall_rating7       21374 non-null  float64\n",
      " 314  home_player_potential7            21374 non-null  float64\n",
      " 315  home_player_crossing7             21374 non-null  float64\n",
      " 316  home_player_finishing7            21374 non-null  float64\n",
      " 317  home_player_heading_accuracy7     21374 non-null  float64\n",
      " 318  home_player_short_passing7        21374 non-null  float64\n",
      " 319  home_player_volleys7              21135 non-null  float64\n",
      " 320  home_player_dribbling7            21374 non-null  float64\n",
      " 321  home_player_curve7                21135 non-null  float64\n",
      " 322  home_player_free_kick_accuracy7   21374 non-null  float64\n",
      " 323  home_player_long_passing7         21374 non-null  float64\n",
      " 324  home_player_ball_control7         21374 non-null  float64\n",
      " 325  home_player_acceleration7         21374 non-null  float64\n",
      " 326  home_player_sprint_speed7         21374 non-null  float64\n",
      " 327  home_player_agility7              21135 non-null  float64\n",
      " 328  home_player_reactions7            21374 non-null  float64\n",
      " 329  home_player_balance7              21135 non-null  float64\n",
      " 330  home_player_shot_power7           21374 non-null  float64\n",
      " 331  home_player_jumping7              21135 non-null  float64\n",
      " 332  home_player_stamina7              21374 non-null  float64\n",
      " 333  home_player_strength7             21374 non-null  float64\n",
      " 334  home_player_long_shots7           21374 non-null  float64\n",
      " 335  home_player_aggression7           21374 non-null  float64\n",
      " 336  home_player_interceptions7        21374 non-null  float64\n",
      " 337  home_player_positioning7          21374 non-null  float64\n",
      " 338  home_player_vision7               21135 non-null  float64\n",
      " 339  home_player_penalties7            21374 non-null  float64\n",
      " 340  home_player_marking7              21374 non-null  float64\n",
      " 341  home_player_standing_tackle7      21374 non-null  float64\n",
      " 342  home_player_sliding_tackle7       21135 non-null  float64\n",
      " 343  home_player_gk_diving7            21374 non-null  float64\n",
      " 344  home_player_gk_handling7          21374 non-null  float64\n",
      " 345  home_player_gk_kicking7           21374 non-null  float64\n",
      " 346  home_player_gk_positioning7       21374 non-null  float64\n",
      " 347  home_player_gk_reflexes7          21374 non-null  float64\n",
      " 348  home_player_overall_rating8       21374 non-null  float64\n",
      " 349  home_player_potential8            21374 non-null  float64\n",
      " 350  home_player_crossing8             21374 non-null  float64\n",
      " 351  home_player_finishing8            21374 non-null  float64\n",
      " 352  home_player_heading_accuracy8     21374 non-null  float64\n",
      " 353  home_player_short_passing8        21374 non-null  float64\n",
      " 354  home_player_volleys8              21203 non-null  float64\n",
      " 355  home_player_dribbling8            21374 non-null  float64\n",
      " 356  home_player_curve8                21203 non-null  float64\n",
      " 357  home_player_free_kick_accuracy8   21374 non-null  float64\n",
      " 358  home_player_long_passing8         21374 non-null  float64\n",
      " 359  home_player_ball_control8         21374 non-null  float64\n",
      " 360  home_player_acceleration8         21374 non-null  float64\n",
      " 361  home_player_sprint_speed8         21374 non-null  float64\n",
      " 362  home_player_agility8              21203 non-null  float64\n",
      " 363  home_player_reactions8            21374 non-null  float64\n",
      " 364  home_player_balance8              21203 non-null  float64\n",
      " 365  home_player_shot_power8           21374 non-null  float64\n",
      " 366  home_player_jumping8              21203 non-null  float64\n",
      " 367  home_player_stamina8              21374 non-null  float64\n",
      " 368  home_player_strength8             21374 non-null  float64\n",
      " 369  home_player_long_shots8           21374 non-null  float64\n",
      " 370  home_player_aggression8           21374 non-null  float64\n",
      " 371  home_player_interceptions8        21374 non-null  float64\n",
      " 372  home_player_positioning8          21374 non-null  float64\n",
      " 373  home_player_vision8               21203 non-null  float64\n",
      " 374  home_player_penalties8            21374 non-null  float64\n",
      " 375  home_player_marking8              21374 non-null  float64\n",
      " 376  home_player_standing_tackle8      21374 non-null  float64\n",
      " 377  home_player_sliding_tackle8       21203 non-null  float64\n",
      " 378  home_player_gk_diving8            21374 non-null  float64\n",
      " 379  home_player_gk_handling8          21374 non-null  float64\n",
      " 380  home_player_gk_kicking8           21374 non-null  float64\n",
      " 381  home_player_gk_positioning8       21374 non-null  float64\n",
      " 382  home_player_gk_reflexes8          21374 non-null  float64\n",
      " 383  home_player_overall_rating9       21374 non-null  float64\n",
      " 384  home_player_potential9            21374 non-null  float64\n",
      " 385  home_player_crossing9             21374 non-null  float64\n",
      " 386  home_player_finishing9            21374 non-null  float64\n",
      " 387  home_player_heading_accuracy9     21374 non-null  float64\n",
      " 388  home_player_short_passing9        21374 non-null  float64\n",
      " 389  home_player_volleys9              21225 non-null  float64\n",
      " 390  home_player_dribbling9            21374 non-null  float64\n",
      " 391  home_player_curve9                21225 non-null  float64\n",
      " 392  home_player_free_kick_accuracy9   21374 non-null  float64\n",
      " 393  home_player_long_passing9         21374 non-null  float64\n",
      " 394  home_player_ball_control9         21374 non-null  float64\n",
      " 395  home_player_acceleration9         21374 non-null  float64\n",
      " 396  home_player_sprint_speed9         21374 non-null  float64\n",
      " 397  home_player_agility9              21225 non-null  float64\n",
      " 398  home_player_reactions9            21374 non-null  float64\n",
      " 399  home_player_balance9              21225 non-null  float64\n",
      " 400  home_player_shot_power9           21374 non-null  float64\n",
      " 401  home_player_jumping9              21225 non-null  float64\n",
      " 402  home_player_stamina9              21374 non-null  float64\n",
      " 403  home_player_strength9             21374 non-null  float64\n",
      " 404  home_player_long_shots9           21374 non-null  float64\n",
      " 405  home_player_aggression9           21374 non-null  float64\n",
      " 406  home_player_interceptions9        21374 non-null  float64\n",
      " 407  home_player_positioning9          21374 non-null  float64\n",
      " 408  home_player_vision9               21225 non-null  float64\n",
      " 409  home_player_penalties9            21374 non-null  float64\n",
      " 410  home_player_marking9              21374 non-null  float64\n",
      " 411  home_player_standing_tackle9      21374 non-null  float64\n",
      " 412  home_player_sliding_tackle9       21225 non-null  float64\n",
      " 413  home_player_gk_diving9            21374 non-null  float64\n",
      " 414  home_player_gk_handling9          21374 non-null  float64\n",
      " 415  home_player_gk_kicking9           21374 non-null  float64\n",
      " 416  home_player_gk_positioning9       21374 non-null  float64\n",
      " 417  home_player_gk_reflexes9          21374 non-null  float64\n",
      " 418  home_player_overall_rating10      21374 non-null  float64\n",
      " 419  home_player_potential10           21374 non-null  float64\n",
      " 420  home_player_crossing10            21374 non-null  float64\n",
      " 421  home_player_finishing10           21374 non-null  float64\n",
      " 422  home_player_heading_accuracy10    21374 non-null  float64\n",
      " 423  home_player_short_passing10       21374 non-null  float64\n",
      " 424  home_player_volleys10             21211 non-null  float64\n",
      " 425  home_player_dribbling10           21374 non-null  float64\n",
      " 426  home_player_curve10               21211 non-null  float64\n",
      " 427  home_player_free_kick_accuracy10  21374 non-null  float64\n",
      " 428  home_player_long_passing10        21374 non-null  float64\n",
      " 429  home_player_ball_control10        21374 non-null  float64\n",
      " 430  home_player_acceleration10        21374 non-null  float64\n",
      " 431  home_player_sprint_speed10        21374 non-null  float64\n",
      " 432  home_player_agility10             21211 non-null  float64\n",
      " 433  home_player_reactions10           21374 non-null  float64\n",
      " 434  home_player_balance10             21211 non-null  float64\n",
      " 435  home_player_shot_power10          21374 non-null  float64\n",
      " 436  home_player_jumping10             21211 non-null  float64\n",
      " 437  home_player_stamina10             21374 non-null  float64\n",
      " 438  home_player_strength10            21374 non-null  float64\n",
      " 439  home_player_long_shots10          21374 non-null  float64\n",
      " 440  home_player_aggression10          21374 non-null  float64\n",
      " 441  home_player_interceptions10       21374 non-null  float64\n",
      " 442  home_player_positioning10         21374 non-null  float64\n",
      " 443  home_player_vision10              21211 non-null  float64\n",
      " 444  home_player_penalties10           21374 non-null  float64\n",
      " 445  home_player_marking10             21374 non-null  float64\n",
      " 446  home_player_standing_tackle10     21374 non-null  float64\n",
      " 447  home_player_sliding_tackle10      21211 non-null  float64\n",
      " 448  home_player_gk_diving10           21374 non-null  float64\n",
      " 449  home_player_gk_handling10         21374 non-null  float64\n",
      " 450  home_player_gk_kicking10          21374 non-null  float64\n",
      " 451  home_player_gk_positioning10      21374 non-null  float64\n",
      " 452  home_player_gk_reflexes10         21374 non-null  float64\n",
      " 453  home_player_overall_rating11      21374 non-null  float64\n",
      " 454  home_player_potential11           21374 non-null  float64\n",
      " 455  home_player_crossing11            21374 non-null  float64\n",
      " 456  home_player_finishing11           21374 non-null  float64\n",
      " 457  home_player_heading_accuracy11    21374 non-null  float64\n",
      " 458  home_player_short_passing11       21374 non-null  float64\n",
      " 459  home_player_volleys11             21211 non-null  float64\n",
      " 460  home_player_dribbling11           21374 non-null  float64\n",
      " 461  home_player_curve11               21211 non-null  float64\n",
      " 462  home_player_free_kick_accuracy11  21374 non-null  float64\n",
      " 463  home_player_long_passing11        21374 non-null  float64\n",
      " 464  home_player_ball_control11        21374 non-null  float64\n",
      " 465  home_player_acceleration11        21374 non-null  float64\n",
      " 466  home_player_sprint_speed11        21374 non-null  float64\n",
      " 467  home_player_agility11             21211 non-null  float64\n",
      " 468  home_player_reactions11           21374 non-null  float64\n",
      " 469  home_player_balance11             21211 non-null  float64\n",
      " 470  home_player_shot_power11          21374 non-null  float64\n",
      " 471  home_player_jumping11             21211 non-null  float64\n",
      " 472  home_player_stamina11             21374 non-null  float64\n",
      " 473  home_player_strength11            21374 non-null  float64\n",
      " 474  home_player_long_shots11          21374 non-null  float64\n",
      " 475  home_player_aggression11          21374 non-null  float64\n",
      " 476  home_player_interceptions11       21374 non-null  float64\n",
      " 477  home_player_positioning11         21374 non-null  float64\n",
      " 478  home_player_vision11              21211 non-null  float64\n",
      " 479  home_player_penalties11           21374 non-null  float64\n",
      " 480  home_player_marking11             21374 non-null  float64\n",
      " 481  home_player_standing_tackle11     21374 non-null  float64\n",
      " 482  home_player_sliding_tackle11      21211 non-null  float64\n",
      " 483  home_player_gk_diving11           21374 non-null  float64\n",
      " 484  home_player_gk_handling11         21374 non-null  float64\n",
      " 485  home_player_gk_kicking11          21374 non-null  float64\n",
      " 486  home_player_gk_positioning11      21374 non-null  float64\n",
      " 487  home_player_gk_reflexes11         21374 non-null  float64\n",
      " 488  away_player_overall_rating1       21374 non-null  float64\n",
      " 489  away_player_potential1            21374 non-null  float64\n",
      " 490  away_player_crossing1             21374 non-null  float64\n",
      " 491  away_player_finishing1            21374 non-null  float64\n",
      " 492  away_player_heading_accuracy1     21374 non-null  float64\n",
      " 493  away_player_short_passing1        21374 non-null  float64\n",
      " 494  away_player_volleys1              21233 non-null  float64\n",
      " 495  away_player_dribbling1            21374 non-null  float64\n",
      " 496  away_player_curve1                21233 non-null  float64\n",
      " 497  away_player_free_kick_accuracy1   21374 non-null  float64\n",
      " 498  away_player_long_passing1         21374 non-null  float64\n",
      " 499  away_player_ball_control1         21374 non-null  float64\n",
      " 500  away_player_acceleration1         21374 non-null  float64\n",
      " 501  away_player_sprint_speed1         21374 non-null  float64\n",
      " 502  away_player_agility1              21233 non-null  float64\n",
      " 503  away_player_reactions1            21374 non-null  float64\n",
      " 504  away_player_balance1              21233 non-null  float64\n",
      " 505  away_player_shot_power1           21374 non-null  float64\n",
      " 506  away_player_jumping1              21233 non-null  float64\n",
      " 507  away_player_stamina1              21374 non-null  float64\n",
      " 508  away_player_strength1             21374 non-null  float64\n",
      " 509  away_player_long_shots1           21374 non-null  float64\n",
      " 510  away_player_aggression1           21374 non-null  float64\n",
      " 511  away_player_interceptions1        21374 non-null  float64\n",
      " 512  away_player_positioning1          21374 non-null  float64\n",
      " 513  away_player_vision1               21233 non-null  float64\n",
      " 514  away_player_penalties1            21374 non-null  float64\n",
      " 515  away_player_marking1              21374 non-null  float64\n",
      " 516  away_player_standing_tackle1      21374 non-null  float64\n",
      " 517  away_player_sliding_tackle1       21233 non-null  float64\n",
      " 518  away_player_gk_diving1            21374 non-null  float64\n",
      " 519  away_player_gk_handling1          21374 non-null  float64\n",
      " 520  away_player_gk_kicking1           21374 non-null  float64\n",
      " 521  away_player_gk_positioning1       21374 non-null  float64\n",
      " 522  away_player_gk_reflexes1          21374 non-null  float64\n",
      " 523  away_player_overall_rating2       21374 non-null  float64\n",
      " 524  away_player_potential2            21374 non-null  float64\n",
      " 525  away_player_crossing2             21374 non-null  float64\n",
      " 526  away_player_finishing2            21374 non-null  float64\n",
      " 527  away_player_heading_accuracy2     21374 non-null  float64\n",
      " 528  away_player_short_passing2        21374 non-null  float64\n",
      " 529  away_player_volleys2              21101 non-null  float64\n",
      " 530  away_player_dribbling2            21374 non-null  float64\n",
      " 531  away_player_curve2                21101 non-null  float64\n",
      " 532  away_player_free_kick_accuracy2   21374 non-null  float64\n",
      " 533  away_player_long_passing2         21374 non-null  float64\n",
      " 534  away_player_ball_control2         21374 non-null  float64\n",
      " 535  away_player_acceleration2         21374 non-null  float64\n",
      " 536  away_player_sprint_speed2         21374 non-null  float64\n",
      " 537  away_player_agility2              21101 non-null  float64\n",
      " 538  away_player_reactions2            21374 non-null  float64\n",
      " 539  away_player_balance2              21101 non-null  float64\n",
      " 540  away_player_shot_power2           21374 non-null  float64\n",
      " 541  away_player_jumping2              21101 non-null  float64\n",
      " 542  away_player_stamina2              21374 non-null  float64\n",
      " 543  away_player_strength2             21374 non-null  float64\n",
      " 544  away_player_long_shots2           21374 non-null  float64\n",
      " 545  away_player_aggression2           21374 non-null  float64\n",
      " 546  away_player_interceptions2        21374 non-null  float64\n",
      " 547  away_player_positioning2          21374 non-null  float64\n",
      " 548  away_player_vision2               21101 non-null  float64\n",
      " 549  away_player_penalties2            21374 non-null  float64\n",
      " 550  away_player_marking2              21374 non-null  float64\n",
      " 551  away_player_standing_tackle2      21374 non-null  float64\n",
      " 552  away_player_sliding_tackle2       21101 non-null  float64\n",
      " 553  away_player_gk_diving2            21374 non-null  float64\n",
      " 554  away_player_gk_handling2          21374 non-null  float64\n",
      " 555  away_player_gk_kicking2           21374 non-null  float64\n",
      " 556  away_player_gk_positioning2       21374 non-null  float64\n",
      " 557  away_player_gk_reflexes2          21374 non-null  float64\n",
      " 558  away_player_overall_rating3       21374 non-null  float64\n",
      " 559  away_player_potential3            21374 non-null  float64\n",
      " 560  away_player_crossing3             21374 non-null  float64\n",
      " 561  away_player_finishing3            21374 non-null  float64\n",
      " 562  away_player_heading_accuracy3     21374 non-null  float64\n",
      " 563  away_player_short_passing3        21374 non-null  float64\n",
      " 564  away_player_volleys3              21094 non-null  float64\n",
      " 565  away_player_dribbling3            21374 non-null  float64\n",
      " 566  away_player_curve3                21094 non-null  float64\n",
      " 567  away_player_free_kick_accuracy3   21374 non-null  float64\n",
      " 568  away_player_long_passing3         21374 non-null  float64\n",
      " 569  away_player_ball_control3         21374 non-null  float64\n",
      " 570  away_player_acceleration3         21374 non-null  float64\n",
      " 571  away_player_sprint_speed3         21374 non-null  float64\n",
      " 572  away_player_agility3              21094 non-null  float64\n",
      " 573  away_player_reactions3            21374 non-null  float64\n",
      " 574  away_player_balance3              21094 non-null  float64\n",
      " 575  away_player_shot_power3           21374 non-null  float64\n",
      " 576  away_player_jumping3              21094 non-null  float64\n",
      " 577  away_player_stamina3              21374 non-null  float64\n",
      " 578  away_player_strength3             21374 non-null  float64\n",
      " 579  away_player_long_shots3           21374 non-null  float64\n",
      " 580  away_player_aggression3           21374 non-null  float64\n",
      " 581  away_player_interceptions3        21374 non-null  float64\n",
      " 582  away_player_positioning3          21374 non-null  float64\n",
      " 583  away_player_vision3               21094 non-null  float64\n",
      " 584  away_player_penalties3            21374 non-null  float64\n",
      " 585  away_player_marking3              21374 non-null  float64\n",
      " 586  away_player_standing_tackle3      21374 non-null  float64\n",
      " 587  away_player_sliding_tackle3       21094 non-null  float64\n",
      " 588  away_player_gk_diving3            21374 non-null  float64\n",
      " 589  away_player_gk_handling3          21374 non-null  float64\n",
      " 590  away_player_gk_kicking3           21374 non-null  float64\n",
      " 591  away_player_gk_positioning3       21374 non-null  float64\n",
      " 592  away_player_gk_reflexes3          21374 non-null  float64\n",
      " 593  away_player_overall_rating4       21374 non-null  float64\n",
      " 594  away_player_potential4            21374 non-null  float64\n",
      " 595  away_player_crossing4             21374 non-null  float64\n",
      " 596  away_player_finishing4            21374 non-null  float64\n",
      " 597  away_player_heading_accuracy4     21374 non-null  float64\n",
      " 598  away_player_short_passing4        21374 non-null  float64\n",
      " 599  away_player_volleys4              21130 non-null  float64\n",
      " 600  away_player_dribbling4            21374 non-null  float64\n",
      " 601  away_player_curve4                21130 non-null  float64\n",
      " 602  away_player_free_kick_accuracy4   21374 non-null  float64\n",
      " 603  away_player_long_passing4         21374 non-null  float64\n",
      " 604  away_player_ball_control4         21374 non-null  float64\n",
      " 605  away_player_acceleration4         21374 non-null  float64\n",
      " 606  away_player_sprint_speed4         21374 non-null  float64\n",
      " 607  away_player_agility4              21130 non-null  float64\n",
      " 608  away_player_reactions4            21374 non-null  float64\n",
      " 609  away_player_balance4              21130 non-null  float64\n",
      " 610  away_player_shot_power4           21374 non-null  float64\n",
      " 611  away_player_jumping4              21130 non-null  float64\n",
      " 612  away_player_stamina4              21374 non-null  float64\n",
      " 613  away_player_strength4             21374 non-null  float64\n",
      " 614  away_player_long_shots4           21374 non-null  float64\n",
      " 615  away_player_aggression4           21374 non-null  float64\n",
      " 616  away_player_interceptions4        21374 non-null  float64\n",
      " 617  away_player_positioning4          21374 non-null  float64\n",
      " 618  away_player_vision4               21130 non-null  float64\n",
      " 619  away_player_penalties4            21374 non-null  float64\n",
      " 620  away_player_marking4              21374 non-null  float64\n",
      " 621  away_player_standing_tackle4      21374 non-null  float64\n",
      " 622  away_player_sliding_tackle4       21130 non-null  float64\n",
      " 623  away_player_gk_diving4            21374 non-null  float64\n",
      " 624  away_player_gk_handling4          21374 non-null  float64\n",
      " 625  away_player_gk_kicking4           21374 non-null  float64\n",
      " 626  away_player_gk_positioning4       21374 non-null  float64\n",
      " 627  away_player_gk_reflexes4          21374 non-null  float64\n",
      " 628  away_player_overall_rating5       21374 non-null  float64\n",
      " 629  away_player_potential5            21374 non-null  float64\n",
      " 630  away_player_crossing5             21374 non-null  float64\n",
      " 631  away_player_finishing5            21374 non-null  float64\n",
      " 632  away_player_heading_accuracy5     21374 non-null  float64\n",
      " 633  away_player_short_passing5        21374 non-null  float64\n",
      " 634  away_player_volleys5              21178 non-null  float64\n",
      " 635  away_player_dribbling5            21374 non-null  float64\n",
      " 636  away_player_curve5                21178 non-null  float64\n",
      " 637  away_player_free_kick_accuracy5   21374 non-null  float64\n",
      " 638  away_player_long_passing5         21374 non-null  float64\n",
      " 639  away_player_ball_control5         21374 non-null  float64\n",
      " 640  away_player_acceleration5         21374 non-null  float64\n",
      " 641  away_player_sprint_speed5         21374 non-null  float64\n",
      " 642  away_player_agility5              21178 non-null  float64\n",
      " 643  away_player_reactions5            21374 non-null  float64\n",
      " 644  away_player_balance5              21178 non-null  float64\n",
      " 645  away_player_shot_power5           21374 non-null  float64\n",
      " 646  away_player_jumping5              21178 non-null  float64\n",
      " 647  away_player_stamina5              21374 non-null  float64\n",
      " 648  away_player_strength5             21374 non-null  float64\n",
      " 649  away_player_long_shots5           21374 non-null  float64\n",
      " 650  away_player_aggression5           21374 non-null  float64\n",
      " 651  away_player_interceptions5        21374 non-null  float64\n",
      " 652  away_player_positioning5          21374 non-null  float64\n",
      " 653  away_player_vision5               21178 non-null  float64\n",
      " 654  away_player_penalties5            21374 non-null  float64\n",
      " 655  away_player_marking5              21374 non-null  float64\n",
      " 656  away_player_standing_tackle5      21374 non-null  float64\n",
      " 657  away_player_sliding_tackle5       21178 non-null  float64\n",
      " 658  away_player_gk_diving5            21374 non-null  float64\n",
      " 659  away_player_gk_handling5          21374 non-null  float64\n",
      " 660  away_player_gk_kicking5           21374 non-null  float64\n",
      " 661  away_player_gk_positioning5       21374 non-null  float64\n",
      " 662  away_player_gk_reflexes5          21374 non-null  float64\n",
      " 663  away_player_overall_rating6       21374 non-null  float64\n",
      " 664  away_player_potential6            21374 non-null  float64\n",
      " 665  away_player_crossing6             21374 non-null  float64\n",
      " 666  away_player_finishing6            21374 non-null  float64\n",
      " 667  away_player_heading_accuracy6     21374 non-null  float64\n",
      " 668  away_player_short_passing6        21374 non-null  float64\n",
      " 669  away_player_volleys6              21206 non-null  float64\n",
      " 670  away_player_dribbling6            21374 non-null  float64\n",
      " 671  away_player_curve6                21206 non-null  float64\n",
      " 672  away_player_free_kick_accuracy6   21374 non-null  float64\n",
      " 673  away_player_long_passing6         21374 non-null  float64\n",
      " 674  away_player_ball_control6         21374 non-null  float64\n",
      " 675  away_player_acceleration6         21374 non-null  float64\n",
      " 676  away_player_sprint_speed6         21374 non-null  float64\n",
      " 677  away_player_agility6              21206 non-null  float64\n",
      " 678  away_player_reactions6            21374 non-null  float64\n",
      " 679  away_player_balance6              21206 non-null  float64\n",
      " 680  away_player_shot_power6           21374 non-null  float64\n",
      " 681  away_player_jumping6              21206 non-null  float64\n",
      " 682  away_player_stamina6              21374 non-null  float64\n",
      " 683  away_player_strength6             21374 non-null  float64\n",
      " 684  away_player_long_shots6           21374 non-null  float64\n",
      " 685  away_player_aggression6           21374 non-null  float64\n",
      " 686  away_player_interceptions6        21374 non-null  float64\n",
      " 687  away_player_positioning6          21374 non-null  float64\n",
      " 688  away_player_vision6               21206 non-null  float64\n",
      " 689  away_player_penalties6            21374 non-null  float64\n",
      " 690  away_player_marking6              21374 non-null  float64\n",
      " 691  away_player_standing_tackle6      21374 non-null  float64\n",
      " 692  away_player_sliding_tackle6       21206 non-null  float64\n",
      " 693  away_player_gk_diving6            21374 non-null  float64\n",
      " 694  away_player_gk_handling6          21374 non-null  float64\n",
      " 695  away_player_gk_kicking6           21374 non-null  float64\n",
      " 696  away_player_gk_positioning6       21374 non-null  float64\n",
      " 697  away_player_gk_reflexes6          21374 non-null  float64\n",
      " 698  away_player_overall_rating7       21374 non-null  float64\n",
      " 699  away_player_potential7            21374 non-null  float64\n",
      " 700  away_player_crossing7             21374 non-null  float64\n",
      " 701  away_player_finishing7            21374 non-null  float64\n",
      " 702  away_player_heading_accuracy7     21374 non-null  float64\n",
      " 703  away_player_short_passing7        21374 non-null  float64\n",
      " 704  away_player_volleys7              21137 non-null  float64\n",
      " 705  away_player_dribbling7            21374 non-null  float64\n",
      " 706  away_player_curve7                21137 non-null  float64\n",
      " 707  away_player_free_kick_accuracy7   21374 non-null  float64\n",
      " 708  away_player_long_passing7         21374 non-null  float64\n",
      " 709  away_player_ball_control7         21374 non-null  float64\n",
      " 710  away_player_acceleration7         21374 non-null  float64\n",
      " 711  away_player_sprint_speed7         21374 non-null  float64\n",
      " 712  away_player_agility7              21137 non-null  float64\n",
      " 713  away_player_reactions7            21374 non-null  float64\n",
      " 714  away_player_balance7              21137 non-null  float64\n",
      " 715  away_player_shot_power7           21374 non-null  float64\n",
      " 716  away_player_jumping7              21137 non-null  float64\n",
      " 717  away_player_stamina7              21374 non-null  float64\n",
      " 718  away_player_strength7             21374 non-null  float64\n",
      " 719  away_player_long_shots7           21374 non-null  float64\n",
      " 720  away_player_aggression7           21374 non-null  float64\n",
      " 721  away_player_interceptions7        21374 non-null  float64\n",
      " 722  away_player_positioning7          21374 non-null  float64\n",
      " 723  away_player_vision7               21137 non-null  float64\n",
      " 724  away_player_penalties7            21374 non-null  float64\n",
      " 725  away_player_marking7              21374 non-null  float64\n",
      " 726  away_player_standing_tackle7      21374 non-null  float64\n",
      " 727  away_player_sliding_tackle7       21137 non-null  float64\n",
      " 728  away_player_gk_diving7            21374 non-null  float64\n",
      " 729  away_player_gk_handling7          21374 non-null  float64\n",
      " 730  away_player_gk_kicking7           21374 non-null  float64\n",
      " 731  away_player_gk_positioning7       21374 non-null  float64\n",
      " 732  away_player_gk_reflexes7          21374 non-null  float64\n",
      " 733  away_player_overall_rating8       21374 non-null  float64\n",
      " 734  away_player_potential8            21374 non-null  float64\n",
      " 735  away_player_crossing8             21374 non-null  float64\n",
      " 736  away_player_finishing8            21374 non-null  float64\n",
      " 737  away_player_heading_accuracy8     21374 non-null  float64\n",
      " 738  away_player_short_passing8        21374 non-null  float64\n",
      " 739  away_player_volleys8              21210 non-null  float64\n",
      " 740  away_player_dribbling8            21374 non-null  float64\n",
      " 741  away_player_curve8                21210 non-null  float64\n",
      " 742  away_player_free_kick_accuracy8   21374 non-null  float64\n",
      " 743  away_player_long_passing8         21374 non-null  float64\n",
      " 744  away_player_ball_control8         21374 non-null  float64\n",
      " 745  away_player_acceleration8         21374 non-null  float64\n",
      " 746  away_player_sprint_speed8         21374 non-null  float64\n",
      " 747  away_player_agility8              21210 non-null  float64\n",
      " 748  away_player_reactions8            21374 non-null  float64\n",
      " 749  away_player_balance8              21210 non-null  float64\n",
      " 750  away_player_shot_power8           21374 non-null  float64\n",
      " 751  away_player_jumping8              21210 non-null  float64\n",
      " 752  away_player_stamina8              21374 non-null  float64\n",
      " 753  away_player_strength8             21374 non-null  float64\n",
      " 754  away_player_long_shots8           21374 non-null  float64\n",
      " 755  away_player_aggression8           21374 non-null  float64\n",
      " 756  away_player_interceptions8        21374 non-null  float64\n",
      " 757  away_player_positioning8          21374 non-null  float64\n",
      " 758  away_player_vision8               21210 non-null  float64\n",
      " 759  away_player_penalties8            21374 non-null  float64\n",
      " 760  away_player_marking8              21374 non-null  float64\n",
      " 761  away_player_standing_tackle8      21374 non-null  float64\n",
      " 762  away_player_sliding_tackle8       21210 non-null  float64\n",
      " 763  away_player_gk_diving8            21374 non-null  float64\n",
      " 764  away_player_gk_handling8          21374 non-null  float64\n",
      " 765  away_player_gk_kicking8           21374 non-null  float64\n",
      " 766  away_player_gk_positioning8       21374 non-null  float64\n",
      " 767  away_player_gk_reflexes8          21374 non-null  float64\n",
      " 768  away_player_overall_rating9       21374 non-null  float64\n",
      " 769  away_player_potential9            21374 non-null  float64\n",
      " 770  away_player_crossing9             21374 non-null  float64\n",
      " 771  away_player_finishing9            21374 non-null  float64\n",
      " 772  away_player_heading_accuracy9     21374 non-null  float64\n",
      " 773  away_player_short_passing9        21374 non-null  float64\n",
      " 774  away_player_volleys9              21213 non-null  float64\n",
      " 775  away_player_dribbling9            21374 non-null  float64\n",
      " 776  away_player_curve9                21213 non-null  float64\n",
      " 777  away_player_free_kick_accuracy9   21374 non-null  float64\n",
      " 778  away_player_long_passing9         21374 non-null  float64\n",
      " 779  away_player_ball_control9         21374 non-null  float64\n",
      " 780  away_player_acceleration9         21374 non-null  float64\n",
      " 781  away_player_sprint_speed9         21374 non-null  float64\n",
      " 782  away_player_agility9              21213 non-null  float64\n",
      " 783  away_player_reactions9            21374 non-null  float64\n",
      " 784  away_player_balance9              21213 non-null  float64\n",
      " 785  away_player_shot_power9           21374 non-null  float64\n",
      " 786  away_player_jumping9              21213 non-null  float64\n",
      " 787  away_player_stamina9              21374 non-null  float64\n",
      " 788  away_player_strength9             21374 non-null  float64\n",
      " 789  away_player_long_shots9           21374 non-null  float64\n",
      " 790  away_player_aggression9           21374 non-null  float64\n",
      " 791  away_player_interceptions9        21374 non-null  float64\n",
      " 792  away_player_positioning9          21374 non-null  float64\n",
      " 793  away_player_vision9               21213 non-null  float64\n",
      " 794  away_player_penalties9            21374 non-null  float64\n",
      " 795  away_player_marking9              21374 non-null  float64\n",
      " 796  away_player_standing_tackle9      21374 non-null  float64\n",
      " 797  away_player_sliding_tackle9       21213 non-null  float64\n",
      " 798  away_player_gk_diving9            21374 non-null  float64\n",
      " 799  away_player_gk_handling9          21374 non-null  float64\n",
      " 800  away_player_gk_kicking9           21374 non-null  float64\n",
      " 801  away_player_gk_positioning9       21374 non-null  float64\n",
      " 802  away_player_gk_reflexes9          21374 non-null  float64\n",
      " 803  away_player_overall_rating10      21374 non-null  float64\n",
      " 804  away_player_potential10           21374 non-null  float64\n",
      " 805  away_player_crossing10            21374 non-null  float64\n",
      " 806  away_player_finishing10           21374 non-null  float64\n",
      " 807  away_player_heading_accuracy10    21374 non-null  float64\n",
      " 808  away_player_short_passing10       21374 non-null  float64\n",
      " 809  away_player_volleys10             21219 non-null  float64\n",
      " 810  away_player_dribbling10           21374 non-null  float64\n",
      " 811  away_player_curve10               21219 non-null  float64\n",
      " 812  away_player_free_kick_accuracy10  21374 non-null  float64\n",
      " 813  away_player_long_passing10        21374 non-null  float64\n",
      " 814  away_player_ball_control10        21374 non-null  float64\n",
      " 815  away_player_acceleration10        21374 non-null  float64\n",
      " 816  away_player_sprint_speed10        21374 non-null  float64\n",
      " 817  away_player_agility10             21219 non-null  float64\n",
      " 818  away_player_reactions10           21374 non-null  float64\n",
      " 819  away_player_balance10             21219 non-null  float64\n",
      " 820  away_player_shot_power10          21374 non-null  float64\n",
      " 821  away_player_jumping10             21219 non-null  float64\n",
      " 822  away_player_stamina10             21374 non-null  float64\n",
      " 823  away_player_strength10            21374 non-null  float64\n",
      " 824  away_player_long_shots10          21374 non-null  float64\n",
      " 825  away_player_aggression10          21374 non-null  float64\n",
      " 826  away_player_interceptions10       21374 non-null  float64\n",
      " 827  away_player_positioning10         21374 non-null  float64\n",
      " 828  away_player_vision10              21219 non-null  float64\n",
      " 829  away_player_penalties10           21374 non-null  float64\n",
      " 830  away_player_marking10             21374 non-null  float64\n",
      " 831  away_player_standing_tackle10     21374 non-null  float64\n",
      " 832  away_player_sliding_tackle10      21219 non-null  float64\n",
      " 833  away_player_gk_diving10           21374 non-null  float64\n",
      " 834  away_player_gk_handling10         21374 non-null  float64\n",
      " 835  away_player_gk_kicking10          21374 non-null  float64\n",
      " 836  away_player_gk_positioning10      21374 non-null  float64\n",
      " 837  away_player_gk_reflexes10         21374 non-null  float64\n",
      " 838  away_player_overall_rating11      21374 non-null  float64\n",
      " 839  away_player_potential11           21374 non-null  float64\n",
      " 840  away_player_crossing11            21374 non-null  float64\n",
      " 841  away_player_finishing11           21374 non-null  float64\n",
      " 842  away_player_heading_accuracy11    21374 non-null  float64\n",
      " 843  away_player_short_passing11       21374 non-null  float64\n",
      " 844  away_player_volleys11             21201 non-null  float64\n",
      " 845  away_player_dribbling11           21374 non-null  float64\n",
      " 846  away_player_curve11               21201 non-null  float64\n",
      " 847  away_player_free_kick_accuracy11  21374 non-null  float64\n",
      " 848  away_player_long_passing11        21374 non-null  float64\n",
      " 849  away_player_ball_control11        21374 non-null  float64\n",
      " 850  away_player_acceleration11        21374 non-null  float64\n",
      " 851  away_player_sprint_speed11        21374 non-null  float64\n",
      " 852  away_player_agility11             21201 non-null  float64\n",
      " 853  away_player_reactions11           21374 non-null  float64\n",
      " 854  away_player_balance11             21201 non-null  float64\n",
      " 855  away_player_shot_power11          21374 non-null  float64\n",
      " 856  away_player_jumping11             21201 non-null  float64\n",
      " 857  away_player_stamina11             21374 non-null  float64\n",
      " 858  away_player_strength11            21374 non-null  float64\n",
      " 859  away_player_long_shots11          21374 non-null  float64\n",
      " 860  away_player_aggression11          21374 non-null  float64\n",
      " 861  away_player_interceptions11       21374 non-null  float64\n",
      " 862  away_player_positioning11         21374 non-null  float64\n",
      " 863  away_player_vision11              21201 non-null  float64\n",
      " 864  away_player_penalties11           21374 non-null  float64\n",
      " 865  away_player_marking11             21374 non-null  float64\n",
      " 866  away_player_standing_tackle11     21374 non-null  float64\n",
      " 867  away_player_sliding_tackle11      21201 non-null  float64\n",
      " 868  away_player_gk_diving11           21374 non-null  float64\n",
      " 869  away_player_gk_handling11         21374 non-null  float64\n",
      " 870  away_player_gk_kicking11          21374 non-null  float64\n",
      " 871  away_player_gk_positioning11      21374 non-null  float64\n",
      " 872  away_player_gk_reflexes11         21374 non-null  float64\n",
      " 873  home_team_team_api_id             21307 non-null  float64\n",
      " 874  home_team_buildUpPlaySpeed        21307 non-null  float64\n",
      " 875  home_team_buildUpPlayPassing      21307 non-null  float64\n",
      " 876  home_team_chanceCreationPassing   21307 non-null  float64\n",
      " 877  home_team_chanceCreationCrossing  21307 non-null  float64\n",
      " 878  home_team_chanceCreationShooting  21307 non-null  float64\n",
      " 879  home_team_defencePressure         21307 non-null  float64\n",
      " 880  home_team_defenceAggression       21307 non-null  float64\n",
      " 881  home_team_defenceTeamWidth        21307 non-null  float64\n",
      " 882  away_team_team_api_id             21313 non-null  float64\n",
      " 883  away_team_buildUpPlaySpeed        21313 non-null  float64\n",
      " 884  away_team_buildUpPlayPassing      21313 non-null  float64\n",
      " 885  away_team_chanceCreationPassing   21313 non-null  float64\n",
      " 886  away_team_chanceCreationCrossing  21313 non-null  float64\n",
      " 887  away_team_chanceCreationShooting  21313 non-null  float64\n",
      " 888  away_team_defencePressure         21313 non-null  float64\n",
      " 889  away_team_defenceAggression       21313 non-null  float64\n",
      " 890  away_team_defenceTeamWidth        21313 non-null  float64\n",
      "dtypes: float64(872), int64(9), object(10)\n",
      "memory usage: 145.5+ MB\n"
     ]
    }
   ],
   "source": [
    "#Foi adicionado o sufixo _ para que em caso de múltiplas execuções da célula as colunas não sejam duplicadas\n",
    "df_bruto3_ = pd.merge(df_bruto3, df_team_attributes.add_prefix(\"away_team_\"), how=\"left\", \n",
    "                     left_on=\"away_team_api_id\", right_on= \"away_team_\"+\"team_api_id\")\n",
    "df_bruto3_.info(verbose=True, show_counts=True) "
   ]
  },
  {
   "cell_type": "markdown",
   "id": "b4a1c92a",
   "metadata": {
    "heading_collapsed": true,
    "hidden": true
   },
   "source": [
    "### Parser Estrutura de Dados XML"
   ]
  },
  {
   "cell_type": "markdown",
   "id": "a73adbcb",
   "metadata": {
    "hidden": true
   },
   "source": [
    "As colunas nomeadas por goal, shoton, shotoff, foulcommit, card, cross, corner,  possession (com índice de número 77 a 84 no Dataset original), contêm dados no **formato XML**, um tipo de **Dado Semiestruturado**. Abaixo é feito o **parser** de uma destas colunas para exploração da informação que contém, com o intuito de reaproveitar seus dados para expandir a base."
   ]
  },
  {
   "cell_type": "markdown",
   "id": "be511cd2",
   "metadata": {
    "heading_collapsed": true,
    "hidden": true
   },
   "source": [
    "#### Exploração"
   ]
  },
  {
   "cell_type": "markdown",
   "id": "ccbaf16b",
   "metadata": {
    "hidden": true
   },
   "source": [
    "Estrutura XML do Atributo \"goal\""
   ]
  },
  {
   "cell_type": "code",
   "execution_count": 40,
   "id": "3a82878f",
   "metadata": {
    "ExecuteTime": {
     "end_time": "2022-02-17T18:26:35.555254Z",
     "start_time": "2022-02-17T18:26:35.527637Z"
    },
    "hidden": true
   },
   "outputs": [
    {
     "name": "stdout",
     "output_type": "stream",
     "text": [
      "<?xml version=\"1.0\" ?>\n",
      "<goal>\n",
      "\t<value>\n",
      "\t\t<comment>n</comment>\n",
      "\t\t<stats>\n",
      "\t\t\t<goals>1</goals>\n",
      "\t\t\t<shoton>1</shoton>\n",
      "\t\t</stats>\n",
      "\t\t<event_incident_typefk>393</event_incident_typefk>\n",
      "\t\t<elapsed>4</elapsed>\n",
      "\t\t<player2>39297</player2>\n",
      "\t\t<subtype>shot</subtype>\n",
      "\t\t<player1>26181</player1>\n",
      "\t\t<sortorder>2</sortorder>\n",
      "\t\t<team>9825</team>\n",
      "\t\t<id>375546</id>\n",
      "\t\t<n>231</n>\n",
      "\t\t<type>goal</type>\n",
      "\t\t<goal_type>n</goal_type>\n",
      "\t</value>\n",
      "</goal>\n",
      "\n"
     ]
    }
   ],
   "source": [
    "#A linha de índice 1 está sendo usada como base, pois a linha 0 contém mais de um elemento value.\n",
    "unid1_xml = parseString(df_bruto3.loc[:,\"goal\"].dropna().iloc[1]).toprettyxml()\n",
    "print(unid1_xml) "
   ]
  },
  {
   "cell_type": "markdown",
   "id": "8b4c1fe2",
   "metadata": {
    "hidden": true
   },
   "source": [
    "Valores preenchidos do atributo"
   ]
  },
  {
   "cell_type": "code",
   "execution_count": 41,
   "id": "649275b4",
   "metadata": {
    "ExecuteTime": {
     "end_time": "2022-02-17T18:26:35.585993Z",
     "start_time": "2022-02-17T18:26:35.557772Z"
    },
    "hidden": true
   },
   "outputs": [
    {
     "data": {
      "text/plain": [
       "(13325,)"
      ]
     },
     "execution_count": 41,
     "metadata": {},
     "output_type": "execute_result"
    }
   ],
   "source": [
    "df_bruto3.loc[:,\"goal\"].dropna().shape"
   ]
  },
  {
   "cell_type": "markdown",
   "id": "af7f5cb0",
   "metadata": {
    "hidden": true
   },
   "source": [
    "Transformação da Estrutura XML para um Dataframe"
   ]
  },
  {
   "cell_type": "code",
   "execution_count": null,
   "id": "0e938cd8",
   "metadata": {
    "ExecuteTime": {
     "start_time": "2022-02-17T18:26:01.214Z"
    },
    "hidden": true
   },
   "outputs": [],
   "source": [
    "goal= 77\n",
    "series_xml = df_bruto3.iloc[:,goal].dropna().iloc[:] \n",
    "df_parse_goal = pd.DataFrame()  #index=series_xml.index)\n",
    "\n",
    "for i in range(len(series_xml)):\n",
    "    xml = parseString(df_bruto3.loc[:,\"goal\"].dropna().iloc[i])\n",
    "    root = xml.documentElement\n",
    "    value = root.getElementsByTagName(\"value\")\n",
    "    index= xml.createElement(\"index\")\n",
    "    textIndex = xml.createTextNode(str(series_xml.index[i]))\n",
    "    \n",
    "    for v in value:  \n",
    "        #Adicionando o índice de refêrencia a linha do XML no dataset original, como um atributo \n",
    "        #dentro de sua própria estrutura, para posteriormente ser possível recuperar o vínculo dos \n",
    "        #dados do arquivo com o dataset de origem.\n",
    "        comment = v.firstChild\n",
    "        v.insertBefore(index, comment)\n",
    "        index.appendChild(textIndex)\n",
    "\n",
    "        #Tentativa 1\n",
    "        #print(v.toprettyxml())\n",
    "        #df_parse = pd.read_xml(v.toprettyxml())\n",
    "\n",
    "        #Tentativa 2\n",
    "        #doc = Document()\n",
    "        #doc.appendChild(v)\n",
    "    #df_parse = pd.read_xml(doc.toprettyxml())\n",
    "    #df_parse.head(None)\n",
    "\n",
    "        #Tentativa 3\n",
    "        #doc_str = doc_str + v.toprettyxml()\n",
    "    #df_parse = pd.read_xml(doc_str)\n",
    "    #df_parse.head(None)            \n",
    "\n",
    "        list_elementValue = []\n",
    "        list_elementName = []\n",
    "            \n",
    "        for child in v.childNodes:\n",
    "            for c_child in child.childNodes:\n",
    "                if c_child.childNodes:\n",
    "                    if c_child.nodeName not in list_elementName:\n",
    "                        list_elementName.append(c_child.nodeName)\n",
    "                        list_elementValue.append(c_child.childNodes.item(0).data)\n",
    "\n",
    "                else:\n",
    "                    if child.nodeName not in list_elementName:\n",
    "                        list_elementName.append(child.nodeName)\n",
    "                        list_elementValue.append(child.childNodes.item(0).data)\n",
    "        lin = 1  #len(list_elementValue)\n",
    "        dim = len(list_elementName)\n",
    "        df_parse = pd.DataFrame( np.reshape(list_elementValue,(lin, dim)), columns=list_elementName )   \n",
    "        df_parse_goal = df_parse_goal.append(df_parse, ignore_index=True )\n",
    "\n",
    "df_parse_goal.head(None) \n",
    "#df_parse.head(None) "
   ]
  },
  {
   "cell_type": "code",
   "execution_count": null,
   "id": "ab69c25b",
   "metadata": {
    "ExecuteTime": {
     "start_time": "2022-02-17T18:26:01.229Z"
    },
    "hidden": true
   },
   "outputs": [],
   "source": [
    "df_parse_goal.info()"
   ]
  },
  {
   "cell_type": "code",
   "execution_count": null,
   "id": "95a1ed5a",
   "metadata": {
    "ExecuteTime": {
     "start_time": "2022-02-17T18:26:01.239Z"
    },
    "hidden": true
   },
   "outputs": [],
   "source": [
    "pd.DataFrame(df_parse_goal.nunique()).head(None)"
   ]
  },
  {
   "cell_type": "code",
   "execution_count": null,
   "id": "42c6d3e8",
   "metadata": {
    "ExecuteTime": {
     "start_time": "2022-02-17T18:26:01.249Z"
    },
    "hidden": true
   },
   "outputs": [],
   "source": [
    "print( ( df_bruto3.loc[:,\"goal\"].dropna().shape[0] /df_bruto3.shape[0])*100, '%')"
   ]
  },
  {
   "cell_type": "markdown",
   "id": "ba149fda",
   "metadata": {
    "hidden": true
   },
   "source": [
    "#### Conclusão"
   ]
  },
  {
   "cell_type": "markdown",
   "id": "e2f62775",
   "metadata": {
    "hidden": true
   },
   "source": [
    "O intuito dessa exploração sobre os dados em XML, foi verificar a possibilidade de recuperar os dados que contém para vincular ao dataset original. \n",
    "Imaginava-se que isso talvez fosse possível partindo da premissa que, o retorno destes dados neste formato, fosse devido a uma falha no Spider utilizado para coleta, uma mudança na estrutura do Site raspado ou API interceptada, que consequentemente tivesse causado alguma incoerência na iteração pelos elementos da estrutura, fazendo com que mais de um registro fosse agrupado numa mesma linha do dataset. \n",
    "\n",
    "Assim, esperava-se que ao analisar o retorno do parser, houvesse uma forma de \"engenharia reversa\" do processo de raspagem, tornando possível expandir a base para completar as linhas NaN. Essa linha de raciocínio de fato foi adequada, pois ao realizar a transformação das linhas de uma única coluna em XML para uma estrutura Dataframe, a base de fato ampliou, retornando mais de uma linha para um mesmo índice do dataset original. \n",
    "\n",
    "Entretanto, o parser de forma isolada não retornou informações suficientes, não foi possível encontrar o dicionário de dados dessas colunas em específico (para complementar sua interpretação), e tampouco acessar a fonte de dados original, uma vez que um dos sites está fora do ar, e plataformas que arquivam páginas da web (como https://archive.org/web/) parecem não armazenar todo o HTML da URL de origem. \n",
    "\n",
    "Portanto, após esgotar todas as possibilidades, e devido a pouco quantidade de dados das colunas de índice 77 a 84 (só 62.34% de suas respectivas linhas estão preenchidas), decidiu-se eliminar estes atributos da análise. "
   ]
  },
  {
   "cell_type": "code",
   "execution_count": null,
   "id": "4e111e81",
   "metadata": {
    "ExecuteTime": {
     "start_time": "2022-02-17T18:26:01.268Z"
    },
    "hidden": true
   },
   "outputs": [],
   "source": [
    "df_bruto4 = df_bruto3_.drop(columns=df_bruto3.columns[list(range(77,85))]).set_index(\"id\")\n",
    "#df_bruto4.info(verbose=True, show_counts=True)\n",
    "#df_bruto4.head()\n",
    "df_bruto4.shape"
   ]
  },
  {
   "cell_type": "markdown",
   "id": "479cd395",
   "metadata": {
    "heading_collapsed": true,
    "hidden": true
   },
   "source": [
    "### Base final Pós-processada"
   ]
  },
  {
   "cell_type": "code",
   "execution_count": null,
   "id": "6e46080a",
   "metadata": {
    "ExecuteTime": {
     "start_time": "2022-02-17T18:26:01.279Z"
    },
    "hidden": true,
    "scrolled": true
   },
   "outputs": [],
   "source": [
    "df_bruto4.loc[:, list(df_bruto4.columns[list(range(76, 94))])  ].count()"
   ]
  },
  {
   "cell_type": "code",
   "execution_count": null,
   "id": "fbe49192",
   "metadata": {
    "ExecuteTime": {
     "start_time": "2022-02-17T18:26:01.290Z"
    },
    "hidden": true
   },
   "outputs": [],
   "source": [
    "media2 = np.mean(df_bruto4.loc[:, list(df_bruto4.columns[list(range(76, 94))])  ].count())\n",
    "media2"
   ]
  },
  {
   "cell_type": "code",
   "execution_count": null,
   "id": "83043ed9",
   "metadata": {
    "ExecuteTime": {
     "start_time": "2022-02-17T18:26:01.300Z"
    },
    "hidden": true
   },
   "outputs": [],
   "source": [
    "print(media2/df_bruto4.shape[0]*100, \"%\")"
   ]
  },
  {
   "cell_type": "markdown",
   "id": "e68ce3ca",
   "metadata": {
    "hidden": true
   },
   "source": [
    "As primeiras colunas estão sendo eliminadas, além da informação de data que também não será usada, por serem chaves de identificação que não possuem significado semântico, ou por serem dados de identificação que dizem respeito a variáveis categóricas já transformadas em numéricas (como a identificação de um país), e como esta análise tem por objetivo a aplicação do PCA como principal ferramenta de Tranformação dos Dados, preferiu-se manter apenas as variáveis essencialmente quantitativas.\n",
    "\n",
    "Por fim, também optou-se por fazer uma última redução da base no eixo das linhas, pois as colunas de probabilidade restantes (de índice 76 a 93 no dataset resultante da última filtragem de colunas, df_bruto4), contêm em média aproximadamente 19668 linhas preenchidas, o que corresponde a 92% de linhas do último pré-processamento (df_bruto4)."
   ]
  },
  {
   "cell_type": "code",
   "execution_count": null,
   "id": "8225c681",
   "metadata": {
    "ExecuteTime": {
     "start_time": "2022-02-17T18:26:01.317Z"
    },
    "hidden": true
   },
   "outputs": [],
   "source": [
    "df_posprocessamento = df_bruto4.drop(columns=df_bruto4.columns[list(range(8))]).dropna(axis=0)\n",
    "df_posprocessamento.head()"
   ]
  },
  {
   "cell_type": "markdown",
   "id": "de3b8400",
   "metadata": {
    "hidden": true
   },
   "source": [
    "Confirmando se não restou nenhuma coluna com campo de identificação"
   ]
  },
  {
   "cell_type": "code",
   "execution_count": null,
   "id": "ca33fe66",
   "metadata": {
    "ExecuteTime": {
     "start_time": "2022-02-17T18:26:01.333Z"
    },
    "hidden": true
   },
   "outputs": [],
   "source": [
    "pd.Series(df_posprocessamento.columns).iloc[ list(pd.Series(df_posprocessamento.columns).apply(lambda x: x.find(\"_id\")!=-1 ).values)] "
   ]
  },
  {
   "cell_type": "code",
   "execution_count": null,
   "id": "e2343830",
   "metadata": {
    "ExecuteTime": {
     "start_time": "2022-02-17T18:26:01.345Z"
    },
    "hidden": true
   },
   "outputs": [],
   "source": [
    "df_posprocessamento = df_posprocessamento.drop(columns=list(pd.Series(df_posprocessamento.columns).iloc[ list(pd.Series(df_posprocessamento.columns).apply(lambda x: x.find(\"_id\")!=-1 ).values)].values) )"
   ]
  },
  {
   "cell_type": "code",
   "execution_count": null,
   "id": "599a0900",
   "metadata": {
    "ExecuteTime": {
     "start_time": "2022-02-17T18:26:01.355Z"
    },
    "hidden": true
   },
   "outputs": [],
   "source": [
    "df_posprocessamento.shape[1]"
   ]
  },
  {
   "cell_type": "code",
   "execution_count": null,
   "id": "99e9a8c0",
   "metadata": {
    "ExecuteTime": {
     "start_time": "2022-02-17T18:26:01.364Z"
    },
    "hidden": true
   },
   "outputs": [],
   "source": [
    "#TESTES (APAGAR DO ARQUIVO DE ENTREGA)\n",
    "\n",
    "df_bruto4.count().min()\n",
    "np.min(list(df_bruto4.index)) \n",
    "df_bruto4.index.dropna()\n",
    "\n",
    "\n",
    "#df_modelS_transform = df_bruto4.drop(columns=df_bruto4.columns[list(range(8))]).dropna(axis=0)\n",
    "\n",
    "#TENTANTO ELIMINAR AS LINHAS COM NaN sem reduzir a base para \n",
    "\n",
    "df_bruto4.notna().apply(lambda x: df_bruto4.drop(index=x) if x==False , axis=0)   #.count().min()\n",
    "\n",
    "df_bruto4.iloc[ df_bruto4 ,:]\n",
    "\n",
    "list_rows = []\n",
    "\n",
    "for index, row in df_bruto4.notna().iterrows():\n",
    "    lin = [row]\n",
    "\n",
    "#df_modelS_transform.info(verbose=True, show_counts=True) \n"
   ]
  },
  {
   "cell_type": "markdown",
   "id": "81f6146f",
   "metadata": {
    "heading_collapsed": true,
    "hidden": true
   },
   "source": [
    "### Conclução Pré-processamento"
   ]
  },
  {
   "cell_type": "markdown",
   "id": "820bd172",
   "metadata": {
    "hidden": true
   },
   "source": [
    "Métricas e análise do resultado final do pré-processamento"
   ]
  },
  {
   "cell_type": "code",
   "execution_count": null,
   "id": "2f162dd6",
   "metadata": {
    "ExecuteTime": {
     "start_time": "2022-02-17T18:26:01.383Z"
    },
    "hidden": true
   },
   "outputs": [],
   "source": [
    "print(media2/df_match.shape[0]*100, \"%\")"
   ]
  },
  {
   "cell_type": "code",
   "execution_count": null,
   "id": "2bf4ed2f",
   "metadata": {
    "ExecuteTime": {
     "start_time": "2022-02-17T18:26:01.397Z"
    },
    "hidden": true
   },
   "outputs": [],
   "source": [
    "qtLinhas_final = df_bruto4.loc[:, list(df_bruto4.columns[list(range(76, 94))])  ].count().min()\n",
    "qtLinhas_final"
   ]
  },
  {
   "cell_type": "markdown",
   "id": "217ee7db",
   "metadata": {
    "hidden": true
   },
   "source": [
    "Quantidade de Dados úteis **ANTES** do Pré-processamento"
   ]
  },
  {
   "cell_type": "code",
   "execution_count": null,
   "id": "78e48c55",
   "metadata": {
    "ExecuteTime": {
     "start_time": "2022-02-17T18:26:01.409Z"
    },
    "hidden": true
   },
   "outputs": [],
   "source": [
    "df_match.count().sum()"
   ]
  },
  {
   "cell_type": "markdown",
   "id": "78d41f8e",
   "metadata": {
    "hidden": true
   },
   "source": [
    "Quantidade de Dados úteis **DEPOIS** do Pré-processamento"
   ]
  },
  {
   "cell_type": "code",
   "execution_count": null,
   "id": "ee38cc7c",
   "metadata": {
    "ExecuteTime": {
     "start_time": "2022-02-17T18:26:01.419Z"
    },
    "hidden": true
   },
   "outputs": [],
   "source": [
    "qtLinhas_final*df_posprocessamento.shape[1]"
   ]
  },
  {
   "cell_type": "markdown",
   "id": "cca6fcd4",
   "metadata": {
    "hidden": true
   },
   "source": [
    "  **CONCLUSÃO**\n",
    "\n",
    "O resultado final do Pré-processamento resultou na **preservação de 75.7% eventos observados** do dataset original (Match), além da expansão dos atributos que representam tais eventos, através da manipulação das tabelas auxiliares, resultando em **17.121.720 dados úteis** (com todos os eventos e features preenchidos), contra **2.580.190 dados brutos** que haviam no início (quantidade bruta de valores não nulos, porém sem homogeneidade entre linhas e colunas).\n",
    "\n",
    "Nesta linha de raciocínio, o agrupamento irá modelar o fenômeno \"movimentos da partida\", as probabilidades atribuídas, a média dos atributos individuais de cada jogador presente na partida, juntamente com média dos scores atribuídos para cada time.  "
   ]
  },
  {
   "cell_type": "markdown",
   "id": "6ef020fb",
   "metadata": {
    "ExecuteTime": {
     "end_time": "2022-02-13T12:43:01.077623Z",
     "start_time": "2022-02-13T12:43:01.061628Z"
    },
    "heading_collapsed": true,
    "hidden": true
   },
   "source": [
    "### Execução do código funcional"
   ]
  },
  {
   "cell_type": "markdown",
   "id": "eeef27bf",
   "metadata": {
    "ExecuteTime": {
     "end_time": "2022-02-13T12:44:49.627393Z",
     "start_time": "2022-02-13T12:44:49.612598Z"
    },
    "hidden": true
   },
   "source": [
    "Código final resultante de todo o **Pré-processamento** encapsulado nesta única célula, fornecendo todos os dados realmente necessários a execução do restante do projeto."
   ]
  },
  {
   "cell_type": "code",
   "execution_count": null,
   "id": "4854dcad",
   "metadata": {
    "ExecuteTime": {
     "start_time": "2022-02-17T18:26:01.450Z"
    },
    "hidden": true,
    "hide_input": false
   },
   "outputs": [],
   "source": [
    "# -*- coding: utf-8 -*-\n",
    "\n",
    "    #Dataset Match\n",
    "df_match = pd.read_csv(\"match.csv\")\n",
    "df_bruto0 = df_match.loc[df_match.iloc[:,55:77].dropna().index, :]\n",
    "df_bruto1 = df_bruto0.drop(columns=df_bruto0.columns[[97, 98, 99, 103, 104, 105, 109, 110, 111, 112, 113, 114]])\n",
    "\n",
    "    #Dataset Player\n",
    "df_player0 = pd.read_csv(\"player.csv\")\n",
    "df_player0[\"date_birthday\"] = df_player0.birthday.str.slice(0, 10)\n",
    "df_player0[\"age\"] = df_player0[\"date_birthday\"].apply(lambda x : (date.today() -date( int(x[:4]), int(x[5:7]), int(x[8:10]) )).days/365.25)\n",
    "\n",
    "    #Dataset Player_attributes\n",
    "df_player_attributes = pd.read_csv(\"player_attributes.csv\")\n",
    "df_player_attributes = df_player_attributes.drop(columns=[\"id\", \"player_fifa_api_id\", \"date\", \"preferred_foot\", \"attacking_work_rate\", \"defensive_work_rate\" ])\n",
    "df_player_attributes = df_player_attributes.groupby(by=\"player_api_id\", as_index=False).mean()\n",
    "\n",
    "    #Dataset Team_attributes\n",
    "df_team_attributes = pd.read_csv(\"team_attributes.csv\")\n",
    "df_team_attributes = df_team_attributes.select_dtypes(include=['number']).drop(columns=[\"id\", \"team_fifa_api_id\", \"buildUpPlayDribbling\"])\n",
    "df_team_attributes = df_team_attributes.groupby(by=\"team_api_id\", as_index=False).mean() \n",
    "\n",
    "    #Join datasets\n",
    "df_player1= pd.merge(df_player0, df_player_attributes, how=\"inner\", on=\"player_api_id\")\n",
    "#Mesclando os dados da tabela match com a tabela player\n",
    "colunas_de_interesse = list(df_player_attributes.drop(columns=\"player_api_id\").columns)\n",
    "df_bruto2 = df_bruto1.copy()\n",
    "for i in range(1, len( df_bruto2.iloc[:,55:77].columns) ):\n",
    "    df_bruto2 = pd.merge(df_bruto2, df_player1.add_suffix(str(i)).add_prefix(\"home_player_\"), how=\"left\", \n",
    "                         left_on=\"home_player_\"+str(i), right_on=\"home_player_\"+\"player_api_id\"+str(i)).\\\n",
    "                         loc[:,list(df_bruto2.columns)+\\\n",
    "                               list(df_player1.loc[:, colunas_de_interesse].\\\n",
    "                                    add_suffix(str(i)).add_prefix(\"home_player_\").columns)]                                             \n",
    "    \n",
    "    if i==11:\n",
    "        break\n",
    "\n",
    "for i in range(1, len( df_bruto2.iloc[:,55:77].columns) ):\n",
    "    df_bruto2 = pd.merge(df_bruto2, df_player1.add_suffix(str(i)).add_prefix(\"away_player_\"), how=\"left\", \n",
    "                         left_on=\"away_player_\"+str(i), right_on=\"away_player_\"+\"player_api_id\"+str(i)).\\\n",
    "                         loc[:,list(df_bruto2.columns)+\\\n",
    "                               list(df_player1.loc[:, colunas_de_interesse].\\\n",
    "                                    add_suffix(str(i)).add_prefix(\"away_player_\").columns)]                                             \n",
    "    \n",
    "    if i==11:\n",
    "        break\n",
    "\n",
    "#Mesclando os dados do merge resultante com os atributos do time da casa (prefixo home) e do time adversário (prefixo away), oriundos do dataset Team_attributes\n",
    "df_bruto3 = pd.merge(df_bruto2, df_team_attributes.add_prefix(\"home_team_\"), how=\"left\", \n",
    "                     left_on=\"home_team_api_id\", right_on= \"home_team_\"+\"team_api_id\")\n",
    "df_bruto3 = pd.merge(df_bruto3, df_team_attributes.add_prefix(\"away_team_\"), how=\"left\", \n",
    "                     left_on=\"away_team_api_id\", right_on= \"away_team_\"+\"team_api_id\")\n",
    "\n",
    "    #Exclusão das colunas em XML\n",
    "df_bruto4 = df_bruto3.drop(columns=df_bruto3.columns[list(range(77,85))]).set_index(\"id\")\n",
    "\n",
    "    #Base final de treinamento\n",
    "df_posprocessamento = df_bruto4.drop(columns=df_bruto4.columns[list(range(8))]).dropna(axis=0)\n",
    "df_posprocessamento = df_posprocessamento.drop(columns=list(pd.Series(df_posprocessamento.columns).iloc[ list(pd.Series(df_posprocessamento.columns).apply(lambda x: x.find(\"_id\")!=-1 ).values)].values) )"
   ]
  },
  {
   "cell_type": "code",
   "execution_count": null,
   "id": "34d60abe",
   "metadata": {
    "ExecuteTime": {
     "start_time": "2022-02-17T18:26:01.462Z"
    },
    "hidden": true
   },
   "outputs": [],
   "source": [
    "df_posprocessamento.shape[1]"
   ]
  },
  {
   "cell_type": "markdown",
   "id": "52e04202",
   "metadata": {
    "hidden": true
   },
   "source": [
    "    "
   ]
  },
  {
   "cell_type": "markdown",
   "id": "82acebba",
   "metadata": {
    "heading_collapsed": true
   },
   "source": [
    "## Modelagem Pós-processamento"
   ]
  },
  {
   "cell_type": "markdown",
   "id": "027ec3a5",
   "metadata": {
    "hidden": true
   },
   "source": [
    "Aplicação do modelo apenas com o dataset pós processado.\n",
    "\n",
    "`df_posprocessamento`"
   ]
  },
  {
   "cell_type": "markdown",
   "id": "a550a8fd",
   "metadata": {
    "heading_collapsed": true,
    "hidden": true
   },
   "source": [
    "### Definição do K"
   ]
  },
  {
   "cell_type": "markdown",
   "id": "635f89d4",
   "metadata": {
    "hidden": true
   },
   "source": [
    "Método de Elbow para definição do hiperparâmetro k. \n",
    "\n",
    "Hiperparâmetros se tratam de valores estabelecidos pelo usuário do modelo (quem consome a biblioteca diretamente), ou por algum método de automação externo. Diferente dos parâmetros, que são estabelecidos pelos procedimentos internos no treinamento do algoritmo. "
   ]
  },
  {
   "cell_type": "code",
   "execution_count": null,
   "id": "ea8a5bf6",
   "metadata": {
    "ExecuteTime": {
     "start_time": "2022-02-17T18:26:01.493Z"
    },
    "hidden": true
   },
   "outputs": [],
   "source": [
    "wcss = []\n",
    "for i in tqdm(range(1, 190)):\n",
    "    tmodel = KMeans(n_clusters=i+1, algorithm='auto', init='k-means++', max_iter=300 , random_state=2)\n",
    "    tmodel.fit(df_posprocessamento) \n",
    "    wcss.append(tmodel.inertia_)"
   ]
  },
  {
   "cell_type": "code",
   "execution_count": null,
   "id": "3a9fd2a4",
   "metadata": {
    "ExecuteTime": {
     "start_time": "2022-02-17T18:26:01.500Z"
    },
    "hidden": true
   },
   "outputs": [],
   "source": [
    "len(wcss)"
   ]
  },
  {
   "cell_type": "code",
   "execution_count": null,
   "id": "4b23ac55",
   "metadata": {
    "ExecuteTime": {
     "start_time": "2022-02-17T18:26:01.511Z"
    },
    "hidden": true
   },
   "outputs": [],
   "source": [
    "plt.plot(range(1, 189+1), wcss)\n",
    "plt.title(\"Método de Elbow\")\n",
    "plt.xlabel(\"\\nk Cluters\")\n",
    "plt.ylabel(\"WCSS\\n\")\n",
    "plt.show()"
   ]
  },
  {
   "cell_type": "markdown",
   "id": "ab497ab2",
   "metadata": {
    "hidden": true
   },
   "source": [
    "É possível observar que o valor do atributo inertia tem uma **declinação significativa** a partir de 25 clusters, tornando possível concluir que o **número ótimo** para o hiperparâmetro k, para este conjunto de dados, está aproximadamente entre 25 e 35.\n",
    "Portanto, definiremos **k=25** para esta aplicação do modelo."
   ]
  },
  {
   "cell_type": "markdown",
   "id": "618753c6",
   "metadata": {
    "heading_collapsed": true,
    "hidden": true
   },
   "source": [
    "### Treinamento do Modelo"
   ]
  },
  {
   "cell_type": "markdown",
   "id": "ba1eb3c0",
   "metadata": {
    "hidden": true
   },
   "source": [
    "* A medida de dissimilaridade aplicada é a Distância Euclidiana, a única disponível para o kmeans na biblioteca utilizada.\n",
    "* O algoritmo iterativo escolhido foi o auto, que é o algoritmo default da biblioteca.\n",
    "* O uso do parâmetro de inicialização atribuído com'k-means++', faz com que a definição das coordenadas dos medoids iniciem geralmentes distantes uns dos outros, fazendo com que o algoritmo tenda a ter melhores resultados que uma inicialização aleatórioa.\n",
    "* Definiu-se o valor 2 como semente randômica, para que o modelo pudesse ser posteriormente replicado, fazendo com que a cada nova execução os resultados sejam os mesmos."
   ]
  },
  {
   "cell_type": "code",
   "execution_count": null,
   "id": "367e94c3",
   "metadata": {
    "ExecuteTime": {
     "start_time": "2022-02-17T18:26:01.531Z"
    },
    "hidden": true
   },
   "outputs": [],
   "source": [
    "k = 25\n",
    "\n",
    "    #Model definition (definindo a instância da classe KMeans e atribuindo ao objeto modelS_transform)\n",
    "model_posprocessamento = KMeans(n_clusters=k, algorithm='auto', init='k-means++', random_state=2)\n",
    "\n",
    "    #Model traning\n",
    "model_posprocessamento .fit(df_posprocessamento)"
   ]
  },
  {
   "cell_type": "markdown",
   "id": "3bfdc423",
   "metadata": {
    "hidden": true
   },
   "source": [
    "Centro dos Clusters: O retorno é a localização dos centros, coordenadas do espaço vetorial multidimensional"
   ]
  },
  {
   "cell_type": "code",
   "execution_count": null,
   "id": "7e3e6c7c",
   "metadata": {
    "ExecuteTime": {
     "start_time": "2022-02-17T18:26:01.543Z"
    },
    "hidden": true
   },
   "outputs": [],
   "source": [
    "centroids1 = model_posprocessamento.cluster_centers_\n",
    "centroids1"
   ]
  },
  {
   "cell_type": "markdown",
   "id": "a59a8743",
   "metadata": {
    "hidden": true
   },
   "source": [
    "Lista ordenada do rótulo do cluster atribuído, linha a linha, pelo modelo treinado"
   ]
  },
  {
   "cell_type": "code",
   "execution_count": null,
   "id": "b42a2ec2",
   "metadata": {
    "ExecuteTime": {
     "start_time": "2022-02-17T18:26:01.560Z"
    },
    "hidden": true
   },
   "outputs": [],
   "source": [
    "labels1 = model_posprocessamento.labels_\n",
    "labels1 "
   ]
  },
  {
   "cell_type": "markdown",
   "id": "89fa727a",
   "metadata": {
    "hidden": true
   },
   "source": [
    "Rótulos usados pelo modelo para diferenciar cada cluster"
   ]
  },
  {
   "cell_type": "code",
   "execution_count": null,
   "id": "876704bc",
   "metadata": {
    "ExecuteTime": {
     "start_time": "2022-02-17T18:26:01.572Z"
    },
    "hidden": true
   },
   "outputs": [],
   "source": [
    "rotulos= np.unique(labels1)\n",
    "rotulos"
   ]
  },
  {
   "cell_type": "markdown",
   "id": "60af8734",
   "metadata": {
    "hidden": true
   },
   "source": [
    "Quantidade de eventos por cluster. "
   ]
  },
  {
   "cell_type": "code",
   "execution_count": null,
   "id": "dd653210",
   "metadata": {
    "ExecuteTime": {
     "start_time": "2022-02-17T18:26:01.584Z"
    },
    "hidden": true
   },
   "outputs": [],
   "source": [
    "freq = pd.Series(labels1)\n",
    "pd.DataFrame({\"Frequência do Cluster\":freq.value_counts()}).head(None)"
   ]
  },
  {
   "cell_type": "markdown",
   "id": "6976eddd",
   "metadata": {
    "heading_collapsed": true,
    "hidden": true
   },
   "source": [
    "### Performance do Modelo"
   ]
  },
  {
   "cell_type": "markdown",
   "id": "ecda6054",
   "metadata": {
    "heading_collapsed": true,
    "hidden": true
   },
   "source": [
    "#### Coeficiente de Silhueta"
   ]
  },
  {
   "cell_type": "markdown",
   "id": "ca303c2e",
   "metadata": {
    "ExecuteTime": {
     "end_time": "2022-02-13T14:24:20.702712Z",
     "start_time": "2022-02-13T14:24:20.657578Z"
    },
    "hidden": true
   },
   "source": [
    "Cálculo do Coeficiente de Silhueta geral, feito apartir da distância média intra-cluster e a distância média entre o cluster mais próximo, onde valores tendendo a 1 indicam uma ótima delimitação entre os clusters, valores tendendo a 0 indicam clusters sobrepostos, e valores tendendo a -1 indicam amostras atribuídas ao cluster errado (SKIKIT-LEARN)\n",
    "\n",
    "**REFERÊNCIA:** \n",
    "Scikit-learn, **Machine Learning in Python** , Pedregosa et al. , JMLR 12, pp. 2825-2830, 2011. Disponível em: < https://scikit-learn.org/stable/modules/generated/sklearn.metrics.silhouette_score.html > Acesso em: 09/02/2022í\n",
    "\n",
    "Resultado Silhueta geral = **0.07**"
   ]
  },
  {
   "cell_type": "code",
   "execution_count": null,
   "id": "e42d3b5f",
   "metadata": {
    "ExecuteTime": {
     "start_time": "2022-02-17T18:26:01.606Z"
    },
    "hidden": true
   },
   "outputs": [],
   "source": [
    "cof_silh_med_pp = me.silhouette_score(df_posprocessamento, labels1)\n",
    "cof_silh_med_pp"
   ]
  },
  {
   "cell_type": "markdown",
   "id": "91d71805",
   "metadata": {
    "hidden": true
   },
   "source": [
    "Cálculo do Coeficiente de Silhueta Média para cada cluster"
   ]
  },
  {
   "cell_type": "code",
   "execution_count": null,
   "id": "bf7fc8d7",
   "metadata": {
    "ExecuteTime": {
     "start_time": "2022-02-17T18:26:01.617Z"
    },
    "hidden": true
   },
   "outputs": [],
   "source": [
    "cof_silh = me.silhouette_samples(df_posprocessamento, labels1, metric = 'euclidean')\n",
    "\n",
    "k = 25\n",
    "\n",
    "for ki in range(k):\n",
    "    print(\"Silhueta Média para Cluster {:}: {:.2f} +- {:.4f}\".format(ki, \n",
    "                                                                   np.mean(cof_silh[labels1==ki]),\n",
    "                                                                   np.std(cof_silh[labels1==ki]/np.sum(labels1==ki)**.5)))  \n",
    "\n",
    "print(\"\\nO melhor valor é 1 e o pior valor é -1. Valores próximos de 0 indicam clusters sobrepostos.\")"
   ]
  },
  {
   "cell_type": "markdown",
   "id": "e9236c09",
   "metadata": {
    "heading_collapsed": true,
    "hidden": true
   },
   "source": [
    "### Visualização dos Resultados"
   ]
  },
  {
   "cell_type": "markdown",
   "id": "5efa11f0",
   "metadata": {
    "hidden": true
   },
   "source": [
    "Dataset usado para treinar o modelo rotulado com os Clusters"
   ]
  },
  {
   "cell_type": "code",
   "execution_count": null,
   "id": "4e5a1932",
   "metadata": {
    "ExecuteTime": {
     "start_time": "2022-02-17T18:26:01.638Z"
    },
    "hidden": true
   },
   "outputs": [],
   "source": [
    "df_treinado1 = df_posprocessamento.copy()\n",
    "df_treinado1[\"K-Cluster\"]= labels1\n",
    "df_treinado1.head()"
   ]
  },
  {
   "cell_type": "code",
   "execution_count": null,
   "id": "8d77ff52",
   "metadata": {
    "ExecuteTime": {
     "start_time": "2022-02-17T18:26:01.647Z"
    },
    "hidden": true
   },
   "outputs": [],
   "source": [
    "#Tabela contendo o registro mais próximo de cada Centroid\n",
    "#..."
   ]
  },
  {
   "cell_type": "markdown",
   "id": "d2d1be99",
   "metadata": {
    "hidden": true
   },
   "source": [
    "Usando a técnica de Redução de Dimensionalidade TSNE para visualização do Dataset após a aplicação do modelo"
   ]
  },
  {
   "cell_type": "code",
   "execution_count": null,
   "id": "3cf07d26",
   "metadata": {
    "ExecuteTime": {
     "start_time": "2022-02-17T18:26:01.665Z"
    },
    "hidden": true
   },
   "outputs": [],
   "source": [
    "tsne1 = TSNE( n_components = 2, random_state = 2 ).fit_transform(df_treinado1)\n",
    "df_tsn1 = pd.DataFrame(data={\"1d\":list(tsne1[:,0]), \"2d\": list(tsne1[:, 1])})                                                                 "
   ]
  },
  {
   "cell_type": "code",
   "execution_count": null,
   "id": "57009ec8",
   "metadata": {
    "ExecuteTime": {
     "start_time": "2022-02-17T18:26:01.676Z"
    },
    "hidden": true
   },
   "outputs": [],
   "source": [
    "fig = plt.figure(figsize=(18,10))\n",
    "#sb.set_palette(sb.color_palette(\"crest\", as_cmap=True)) \n",
    "sb.relplot(x=\"1d\" , y='2d', data=df_tsn1, legend=False, hue=\"1d\", size=\"1d\", palette=sb.color_palette(\"rocket\", as_cmap=True))  #, style=\"1d\", )\n",
    "plt.title(\"\\nProjeção das Variáveis Clusterizadas em 2 Dimensões\\n\")           \n",
    "plt.show()"
   ]
  },
  {
   "cell_type": "markdown",
   "id": "462e55bd",
   "metadata": {
    "heading_collapsed": true,
    "hidden": true
   },
   "source": [
    "### Conclusão"
   ]
  },
  {
   "cell_type": "markdown",
   "id": "de009aed",
   "metadata": {
    "hidden": true
   },
   "source": [
    "Com base nos resultados apresentados na aplicação do algoritmo após o **processamento dos dados brutos**, é possível perceber que a manipulação feita na etapa de **Pré-processamento não foi, sozinho, suficiente para gerar uma boa performance do modelo de agrupamento**, tornando necessária a aplicação de outras técnicas para aprimorar seu desempenho, que serão abordadas no tópico de Transformação dos Dados."
   ]
  },
  {
   "cell_type": "markdown",
   "id": "c2010e01",
   "metadata": {
    "hidden": true
   },
   "source": [
    "   "
   ]
  },
  {
   "cell_type": "markdown",
   "id": "ef71395e",
   "metadata": {
    "heading_collapsed": true
   },
   "source": [
    "## Análise Exploratória dos Dados"
   ]
  },
  {
   "cell_type": "markdown",
   "id": "99f068f9",
   "metadata": {
    "heading_collapsed": true,
    "hidden": true
   },
   "source": [
    "### Descrição Estatística das Variáveis"
   ]
  },
  {
   "cell_type": "code",
   "execution_count": null,
   "id": "26c6cbf8",
   "metadata": {
    "ExecuteTime": {
     "start_time": "2022-02-17T18:26:01.721Z"
    },
    "hidden": true
   },
   "outputs": [],
   "source": [
    "df_posprocessamento.describe()"
   ]
  },
  {
   "cell_type": "code",
   "execution_count": null,
   "id": "4697515c",
   "metadata": {
    "ExecuteTime": {
     "start_time": "2022-02-17T18:26:01.734Z"
    },
    "hidden": true
   },
   "outputs": [],
   "source": [
    "#Considerar verificar a Distribuição de Probabilidade de cada variável"
   ]
  },
  {
   "cell_type": "markdown",
   "id": "ab3eb7a1",
   "metadata": {
    "heading_collapsed": true,
    "hidden": true
   },
   "source": [
    "### Análise de Correlação Linear"
   ]
  },
  {
   "cell_type": "markdown",
   "id": "6e3e1334",
   "metadata": {
    "hidden": true
   },
   "source": [
    "Cria uma **Matriz Simétrica** (similar a uma **Tabela Cruzada** do conceito de **Pivot Table**) que avalia a **correlação** entre  as variáveis **par a par**.\n",
    "\n",
    "O cálculo de correlação utilizado é baseado no **Método de Pearson** (default da biblioteca), onde:\n",
    "* **p = 1** Significa uma **correlação perfeita positiva** entreo par de variáveis;\n",
    "* **p = -1** Significa uma **correlação negativa perfeita** entre as duas variáveis, ou seja uma relação inversa, quando uma aumenta a outra diminui;\n",
    "* **p = 0** Significa que as duas variáveis são **linearmente independentes** uma em relação a outra. Ou seja a **combinação linear** dos vetores **u1 e u2** que resulta num **vetor nulo**, possui como única solução possível o valor de seus coeficientes **a1 = a2 = 0**. Em termos matriciais, implica que o **determinante** da **matriz de coordenadas** dos vetores (ou Sistema de Equações Lineares) seja **≠ 0** (LEDESMA, 2021, p. 67-70).\n",
    "\n",
    "\n",
    "**REFERÊNCIA:**\n",
    "\n",
    "LEDESMA, D. S. **Apostila de Geometria Analítica:** Notas de Aula com Exercícios Resolvidos. Creative Writing. Instituto de Matemática, Estatística e Computação Científica (IME), Universidade Estadual de Campinas, Campinas, SP, 28 de nov. de 2021. "
   ]
  },
  {
   "cell_type": "code",
   "execution_count": null,
   "id": "dfd65553",
   "metadata": {
    "ExecuteTime": {
     "start_time": "2022-02-17T18:26:01.771Z"
    },
    "hidden": true
   },
   "outputs": [],
   "source": [
    "cor = df_posprocessamento.corr()\n",
    "cor.head()"
   ]
  },
  {
   "cell_type": "markdown",
   "id": "9be2a568",
   "metadata": {
    "hidden": true
   },
   "source": [
    "A saída desta análise de correlação resulta numa matriz quadrada n x n, o que dificulta a visualição, em formato tabular, para bases de dados com alta dimensionalidade. Portanto, as correlações serão analisadas de forma mais sintetizada a seguir."
   ]
  },
  {
   "cell_type": "markdown",
   "id": "6ffffffb",
   "metadata": {
    "heading_collapsed": true
   },
   "source": [
    "## Transformação dos Dados"
   ]
  },
  {
   "cell_type": "markdown",
   "id": "494f177f",
   "metadata": {
    "hidden": true
   },
   "source": [
    "O **Robust Scaler** foi escolhido como uma alternativa que diminuiu a necessidade do tratamento de outliers, por se basear no primeiro e terceiro quartis para seu cálculo. \n",
    "\n",
    "Para saber mais, ver **Introdução Teórica: Transformação de Escala**."
   ]
  },
  {
   "cell_type": "markdown",
   "id": "5b43e77c",
   "metadata": {
    "heading_collapsed": true,
    "hidden": true
   },
   "source": [
    "### Transformação de Escala"
   ]
  },
  {
   "cell_type": "markdown",
   "id": "d6b6f266",
   "metadata": {
    "hidden": true
   },
   "source": [
    "`df_posprocessamento_robscaler"
   ]
  },
  {
   "cell_type": "code",
   "execution_count": null,
   "id": "7cd43a9a",
   "metadata": {
    "ExecuteTime": {
     "start_time": "2022-02-17T18:26:01.924Z"
    },
    "hidden": true
   },
   "outputs": [],
   "source": [
    "sb.kdeplot(df_posprocessamento.loc[:,\"away_team_buildUpPlaySpeed\"].values)\n",
    "plt.title(\"\\nDistribuição de Frequência do Atributo 'away_team_buildUpPlaySpeed' antes de qualquer transformação\\n\") \n",
    "plt.show()"
   ]
  },
  {
   "cell_type": "markdown",
   "id": "1598f811",
   "metadata": {
    "hidden": true
   },
   "source": [
    "#### Técnica Baseada em Quartis"
   ]
  },
  {
   "cell_type": "code",
   "execution_count": null,
   "id": "ca863922",
   "metadata": {
    "ExecuteTime": {
     "start_time": "2022-02-17T18:26:01.939Z"
    },
    "hidden": true
   },
   "outputs": [],
   "source": [
    "posprocessamento_robscaler = RobustScaler()\n",
    "df_posprocessamento_robscaler = pd.DataFrame(posprocessamento_robscaler.fit_transform(df_posprocessamento))\n",
    "df_posprocessamento_robscaler.head()"
   ]
  },
  {
   "cell_type": "code",
   "execution_count": null,
   "id": "a3a31d98",
   "metadata": {
    "ExecuteTime": {
     "start_time": "2022-02-17T18:26:01.955Z"
    },
    "hidden": true
   },
   "outputs": [],
   "source": [
    "sb.kdeplot(df_posprocessamento_robscaler.iloc[:,864].values)\n",
    "plt.title(\"\\nDistribuição de Frequência do Atributo 'away_team_buildUpPlaySpeed' após Transformação de Escala Robust\\n\") \n",
    "plt.show()"
   ]
  },
  {
   "cell_type": "markdown",
   "id": "23d67610",
   "metadata": {
    "hidden": true
   },
   "source": [
    "   "
   ]
  },
  {
   "cell_type": "markdown",
   "id": "ddae592a",
   "metadata": {
    "ExecuteTime": {
     "end_time": "2022-02-09T14:43:09.929993Z",
     "start_time": "2022-02-09T14:43:09.918273Z"
    },
    "heading_collapsed": true,
    "hidden": true
   },
   "source": [
    "### Redução de Dimensionalidade: PCA"
   ]
  },
  {
   "cell_type": "markdown",
   "id": "396201b9",
   "metadata": {
    "hidden": true
   },
   "source": [
    "Após todos as manipulações de dados feitas, enfim chegamos na etapa de lidar diretamente com a Alta Dimensionalidades do dataset.\n",
    "\n",
    "Para saber mais, ver **Introdução Teórica: PCA - Análise de Componentes Principais**.\n",
    "\n",
    "**Embora** já tenha sido feita um tipo de transformação, realizada para o **tratamento da escala dos dados**, a mesma não tinha por objetivo reduzir a quantidade de dimensões, mas sim fazer com que cada variável fosse expressa de forma proporcional ao conjunto total de variáveis, o que não exime a necessidade de **simplificar o sistema** analisado de maneira que possa ser :\n",
    "* Melhor interpretado pelo modelo;\n",
    "* Modelado em menos tempo;\n",
    "* Modelado com menor chance de Overfitting.\n",
    "\n",
    "Portanto, **as técnicas de transformação** aplicadas (tanto a de **Escala** quanto de Redução de Dimensionalidade **PCA**) não **são** excludentes, mas sim **complementares.**\n",
    "\n",
    "Neste estudo será aplicado modelo apenas com os dados que passaram pela Transformação de Escala (além do próprio Pré-processamento), um modelo apenas com os dados que passaram pela Transformação do PCA, e em seguida com os dados que passaram tanto pela Transformação de Escala quanto pela Transformação do PCA, para fins de comparação.\n"
   ]
  },
  {
   "cell_type": "code",
   "execution_count": null,
   "id": "ab3ea97e",
   "metadata": {
    "ExecuteTime": {
     "start_time": "2022-02-17T18:26:01.976Z"
    },
    "hidden": true
   },
   "outputs": [],
   "source": [
    "matriz_posprocessamento = np.array(df_posprocessamento)\n",
    "matriz_posprocessamento"
   ]
  },
  {
   "cell_type": "markdown",
   "id": "c1121396",
   "metadata": {
    "hidden": true
   },
   "source": [
    "Variância de cada variável"
   ]
  },
  {
   "cell_type": "code",
   "execution_count": null,
   "id": "c8c0ef63",
   "metadata": {
    "ExecuteTime": {
     "start_time": "2022-02-17T18:26:01.994Z"
    },
    "hidden": true
   },
   "outputs": [],
   "source": [
    "v = np.round(np.cov(np.transpose(matriz_posprocessamento)), 2) \n",
    "pd.DataFrame(np.reshape(np.diagonal(v), (1, len(np.diagonal(v))) ), columns=df_posprocessamento.columns)"
   ]
  },
  {
   "cell_type": "markdown",
   "id": "31ada7f0",
   "metadata": {
    "heading_collapsed": true,
    "hidden": true
   },
   "source": [
    "#### Redução SEM Transformação de Escala"
   ]
  },
  {
   "cell_type": "markdown",
   "id": "3793ae53",
   "metadata": {
    "hidden": true
   },
   "source": [
    "Atribuição do PCA sem a Transformação de Escala\n",
    "* `df_pca` => **22 Componentes principais**"
   ]
  },
  {
   "cell_type": "markdown",
   "id": "121191e5",
   "metadata": {
    "hidden": true
   },
   "source": [
    "##### Definição N Componentes Principais"
   ]
  },
  {
   "cell_type": "markdown",
   "id": "7e90b230",
   "metadata": {
    "hidden": true
   },
   "source": [
    "Cálculo da quantidade de componentes suficientes para explicar a maior parte variabilidade dos dados.\n",
    "\n",
    "Para isto, a Transformação com PCA é aplicada para o número de variáveis do dataset original, para assim aplicar o atributo explained_variance_ratio_, que retorna a porcentagem de varição para cada variável (SKIKIT-LEARN).\n",
    "\n",
    "**REFERÊNCIA:** \n",
    "\n",
    "Scikit-learn: **Machine Learning in Python**, Pedregosa et al., JMLR 12, pp. 2825-2830, 2011. Disponível em: < https://scikit-learn.org/stable/modules/generated/sklearn.decomposition.PCA.html >Acesso em: 10/02/2022."
   ]
  },
  {
   "cell_type": "code",
   "execution_count": null,
   "id": "be524005",
   "metadata": {
    "ExecuteTime": {
     "start_time": "2022-02-17T18:26:02.020Z"
    },
    "hidden": true
   },
   "outputs": [],
   "source": [
    "pca_n = PCA(n_components= 872, random_state = 4 )\n",
    "df_pca_n = pd.DataFrame(pca_n.fit_transform(df_posprocessamento)).T\n",
    "df_pca_n['Var. Relativa %'] = pca_n.explained_variance_ratio_*100\n",
    "df_pca_n['Var. Acumulada %'] = df_pca_n['Var. Relativa %'].cumsum()\n",
    "\n",
    "#Proporção de 1 coluna em relação a quantidade total\n",
    "df_pca_n['Qtd. Coluna Relativa %'] = np.round(1/df_pca_n.shape[0]*100, 2)\n",
    "\n",
    "#Proporção acumulada\n",
    "df_pca_n['Qtd. Coluna Acumulada %'] = df_pca_n['Qtd. Coluna Relativa %'].cumsum()\n",
    "df_pca_n.head() "
   ]
  },
  {
   "cell_type": "code",
   "execution_count": null,
   "id": "c5ff86d8",
   "metadata": {
    "ExecuteTime": {
     "start_time": "2022-02-17T18:26:02.035Z"
    },
    "hidden": true
   },
   "outputs": [],
   "source": [
    "plt.plot(df_pca_n['Var. Relativa %'])\n",
    "plt.title(\"\\nGráfico da Variabilidade dos Atributos\\n\")\n",
    "plt.xlabel(\"\\nComponente de índice N\")\n",
    "plt.ylabel(\"Var. Relativa %\\n\")\n",
    "plt.show()"
   ]
  },
  {
   "cell_type": "markdown",
   "id": "ed2c1ee3",
   "metadata": {
    "hidden": true
   },
   "source": [
    "No gráfico acima é possível observar que os primeiros atributos carregam a maior parte da variabilidade dos dados, tendo uma queda abrupta da representatividade antes mesmo do centésimo atributo. \n",
    "\n",
    "Abaixo foi feito um gráfico num intervalo reduzido, fatiando este trecho da curva. "
   ]
  },
  {
   "cell_type": "code",
   "execution_count": null,
   "id": "846fd288",
   "metadata": {
    "ExecuteTime": {
     "start_time": "2022-02-17T18:26:02.049Z"
    },
    "hidden": true
   },
   "outputs": [],
   "source": [
    "#fig, (barras, escala)= plt.subplots(nrows= 2, ncols=1,figsize=(10, 5)) \n",
    "fig = plt.figure(figsize=(16, 5)) \n",
    "spec = gridspec.GridSpec(ncols=1, nrows=2, height_ratios=[40, 1])  \n",
    "barras = fig.add_subplot(spec[0])\n",
    "\n",
    "barras.set_ylabel('\\nVar. Relativa % Atributos\\n\\n')\n",
    "barras.bar(list(range(23)), df_pca_n.loc[list(range(23)), 'Var. Relativa %'], color='c')\n",
    "barras.set_xlabel('Colunas do índice 0 a 21')\n",
    "barras.set_xticks(list(range(22)))\n",
    "\n",
    "linha= barras.twinx()\n",
    "linha.set_ylabel('Var. Acumulada %', color='tomato')\n",
    "linha.plot(list(range(23)), df_pca_n.loc[list(range(23)), 'Var. Acumulada %'], color='red', linewidth=3, marker='s', markersize=8) \n",
    "linha.tick_params(axis='y', labelcolor='tomato')\n",
    "\n",
    "escala =  fig.add_subplot(spec[1])\n",
    "escala.set_xticks( np.round(np.array(range(0, 22, 1))/9.75, 2) )\n",
    "\n",
    "#escala.set_xticks(df_pca_n.loc[list(range(22)), 'Qtd. Coluna Acumulada %'])\n",
    "escala.set_xlabel('\\nQtd. Acumulada % dos Atributos de índice 0 a 21 \\n\\n')\n",
    "escala.set_xlim([-0.1, 2.4])\n",
    "\n",
    "plt.subplots_adjust(hspace=0.4)\n",
    "\n",
    "plt.title('\\nGráfico de Pareto\\n\\n\\n\\n\\n\\n\\n\\n\\n\\n\\n\\n\\n\\n\\n\\n\\n\\n')\n",
    "plt.show()"
   ]
  },
  {
   "cell_type": "markdown",
   "id": "e8e1c30b",
   "metadata": {
    "hidden": true
   },
   "source": [
    "Baseado no Príncipio de Escassez do Fator (também conhecido como **Regra do 80/20**) do **Economista Vilfredo Pareto**, foi feito o gráfico comparativo acima, contendo no Eixo Y Primário (Esquerda) a **Variabilidade % dos Atributos**, e no Eixo Y Secundário (Direita) a **Proporção acumulada** destes, e na Escala do Eixo X a Quantidade proporcional de atributos variando das colunas de índice 0 a 21. Por mais que a proporção não seja de 80/20, o gráfico demonstra que **80% da variabilidade** total dos dados **está concentrada em** aproximadamente **1.44% do total das colunas.**\n",
    "\n",
    "Portanto, foi definido que **22** é o número ótimo de componentes para este conjunto de dados, por representar uma variabilidade próxima a 99%. "
   ]
  },
  {
   "cell_type": "markdown",
   "id": "1bfba9ce",
   "metadata": {
    "heading_collapsed": true,
    "hidden": true
   },
   "source": [
    "##### Transformação"
   ]
  },
  {
   "cell_type": "code",
   "execution_count": null,
   "id": "a9665caa",
   "metadata": {
    "ExecuteTime": {
     "start_time": "2022-02-17T18:26:02.071Z"
    },
    "hidden": true
   },
   "outputs": [],
   "source": [
    "n_components = 22\n",
    "pca1 = PCA(n_components= n_components, random_state = 4 )\n",
    "pca1.fit_transform(df_posprocessamento)\n",
    "\n",
    "df_pca = pd.DataFrame(pca1.components_)\n",
    "df_pca.head(None) "
   ]
  },
  {
   "cell_type": "code",
   "execution_count": null,
   "id": "566ad579",
   "metadata": {
    "ExecuteTime": {
     "start_time": "2022-02-17T18:26:02.083Z"
    },
    "hidden": true
   },
   "outputs": [],
   "source": [
    "df_pca.info(verbose=True, show_counts=True)"
   ]
  },
  {
   "cell_type": "markdown",
   "id": "8bb73360",
   "metadata": {
    "hidden": true
   },
   "source": [
    "#### Redução COM Transformação de Escala "
   ]
  },
  {
   "cell_type": "markdown",
   "id": "7ede7bb0",
   "metadata": {
    "hidden": true
   },
   "source": [
    "Atribuição do PCA com a Transformação de Escala\n",
    "* `df_pca_rob` => **4 Componentes principais**"
   ]
  },
  {
   "cell_type": "markdown",
   "id": "92f12f41",
   "metadata": {
    "heading_collapsed": true,
    "hidden": true
   },
   "source": [
    "##### Definição N Componentes Principais"
   ]
  },
  {
   "cell_type": "markdown",
   "id": "ecc2173f",
   "metadata": {
    "hidden": true
   },
   "source": [
    "Cálculo da quantidade de componentes suficientes para explicar a maior parte variabilidade dos dados."
   ]
  },
  {
   "cell_type": "code",
   "execution_count": null,
   "id": "ea1c977c",
   "metadata": {
    "ExecuteTime": {
     "start_time": "2022-02-17T18:26:02.109Z"
    },
    "hidden": true
   },
   "outputs": [],
   "source": [
    "pca_n_rob = PCA(n_components= 872, random_state = 4 )\n",
    "df_pca_n_rob = pd.DataFrame(pca_n_rob.fit_transform(df_posprocessamento_robscaler)).T\n",
    "df_pca_n_rob['Var. Relativa %'] = pca_n_rob.explained_variance_ratio_*100\n",
    "df_pca_n_rob['Var. Acumulada %'] = df_pca_n_rob['Var. Relativa %'].cumsum()\n",
    "\n",
    "#Proporção de 1 coluna em relação a quantidade total\n",
    "df_pca_n_rob['Qtd. Coluna Relativa %'] = np.round(1/df_pca_n_rob.shape[0]*100, 2)\n",
    "\n",
    "#Proporção acumulada\n",
    "df_pca_n_rob['Qtd. Coluna Acumulada %'] = df_pca_n_rob['Qtd. Coluna Relativa %'].cumsum()\n",
    "df_pca_n_rob.head() "
   ]
  },
  {
   "cell_type": "code",
   "execution_count": null,
   "id": "2f14c2f4",
   "metadata": {
    "ExecuteTime": {
     "start_time": "2022-02-17T18:26:02.124Z"
    },
    "hidden": true
   },
   "outputs": [],
   "source": [
    "plt.plot(df_pca_n_rob['Var. Relativa %'])\n",
    "plt.title(\"\\nGráfico da Variabilidade dos Atributos\\n\")\n",
    "plt.xlabel(\"\\nComponente de índice N\")\n",
    "plt.ylabel(\"Var. Relativa %\\n\")\n",
    "plt.show()"
   ]
  },
  {
   "cell_type": "markdown",
   "id": "ce0acd66",
   "metadata": {
    "hidden": true
   },
   "source": [
    "No gráfico acima é possível observar que, assim como na aplicação do PCA para a base sem transformação de escala, os primeiros atributos carregam a maior parte da variabilidade dos dados, mas neste caso a queda parece ocorrer para uma quantidade ainda menor de atributos.\n",
    "\n",
    "Abaixo foi feito um gráfico num intervalo reduzido, fatiando este trecho da curva. "
   ]
  },
  {
   "cell_type": "code",
   "execution_count": null,
   "id": "f30c90b0",
   "metadata": {
    "ExecuteTime": {
     "start_time": "2022-02-17T18:26:02.137Z"
    },
    "hidden": true
   },
   "outputs": [],
   "source": [
    "fig = plt.figure(figsize=(16, 5)) \n",
    "spec = gridspec.GridSpec(ncols=1, nrows=2, height_ratios=[40, 1])  \n",
    "barras = fig.add_subplot(spec[0])\n",
    "\n",
    "barras.set_ylabel('\\nVar. Relativa % Atributos\\n\\n')\n",
    "barras.bar(list(range(6)), df_pca_n_rob.loc[list(range(6)), 'Var. Relativa %'], color='c')\n",
    "barras.set_xlabel('Colunas do índice 0 a 5')\n",
    "barras.set_xticks(list(range(22)))\n",
    "\n",
    "linha= barras.twinx()\n",
    "linha.set_ylabel('Var. Acumulada %', color='tomato')\n",
    "linha.plot(list(range(6)), df_pca_n_rob.loc[list(range(6)), 'Var. Acumulada %'], color='red', linewidth=3, marker='s', markersize=8) \n",
    "linha.tick_params(axis='y', labelcolor='tomato')\n",
    "\n",
    "escala =  fig.add_subplot(spec[1])\n",
    "escala.set_xticks( np.round(np.array(range(0, 6, 1))/2.25, 2) )\n",
    "\n",
    "escala.set_xlabel('\\nQtd. Acumulada % dos Atributos de índice 0 a 5 \\n\\n')\n",
    "escala.set_xlim([-0.2, 2.4])\n",
    "\n",
    "plt.subplots_adjust(hspace=0.4)\n",
    "\n",
    "plt.title('\\nGráfico de Pareto\\n\\n\\n\\n\\n\\n\\n\\n\\n\\n\\n\\n\\n\\n\\n\\n\\n\\n')\n",
    "plt.show()"
   ]
  },
  {
   "cell_type": "markdown",
   "id": "0734c9d5",
   "metadata": {
    "hidden": true
   },
   "source": [
    "O gráfico demonstra que cerca de **95% da variabilidade** total dos dados **está concentrada em** aproximadamente **0.89% do total das colunas.**\n",
    "\n",
    "Portanto, neste teste, **3** é o número ótimo de componentes, pois é no **terceiro atributo** (índice 2) que aponto a menor inclinação e por representar uma variabilidade aproximada de 95%. "
   ]
  },
  {
   "cell_type": "markdown",
   "id": "2417c90d",
   "metadata": {
    "ExecuteTime": {
     "end_time": "2022-02-17T12:46:08.244334Z",
     "start_time": "2022-02-17T12:46:08.193475Z"
    },
    "heading_collapsed": true,
    "hidden": true
   },
   "source": [
    "##### Ajuste do Hiperparâmetro whiten"
   ]
  },
  {
   "cell_type": "markdown",
   "id": "8f3185c1",
   "metadata": {
    "hidden": true
   },
   "source": [
    "Segundo a documentação do Scikit-learn (Preprocessing data), as vezes o modelo pode fazer algumas suposições sobre a **independência linear** das variáveis, mesmo após a **centralização e dimensionamento dos dados** (pelas transformações anteriormente aplicadas). Para minimizar este efeito, o PCA possui o **hiperparâmetro whiten** que assume por default o valor False, mas quando configurado para **True**, os componentes vetoriais são multiplicados pela raiz quadrada da quantidade de eventos e em seguida divididos pelos valores singulares, **garantindo saídas não correlacionadas com as variações individuais** das componentes.\n",
    "\n",
    "\n",
    "**REFERÊNCIA:** \n",
    "\n",
    "SCIKIT-learn: **Machine Learning in Python**: Preprocessing data, Pedregosa et al., JMLR 12, pp. 2825-2830, 2011. Disponível em: < https://scikit-learn.org/stable/modules/preprocessing.html#preprocessing-scaler > Acesso em: 13/02/2022."
   ]
  },
  {
   "cell_type": "code",
   "execution_count": null,
   "id": "61482e8b",
   "metadata": {
    "ExecuteTime": {
     "start_time": "2022-02-17T18:26:02.168Z"
    },
    "hidden": true
   },
   "outputs": [],
   "source": [
    "pca_n_rob_hip = PCA(n_components= 872, random_state = 4, whiten=True )\n",
    "df_pca_n_rob_hip = pd.DataFrame(pca_n_rob_hip.fit_transform(df_posprocessamento_robscaler)).T\n",
    "df_pca_n_rob_hip['Var. Relativa %'] = pca_n_rob_hip.explained_variance_ratio_*100\n",
    "df_pca_n_rob_hip['Var. Acumulada %'] = df_pca_n_rob_hip['Var. Relativa %'].cumsum()\n",
    "\n",
    "#Proporção de 1 coluna em relação a quantidade total\n",
    "df_pca_n_rob_hip['Qtd. Coluna Relativa %'] = np.round(1/df_pca_n_rob_hip.shape[0]*100, 2)\n",
    "\n",
    "#Proporção acumulada\n",
    "df_pca_n_rob_hip['Qtd. Coluna Acumulada %'] = df_pca_n_rob_hip['Qtd. Coluna Relativa %'].cumsum()\n",
    "\n",
    "fig = plt.figure(figsize=(10, 5)) \n",
    "spec = gridspec.GridSpec(ncols=1, nrows=2)  \n",
    "g1= fig.add_subplot(spec[0])\n",
    "\n",
    "g1.plot(df_pca_n_rob_hip['Var. Relativa %'])\n",
    "g1.set_title(\"\\nGráfico da Variabilidade dos Atributos\\n\")\n",
    "g1.set_xlabel(\"\\nComponente de índice N\")\n",
    "g1.set_ylabel(\"Var. Relativa %\\n\")\n",
    "\n",
    "g2 = fig.add_subplot(spec[1])\n",
    "g2.plot(list(range(23)), df_pca_n_rob_hip.loc[list(range(23)), 'Var. Relativa %'])\n",
    "g2.set_xlabel(\"\\nComponente de índice N\")\n",
    "g2.set_ylabel(\"Var. Relativa %\\n\")\n",
    "g2.set_xticks(range(23))\n",
    "plt.show()"
   ]
  },
  {
   "cell_type": "markdown",
   "id": "1740abd9",
   "metadata": {
    "hidden": true
   },
   "source": [
    "O comportamento geral da variabilidade do PCA para **whiten = True** foi muito próximo ao whiten = False, com excessão do intervalo com x entre os índices 2 e 3, pois no gráfico anterior o \"mínimo global\" da função foi atingido já no índice 2 (terceiro atributo) mas aqui **a curva atinge seu mínimo** final **no índice 3 (quarto atributo)**.\n",
    "\n",
    "Portanto, foi definido que **n_components = 4** é o número ótimo de componentes para este conjunto de dados, e será o valor considerado para a transformação efetiva dos dados e aplicação do modelo. "
   ]
  },
  {
   "cell_type": "markdown",
   "id": "bd62d421",
   "metadata": {
    "ExecuteTime": {
     "end_time": "2022-02-16T20:12:18.672925Z",
     "start_time": "2022-02-16T20:12:18.635343Z"
    },
    "hidden": true
   },
   "source": [
    "##### Transformação"
   ]
  },
  {
   "cell_type": "code",
   "execution_count": null,
   "id": "3000c633",
   "metadata": {
    "ExecuteTime": {
     "start_time": "2022-02-17T18:26:02.190Z"
    },
    "hidden": true
   },
   "outputs": [],
   "source": [
    "n_components = 4 \n",
    "pca_rob = PCA(n_components= n_components, random_state = 4 )\n",
    "pca_rob.fit(df_posprocessamento_robscaler)\n",
    "\n",
    "df_pca_rob = pd.DataFrame(pca_rob.components_)\n",
    "#df_pca_rob.info(verbose=True, show_counts=True)\n",
    "df_pca_rob.head(None) "
   ]
  },
  {
   "cell_type": "markdown",
   "id": "7da4de4b",
   "metadata": {
    "heading_collapsed": true,
    "hidden": true
   },
   "source": [
    "### Execução do código funcional"
   ]
  },
  {
   "cell_type": "markdown",
   "id": "f860c12e",
   "metadata": {
    "hidden": true
   },
   "source": [
    "Código final resultante de toda **Transformação de Dados** encapsulado nesta única célula, fornecendo todos os dados realmente necessários a execução do restante do projeto."
   ]
  },
  {
   "cell_type": "code",
   "execution_count": null,
   "id": "53fb695d",
   "metadata": {
    "ExecuteTime": {
     "start_time": "2022-02-17T18:26:02.215Z"
    },
    "hidden": true
   },
   "outputs": [],
   "source": [
    "#Transformação de Escala\n",
    "posprocessamento_robscaler = RobustScaler()\n",
    "df_posprocessamento_robscaler = pd.DataFrame(posprocessamento_robscaler.fit_transform(df_posprocessamento))\n",
    "\n",
    "#Redução SEM Transformação de Escala\n",
    "n_components = 22\n",
    "pca1 = PCA(n_components= n_components, random_state = 4 )\n",
    "pca1.fit_transform(df_posprocessamento)\n",
    "df_pca = pd.DataFrame(pca1.components_)\n",
    "\n",
    "#Redução COM Transformação de Escala\n",
    "n_components = 4 \n",
    "pca_rob = PCA(n_components= n_components, random_state = 4 )\n",
    "pca_rob.fit(df_posprocessamento_robscaler)\n",
    "df_pca_rob = pd.DataFrame(pca_rob.components_)"
   ]
  },
  {
   "cell_type": "markdown",
   "id": "9c0247eb",
   "metadata": {
    "heading_collapsed": true
   },
   "source": [
    "## Modelagem Transformação de Escala"
   ]
  },
  {
   "cell_type": "markdown",
   "id": "62ee935b",
   "metadata": {
    "hidden": true
   },
   "source": [
    "Aplicação do modelo com dados pós processados + Transformação de Escala utilizando a técnica baseada em quartis.\n",
    "\n",
    "* `df_posprocessamento_robscaler`"
   ]
  },
  {
   "cell_type": "markdown",
   "id": "a5c1b756",
   "metadata": {
    "heading_collapsed": true,
    "hidden": true
   },
   "source": [
    "### Definição do K"
   ]
  },
  {
   "cell_type": "markdown",
   "id": "5335e324",
   "metadata": {
    "hidden": true
   },
   "source": [
    "Método de Elbow para definição de k"
   ]
  },
  {
   "cell_type": "code",
   "execution_count": null,
   "id": "742ef206",
   "metadata": {
    "ExecuteTime": {
     "start_time": "2022-02-17T18:26:02.251Z"
    },
    "hidden": true
   },
   "outputs": [],
   "source": [
    "wcss_rob = []\n",
    "for i in tqdm(range(1, 190)):\n",
    "    tmodel = KMeans(n_clusters=i+1, algorithm='auto', init='k-means++', max_iter=600 , random_state=2)\n",
    "    tmodel.fit(df_posprocessamento_robscaler) \n",
    "    wcss_rob.append(tmodel.inertia_)"
   ]
  },
  {
   "cell_type": "code",
   "execution_count": null,
   "id": "6f5e710f",
   "metadata": {
    "ExecuteTime": {
     "start_time": "2022-02-17T18:26:02.269Z"
    },
    "hidden": true
   },
   "outputs": [],
   "source": [
    "len(wcss_rob)"
   ]
  },
  {
   "cell_type": "code",
   "execution_count": null,
   "id": "e19bdf06",
   "metadata": {
    "ExecuteTime": {
     "start_time": "2022-02-17T18:26:02.282Z"
    },
    "hidden": true
   },
   "outputs": [],
   "source": [
    "plt.plot(range(1, 189+1), wcss_rob)\n",
    "plt.title(\"Método de Elbow\")\n",
    "plt.xlabel(\"\\nk Cluters\")\n",
    "plt.ylabel(\"WCSS\\n\")\n",
    "plt.show()"
   ]
  },
  {
   "cell_type": "markdown",
   "id": "9afed0e8",
   "metadata": {
    "heading_collapsed": true,
    "hidden": true
   },
   "source": [
    "### Treinamento do Modelo"
   ]
  },
  {
   "cell_type": "code",
   "execution_count": null,
   "id": "66150f9f",
   "metadata": {
    "ExecuteTime": {
     "start_time": "2022-02-17T18:26:02.298Z"
    },
    "hidden": true
   },
   "outputs": [],
   "source": [
    "k = 25\n",
    "\n",
    "    #Model definition (definindo a instância da classe KMeans e atribuindo ao objeto modelC_transform2)\n",
    "model_posprocessamento_robscaler = KMeans(n_clusters=k, algorithm='auto', init='k-means++', random_state=2)\n",
    "\n",
    "    #Model traning\n",
    "model_posprocessamento_robscaler.fit(df_posprocessamento_robscaler)\n"
   ]
  },
  {
   "cell_type": "markdown",
   "id": "efe75018",
   "metadata": {
    "hidden": true
   },
   "source": [
    "Centro dos Clusters"
   ]
  },
  {
   "cell_type": "code",
   "execution_count": null,
   "id": "613f8fca",
   "metadata": {
    "ExecuteTime": {
     "start_time": "2022-02-17T18:26:02.321Z"
    },
    "hidden": true
   },
   "outputs": [],
   "source": [
    "centroids_rob = model_posprocessamento_robscaler.cluster_centers_\n",
    "centroids_rob"
   ]
  },
  {
   "cell_type": "markdown",
   "id": "933b915f",
   "metadata": {
    "hidden": true
   },
   "source": [
    "Lista ordenada do rótulo do cluster atribuído, linha a linha, pelo modelo treinado"
   ]
  },
  {
   "cell_type": "code",
   "execution_count": null,
   "id": "e5ed8825",
   "metadata": {
    "ExecuteTime": {
     "start_time": "2022-02-17T18:26:02.336Z"
    },
    "hidden": true
   },
   "outputs": [],
   "source": [
    "labels_rob= model_posprocessamento_robscaler.labels_\n",
    "labels_rob"
   ]
  },
  {
   "cell_type": "markdown",
   "id": "cf7d2f5f",
   "metadata": {
    "heading_collapsed": true,
    "hidden": true
   },
   "source": [
    "### Performance do Modelo"
   ]
  },
  {
   "cell_type": "markdown",
   "id": "c230fcc5",
   "metadata": {
    "hidden": true
   },
   "source": [
    "#### Coeficiente de Silhueta"
   ]
  },
  {
   "cell_type": "markdown",
   "id": "40c5fd2e",
   "metadata": {
    "hidden": true
   },
   "source": [
    "Cálculo do Coeficiente de Silhueta geral\n",
    "\n",
    "Resultado Silhueta geral = **0.03**"
   ]
  },
  {
   "cell_type": "code",
   "execution_count": null,
   "id": "02f8b0fe",
   "metadata": {
    "ExecuteTime": {
     "start_time": "2022-02-17T18:26:02.365Z"
    },
    "hidden": true
   },
   "outputs": [],
   "source": [
    "cof_silh_med_pp_rob = me.silhouette_score(df_posprocessamento_robscaler, labels_rob)\n",
    "cof_silh_med_pp_rob"
   ]
  },
  {
   "cell_type": "markdown",
   "id": "921c2df4",
   "metadata": {
    "hidden": true
   },
   "source": [
    "Cálculo do Coeficiente de Silhueta Média para cada cluster"
   ]
  },
  {
   "cell_type": "code",
   "execution_count": null,
   "id": "6d519294",
   "metadata": {
    "ExecuteTime": {
     "start_time": "2022-02-17T18:26:02.378Z"
    },
    "hidden": true
   },
   "outputs": [],
   "source": [
    "cof_silh = me.silhouette_samples(df_posprocessamento_robscaler, labels_rob)\n",
    "\n",
    "#k=2\n",
    "for ki in range(0, k):\n",
    "    print(\"Silhueta Média para Cluster {:}: {:.2f} +- {:.4f}\".format(ki, \n",
    "                                                                   np.mean(cof_silh[labels_rob==ki]),\n",
    "                                                                   np.std(cof_silh[labels_rob==ki]/np.sum(labels_rob==ki)**.5)))  \n",
    "\n",
    "print(\"\\nO melhor valor é 1 e o pior valor é -1. Valores próximos de 0 indicam clusters sobrepostos.\")"
   ]
  },
  {
   "cell_type": "markdown",
   "id": "c9e498d4",
   "metadata": {
    "heading_collapsed": true,
    "hidden": true
   },
   "source": [
    "### Visualização dos Resultados"
   ]
  },
  {
   "cell_type": "markdown",
   "id": "3d5d7071",
   "metadata": {
    "hidden": true
   },
   "source": [
    "Dataset usado para treinar o modelo rotulado com os Clusters"
   ]
  },
  {
   "cell_type": "code",
   "execution_count": null,
   "id": "468c8a1d",
   "metadata": {
    "ExecuteTime": {
     "start_time": "2022-02-17T18:26:02.405Z"
    },
    "hidden": true
   },
   "outputs": [],
   "source": [
    "df_treinado_rob = df_posprocessamento_robscaler.copy()\n",
    "df_treinado_rob[\"K-Cluster\"]= labels_rob\n",
    "df_treinado_rob.head()"
   ]
  },
  {
   "cell_type": "code",
   "execution_count": null,
   "id": "cc56a079",
   "metadata": {
    "ExecuteTime": {
     "start_time": "2022-02-17T18:26:02.415Z"
    },
    "hidden": true
   },
   "outputs": [],
   "source": [
    "tsne_rob = TSNE( n_components = 2, random_state = 2 ).fit_transform(df_treinado_rob)\n",
    "df_tsne_rob= pd.DataFrame(data={\"1d\":list(tsne_rob[:,0]), \"2d\": list(tsne_rob[:, 1])})                                                                 "
   ]
  },
  {
   "cell_type": "code",
   "execution_count": null,
   "id": "9ea65262",
   "metadata": {
    "ExecuteTime": {
     "start_time": "2022-02-17T18:26:02.428Z"
    },
    "hidden": true
   },
   "outputs": [],
   "source": [
    "fig = plt.figure(figsize=(18,10))\n",
    "#sb.set_palette(sb.color_palette(\"crest\", as_cmap=True)) \n",
    "sb.relplot(x=\"1d\" , y='2d', data=df_tsne_rob, legend=False, hue=\"1d\", size=\"1d\", palette=sb.color_palette(\"rocket\", as_cmap=True)) \n",
    "plt.title(\"\\nProjeção das Variáveis Clusterizadas em 2 Dimensões\\n\")           \n",
    "plt.show()"
   ]
  },
  {
   "cell_type": "markdown",
   "id": "a4743ab0",
   "metadata": {
    "hidden": true
   },
   "source": [
    "   "
   ]
  },
  {
   "cell_type": "markdown",
   "id": "6f6d5e2f",
   "metadata": {
    "heading_collapsed": true,
    "hidden": true
   },
   "source": [
    "### Conclusão"
   ]
  },
  {
   "cell_type": "markdown",
   "id": "764c582e",
   "metadata": {
    "hidden": true
   },
   "source": [
    "Com base nos resultados apresentados na aplicação do algoritmo após o **Transformação de Escala**, é possível perceber que a aplicação da técnica **não foi, sozinha, suficiente para gerar uma boa performance do modelo de agrupamento**."
   ]
  },
  {
   "cell_type": "markdown",
   "id": "c4a76fcf",
   "metadata": {
    "ExecuteTime": {
     "end_time": "2022-02-09T14:43:44.113902Z",
     "start_time": "2022-02-09T14:43:44.100707Z"
    },
    "heading_collapsed": true
   },
   "source": [
    "## Modelagem Transformação PCA"
   ]
  },
  {
   "cell_type": "markdown",
   "id": "262e1ce5",
   "metadata": {
    "hidden": true
   },
   "source": [
    "Aplicação do modelo com dados pós processados + atribuição de **22 componentes** principais pela Transformação de Dados via PCA\n",
    "\n",
    "* `df_pca`\n",
    "* `df_pca.T`"
   ]
  },
  {
   "cell_type": "markdown",
   "id": "0814bd56",
   "metadata": {
    "heading_collapsed": true,
    "hidden": true
   },
   "source": [
    "### Definição do K: Base Original"
   ]
  },
  {
   "cell_type": "markdown",
   "id": "0967a003",
   "metadata": {
    "hidden": true
   },
   "source": [
    "Método de Elbow para definição de k na base original resultante do PCA.\n",
    "\n",
    "* `df_pca`"
   ]
  },
  {
   "cell_type": "code",
   "execution_count": null,
   "id": "9af6411e",
   "metadata": {
    "ExecuteTime": {
     "start_time": "2022-02-17T18:26:02.474Z"
    },
    "hidden": true
   },
   "outputs": [],
   "source": [
    "wcss_pca = []\n",
    "for i in tqdm(range(1, 22)):\n",
    "    tmodel = KMeans(n_clusters=i+1, algorithm='auto', init='k-means++', max_iter=600 , random_state=2)\n",
    "    tmodel.fit(df_pca) \n",
    "    wcss_pca .append(tmodel.inertia_)"
   ]
  },
  {
   "cell_type": "code",
   "execution_count": null,
   "id": "0074d17e",
   "metadata": {
    "ExecuteTime": {
     "start_time": "2022-02-17T18:26:02.488Z"
    },
    "hidden": true
   },
   "outputs": [],
   "source": [
    "len(wcss_pca )"
   ]
  },
  {
   "cell_type": "code",
   "execution_count": null,
   "id": "52a20298",
   "metadata": {
    "ExecuteTime": {
     "start_time": "2022-02-17T18:26:02.500Z"
    },
    "hidden": true
   },
   "outputs": [],
   "source": [
    "plt.plot(range(1, 21+1), wcss_pca)\n",
    "plt.title(\"Método de Elbow até k=21 (Máximo)\")\n",
    "plt.xlabel(\"\\nk Cluters\")\n",
    "plt.ylabel(\"WCSS\\n\")\n",
    "plt.xticks(list(range(22)))\n",
    "plt.show()"
   ]
  },
  {
   "cell_type": "markdown",
   "id": "d3ac817e",
   "metadata": {
    "hidden": true
   },
   "source": [
    "**Explanação**\n",
    "\n",
    "Devido a baixa quantidade de eventos resultante da definição das componentes principais, o número k de clusters é limitado a esta quantidade de observações, o que provavelmente causou este comportamento linear, ao invés de curvelínio como era esperado.\n",
    "\n",
    "Penso que, como a aplicação do PCA diminuiu os valores do eixo das linhas a um grupo limitado de eventos, que já perderam seu **significado semântico individual**, o grupo de componentes principais resultante **exprime de forma resumida** toda a **informação dos eventos** do dataset original, como se fossem uma **forma fatorada** da mesma **expressão algébrica** (com o único porém de talvez não ser um processo totalmente reversível como é na Álgebra, dedução esta que por enquanto carece de embasamento). \n",
    "Com isso, o resultado das componentes principais não é mais um conjunto de eventos independentes, uma vez que de certa forma, existe uma **constante de proporcionalidade** entre estes eventos, por partirem de uma **quantidade inicial** (a quantidade de linhas do dataset original), e serem limitados a um **número fixo de componentes** (definido através dos hiperparâmetros). Numa interpretação possível para o conceito das **estruturas de dados tabulares**, uma **linha** pode ser definida como um **objeto abstrato** que possui **atributos** que o qualificam (colunas), sendo que cada linha, em tese, é um **evento independente**, enquanto seus atributos por definição não podem ser independentes entre si, uma vez que todos eles se relacionam, em algum grau, através de sua respectiva linha. Neste raciocínio, se existe uma certa relação de dependência entre as linhas de uma tabela, esta tabela não é mais uma tabela transacional pura, mas sim uma tabela \"cruzada\", e por ser uma **tabela cruzada**, pode portanto ser **transposta sem perder sua interpretabilidade**.\n",
    "\n",
    "Portanto, achou-se **plausível aplicar** o modelo sobre o dataset com a **transposição dos dados** transformados pelo PCA, uma vez que o dataset transposto resulta num sistema com as dimensões literalmente reduzidas. "
   ]
  },
  {
   "cell_type": "markdown",
   "id": "17de961b",
   "metadata": {
    "heading_collapsed": true,
    "hidden": true
   },
   "source": [
    "### Definição do K: Base Transposta"
   ]
  },
  {
   "cell_type": "markdown",
   "id": "b7e8b461",
   "metadata": {
    "hidden": true
   },
   "source": [
    "Método de Elbow para definição de k na base transposta resultante do PCA.\n",
    "* `df_pca.T`"
   ]
  },
  {
   "cell_type": "code",
   "execution_count": null,
   "id": "4520e952",
   "metadata": {
    "ExecuteTime": {
     "start_time": "2022-02-17T18:26:02.518Z"
    },
    "hidden": true
   },
   "outputs": [],
   "source": [
    "wcss_pcaT = []\n",
    "for i in tqdm(range(1, 190)):\n",
    "    tmodel = KMeans(n_clusters=i+1, algorithm='auto', init='k-means++', max_iter=600 , random_state=2)\n",
    "    tmodel.fit(df_pca.T) \n",
    "    wcss_pcaT.append(tmodel.inertia_)"
   ]
  },
  {
   "cell_type": "code",
   "execution_count": null,
   "id": "22658fa7",
   "metadata": {
    "ExecuteTime": {
     "start_time": "2022-02-17T18:26:02.533Z"
    },
    "hidden": true
   },
   "outputs": [],
   "source": [
    "plt.plot(range(1, 189+1), wcss_pcaT)\n",
    "plt.title(\"Método de Elbow\")\n",
    "plt.xlabel(\"\\nk Cluters\")\n",
    "plt.ylabel(\"WCSS\\n\")\n",
    "\n",
    "plt.show()"
   ]
  },
  {
   "cell_type": "code",
   "execution_count": null,
   "id": "02ef40c7",
   "metadata": {
    "ExecuteTime": {
     "start_time": "2022-02-17T18:26:02.543Z"
    },
    "hidden": true
   },
   "outputs": [],
   "source": [
    "plt.plot(range(1, 24), wcss_pcaT[:23])\n",
    "plt.title(\"Recorte do Método de Elbow até k=23\")\n",
    "plt.xlabel(\"\\nk Cluters\")\n",
    "plt.ylabel(\"WCSS\\n\")\n",
    "plt.xticks(list(range(24)))\n",
    "plt.show()"
   ]
  },
  {
   "cell_type": "markdown",
   "id": "981d5eb5",
   "metadata": {
    "hidden": true
   },
   "source": [
    "O teste realizado **não demonstrou mudança** no comportamento da **função**. Contudo, como o primeiro tinha a limitação do próprio algoritmo de não poder conter mais clusters que eventos, não passava a certeza de qual seria o número ideal para o **Hiperparâmetro k**, mas  após a aplicação do modelo sobre a base transposta **pudemos validar** esta quantidade de clusters. \n",
    "\n",
    "Desta forma, seguiremos pra **Avaliação do Modelo** aplicado sobre a **base transposta**, que verificou ter o valor de **k = 22** como sendo o número ótimo. "
   ]
  },
  {
   "cell_type": "markdown",
   "id": "2cc63271",
   "metadata": {
    "heading_collapsed": true,
    "hidden": true
   },
   "source": [
    "### Treinamento do Modelo"
   ]
  },
  {
   "cell_type": "code",
   "execution_count": null,
   "id": "c9544a3d",
   "metadata": {
    "ExecuteTime": {
     "start_time": "2022-02-17T18:26:02.561Z"
    },
    "hidden": true
   },
   "outputs": [],
   "source": [
    "k = 22\n",
    "\n",
    "    #Model definition (definindo a instância da classe KMeans e atribuindo ao objeto modelC_transform1)\n",
    "model_pcaT= KMeans(n_clusters=k, algorithm='auto', init='k-means++', random_state=2)\n",
    "\n",
    "    #Model traning\n",
    "model_pcaT.fit(df_pca.T)\n"
   ]
  },
  {
   "cell_type": "markdown",
   "id": "1fe9b893",
   "metadata": {
    "hidden": true
   },
   "source": [
    "Centro dos Clusters"
   ]
  },
  {
   "cell_type": "code",
   "execution_count": null,
   "id": "31927172",
   "metadata": {
    "ExecuteTime": {
     "start_time": "2022-02-17T18:26:02.579Z"
    },
    "hidden": true
   },
   "outputs": [],
   "source": [
    "centroids_pcaT = model_pcaT.cluster_centers_\n",
    "centroids_pcaT"
   ]
  },
  {
   "cell_type": "markdown",
   "id": "4c18e5f3",
   "metadata": {
    "hidden": true
   },
   "source": [
    "Lista ordenada do rótulo do cluster atribuído, linha a linha, pelo modelo treinado"
   ]
  },
  {
   "cell_type": "code",
   "execution_count": null,
   "id": "25bf1934",
   "metadata": {
    "ExecuteTime": {
     "start_time": "2022-02-17T18:26:02.594Z"
    },
    "hidden": true
   },
   "outputs": [],
   "source": [
    "labels_pcaT = model_pcaT.labels_\n",
    "labels_pcaT"
   ]
  },
  {
   "cell_type": "markdown",
   "id": "3f28ec2e",
   "metadata": {
    "hidden": true
   },
   "source": [
    "Rótulos usados pelo modelo para diferenciar cada cluster"
   ]
  },
  {
   "cell_type": "code",
   "execution_count": null,
   "id": "6b95c8b3",
   "metadata": {
    "ExecuteTime": {
     "start_time": "2022-02-17T18:26:02.607Z"
    },
    "hidden": true
   },
   "outputs": [],
   "source": [
    "rotulos_pcaT = np.unique(labels_pcaT)\n",
    "rotulos_pcaT"
   ]
  },
  {
   "cell_type": "markdown",
   "id": "ed18cc86",
   "metadata": {
    "hidden": true
   },
   "source": [
    "Quantidade de eventos por cluster. "
   ]
  },
  {
   "cell_type": "code",
   "execution_count": null,
   "id": "cced278a",
   "metadata": {
    "ExecuteTime": {
     "start_time": "2022-02-17T18:26:02.626Z"
    },
    "hidden": true
   },
   "outputs": [],
   "source": [
    "freq = pd.Series(labels_pcaT)\n",
    "pd.DataFrame({\"Frequência do Cluster\":freq.value_counts()}).head(None)"
   ]
  },
  {
   "cell_type": "markdown",
   "id": "9cacce41",
   "metadata": {
    "heading_collapsed": true,
    "hidden": true
   },
   "source": [
    "### Performance do Modelo"
   ]
  },
  {
   "cell_type": "markdown",
   "id": "b22b6231",
   "metadata": {
    "hidden": true
   },
   "source": [
    "#### Coeficiente de Silhueta"
   ]
  },
  {
   "cell_type": "markdown",
   "id": "020ce20e",
   "metadata": {
    "hidden": true
   },
   "source": [
    "Cálculo do Coeficiente de Silhueta geral\n",
    "\n",
    "Resultado Silhueta geral = **0.97**"
   ]
  },
  {
   "cell_type": "code",
   "execution_count": null,
   "id": "4c58c8be",
   "metadata": {
    "ExecuteTime": {
     "start_time": "2022-02-17T18:26:02.646Z"
    },
    "hidden": true
   },
   "outputs": [],
   "source": [
    "cof_silh_med_pcaT = me.silhouette_score(df_pca.T, labels_pcaT)\n",
    "cof_silh_med_pcaT"
   ]
  },
  {
   "cell_type": "markdown",
   "id": "0d105b7e",
   "metadata": {
    "hidden": true
   },
   "source": [
    "Cálculo do Coeficiente de Silhueta Média para cada cluster"
   ]
  },
  {
   "cell_type": "code",
   "execution_count": null,
   "id": "251b9350",
   "metadata": {
    "ExecuteTime": {
     "start_time": "2022-02-17T18:26:02.666Z"
    },
    "hidden": true
   },
   "outputs": [],
   "source": [
    "cof_silh = me.silhouette_samples(df_pca.T, labels_pcaT)\n",
    "\n",
    "#k= 22\n",
    "for ki in range(k):\n",
    "    print(\"Silhueta Média para Cluster {:}: {:.2f} +- {:.4f}\".format(ki, \n",
    "                                                                   np.mean(cof_silh[labels_pcaT==ki]),\n",
    "                                                                   np.std(cof_silh[labels_pcaT==ki]/np.sum(labels_pcaT==ki)**.5)))  \n",
    "\n",
    "print(\"\\nO melhor valor é 1 e o pior valor é -1. Valores próximos de 0 indicam clusters sobrepostos.\")"
   ]
  },
  {
   "cell_type": "markdown",
   "id": "83a0b053",
   "metadata": {
    "hidden": true
   },
   "source": [
    "### Visualização dos Resultados"
   ]
  },
  {
   "cell_type": "markdown",
   "id": "db88b41b",
   "metadata": {
    "ExecuteTime": {
     "end_time": "2022-02-10T20:30:27.259667Z",
     "start_time": "2022-02-10T20:30:27.237250Z"
    },
    "hidden": true
   },
   "source": [
    "Dataset usado para treinar o modelo rotulado com os Clusters"
   ]
  },
  {
   "cell_type": "code",
   "execution_count": null,
   "id": "36c47615",
   "metadata": {
    "ExecuteTime": {
     "start_time": "2022-02-17T18:26:02.684Z"
    },
    "hidden": true
   },
   "outputs": [],
   "source": [
    "df_treinado_pcaT = df_pca.T.copy()\n",
    "df_treinado_pcaT[\"K-Cluster\"]= labels_pcaT\n",
    "df_treinado_pcaT.head()"
   ]
  },
  {
   "cell_type": "markdown",
   "id": "4cb771d7",
   "metadata": {
    "hidden": true
   },
   "source": [
    "Usando a técnica de Redução de Dimensionalidade TSNE para visualização do Dataset após a aplicação do modelo"
   ]
  },
  {
   "cell_type": "code",
   "execution_count": null,
   "id": "3cad8d89",
   "metadata": {
    "ExecuteTime": {
     "start_time": "2022-02-17T18:26:02.698Z"
    },
    "hidden": true
   },
   "outputs": [],
   "source": [
    "tsne_pcaT = TSNE( n_components = 2, random_state = 2 ).fit_transform(df_treinado_pcaT)\n",
    "df_tsne_pcaT = pd.DataFrame(data={\"1d\":list(tsne_pcaT[:,0]), \"2d\": list(tsne_pcaT[:, 1])})                                                                 "
   ]
  },
  {
   "cell_type": "code",
   "execution_count": null,
   "id": "576877a3",
   "metadata": {
    "ExecuteTime": {
     "start_time": "2022-02-17T18:26:02.712Z"
    },
    "hidden": true
   },
   "outputs": [],
   "source": [
    "fig = plt.figure(figsize=(18,10))\n",
    "#sb.set_palette(sb.color_palette(\"crest\", as_cmap=True)) \n",
    "sb.relplot(x=\"1d\" , y='2d', data=df_tsne_pcaT, legend=False, hue=\"1d\", size=\"1d\", palette=sb.color_palette(\"rocket\", as_cmap=True)) \n",
    "plt.title(\"\\nProjeção das Variáveis Clusterizadas em 2 Dimensões\\n\")           \n",
    "plt.show()"
   ]
  },
  {
   "cell_type": "markdown",
   "id": "19306a97",
   "metadata": {
    "hidden": true
   },
   "source": [
    "Comparação Base Original vs. Base Transposta"
   ]
  },
  {
   "cell_type": "code",
   "execution_count": null,
   "id": "ed8ba1ee",
   "metadata": {
    "ExecuteTime": {
     "start_time": "2022-02-17T18:26:02.725Z"
    },
    "hidden": true
   },
   "outputs": [],
   "source": [
    "k = 21\n",
    "\n",
    "    #Model definition (definindo a instância da classe KMeans e atribuindo ao objeto modelC_transform1)\n",
    "model_pca= KMeans(n_clusters=k, algorithm='auto', init='k-means++', random_state=2)\n",
    "\n",
    "    #Model traning\n",
    "model_pca.fit(df_pca)\n",
    "\n",
    "df_treinado_pca = df_pca.copy()\n",
    "df_treinado_pca[\"K-Cluster\"]= model_pca.labels_\n",
    "\n",
    "\n",
    "tsne_pca = TSNE( n_components = 2, random_state = 2 ).fit_transform(df_treinado_pca)\n",
    "df_tsne_pca = pd.DataFrame(data={\"1d\":list(tsne_pca[:,0]), \"2d\": list(tsne_pca[:, 1])})                                                                 \n",
    "\n",
    "fig = plt.figure(figsize=(18,10))\n",
    "#sb.set_palette(sb.color_palette(\"crest\", as_cmap=True)) \n",
    "sb.relplot(x=\"1d\" , y='2d', data=df_tsne_pca, legend=False, hue=\"1d\", size=\"1d\", palette=sb.color_palette(\"rocket\", as_cmap=True)) \n",
    "plt.title(\"\\nProjeção das Variáveis Clusterizadas em 2 Dimensões\\n\")           \n",
    "plt.show()"
   ]
  },
  {
   "cell_type": "markdown",
   "id": "f2bb03a0",
   "metadata": {
    "hidden": true
   },
   "source": [
    "Cálculo do Coeficiente de Silhueta geral"
   ]
  },
  {
   "cell_type": "code",
   "execution_count": null,
   "id": "66813823",
   "metadata": {
    "ExecuteTime": {
     "start_time": "2022-02-17T18:26:02.740Z"
    },
    "hidden": true
   },
   "outputs": [],
   "source": [
    "me.silhouette_score(df_pca, model_pca.labels_)"
   ]
  },
  {
   "cell_type": "markdown",
   "id": "808ce40d",
   "metadata": {
    "hidden": true
   },
   "source": [
    "### Conclusão: Comparação Base Original vs. Base Transposta"
   ]
  },
  {
   "cell_type": "markdown",
   "id": "e8d75f69",
   "metadata": {
    "hidden": true
   },
   "source": [
    "A comparação da visualização dos cluster para a base original, parece ter resultado em pontos que estão próximos do centro dos clusters da modelagem da base transposta.\n",
    "\n",
    "Por mais que o Coeficiente de Silhueta geral para a **base transposta** tenha sido um valor considerado bom (**0.97**), ao abrir esta métrica para cada cluster isoladamente é possível perceber que dos **22 agrupamentos**, apenas um possui um coeficiente alto (Rotulado pela **label '0', Silhueta= 1**), que possui **851 eventos atribuídos**, o que demonstra baixo ajuste (**Underfitting**) do modelo ao dataset.\n",
    "A aplicação do modelo na **base original** do PCA também não resulta num valor satisfatório para o Coeficiente de Silhueta geral (**7.14e-18**), que não delimitou nenhum dos **21 clusters** devidamente. "
   ]
  },
  {
   "cell_type": "markdown",
   "id": "74219f73",
   "metadata": {
    "hidden": true
   },
   "source": [
    "    "
   ]
  },
  {
   "cell_type": "markdown",
   "id": "69aefd9c",
   "metadata": {
    "ExecuteTime": {
     "end_time": "2022-02-16T11:59:05.368322Z",
     "start_time": "2022-02-16T11:59:05.355292Z"
    },
    "heading_collapsed": true
   },
   "source": [
    "## Modelagem Transformação de Escala + PCA"
   ]
  },
  {
   "cell_type": "markdown",
   "id": "730528f9",
   "metadata": {
    "hidden": true
   },
   "source": [
    "Aplicação do modelo com dados pós processados + Transformação de Escala + Atribuição de **4 componentes** principais pela Transformação de Dados via PCA\n",
    "\n",
    "* `df_pca_rob`\n",
    "* `df_pca_robT`"
   ]
  },
  {
   "cell_type": "markdown",
   "id": "2636c302",
   "metadata": {
    "heading_collapsed": true,
    "hidden": true
   },
   "source": [
    "### Definição do K: Base Original"
   ]
  },
  {
   "cell_type": "markdown",
   "id": "305160ca",
   "metadata": {
    "hidden": true
   },
   "source": [
    "Método de Elbow para definição de k\n",
    "* `df_pca_rob`"
   ]
  },
  {
   "cell_type": "code",
   "execution_count": null,
   "id": "e303f39c",
   "metadata": {
    "ExecuteTime": {
     "start_time": "2022-02-17T18:26:02.779Z"
    },
    "hidden": true
   },
   "outputs": [],
   "source": [
    "wcss_pca_rob = []\n",
    "for i in tqdm(range(1, 4)):\n",
    "    tmodel = KMeans(n_clusters=i+1, algorithm='auto', init='k-means++', max_iter=600 , random_state=2)\n",
    "    tmodel.fit(df_pca_rob) \n",
    "    wcss_pca_rob .append(tmodel.inertia_)"
   ]
  },
  {
   "cell_type": "code",
   "execution_count": null,
   "id": "b1608890",
   "metadata": {
    "ExecuteTime": {
     "start_time": "2022-02-17T18:26:02.794Z"
    },
    "hidden": true
   },
   "outputs": [],
   "source": [
    "len(wcss_pca_rob)"
   ]
  },
  {
   "cell_type": "code",
   "execution_count": null,
   "id": "7a07022b",
   "metadata": {
    "ExecuteTime": {
     "start_time": "2022-02-17T18:26:02.803Z"
    },
    "hidden": true,
    "scrolled": true
   },
   "outputs": [],
   "source": [
    "plt.plot(range(1, 3+1), wcss_pca_rob)\n",
    "plt.title(\"Método de Elbow até k=3 (Máximo)\")\n",
    "plt.xlabel(\"\\nk Cluters\")\n",
    "plt.ylabel(\"WCSS\\n\")\n",
    "plt.show()"
   ]
  },
  {
   "cell_type": "markdown",
   "id": "e848e070",
   "metadata": {
    "ExecuteTime": {
     "end_time": "2022-02-16T21:30:13.453755Z",
     "start_time": "2022-02-16T21:30:13.430054Z"
    },
    "hidden": true
   },
   "source": [
    "Devido a baixa quantidade de eventos resultante da definição das componentes principais, o número de clusters da base original pode ser considerado **k = 3**."
   ]
  },
  {
   "cell_type": "markdown",
   "id": "f2e5ecd7",
   "metadata": {
    "heading_collapsed": true,
    "hidden": true
   },
   "source": [
    "### Definição do K: Base Transposta"
   ]
  },
  {
   "cell_type": "markdown",
   "id": "1e8f8946",
   "metadata": {
    "hidden": true
   },
   "source": [
    "Método de Elbow para definição de k na base transposta resultante do PCA.\n",
    "* `df_pca_rob.T`"
   ]
  },
  {
   "cell_type": "code",
   "execution_count": null,
   "id": "27625566",
   "metadata": {
    "ExecuteTime": {
     "start_time": "2022-02-17T18:26:02.830Z"
    },
    "hidden": true
   },
   "outputs": [],
   "source": [
    "wcss_pca_robT = []\n",
    "for i in tqdm(range(1, 190)):\n",
    "    tmodel = KMeans(n_clusters=i+1, algorithm='auto', init='k-means++', max_iter=600 , random_state=2)\n",
    "    tmodel.fit(df_pca_rob.T) \n",
    "    wcss_pca_robT.append(tmodel.inertia_)"
   ]
  },
  {
   "cell_type": "code",
   "execution_count": null,
   "id": "dfccb932",
   "metadata": {
    "ExecuteTime": {
     "start_time": "2022-02-17T18:26:02.840Z"
    },
    "hidden": true
   },
   "outputs": [],
   "source": [
    "plt.plot(range(1, 189+1), wcss_pca_robT)\n",
    "plt.title(\"Método de Elbow\")\n",
    "plt.xlabel(\"\\nk Cluters\")\n",
    "plt.ylabel(\"WCSS\\n\")\n",
    "\n",
    "plt.show()"
   ]
  },
  {
   "cell_type": "code",
   "execution_count": null,
   "id": "e6567b79",
   "metadata": {
    "ExecuteTime": {
     "start_time": "2022-02-17T18:26:02.850Z"
    },
    "hidden": true
   },
   "outputs": [],
   "source": [
    "plt.plot(range(1, 16), wcss_pca_robT[:15])\n",
    "plt.title(\"Recorte do Método de Elbow até k=15\")\n",
    "plt.xlabel(\"\\nk Cluters\")\n",
    "plt.ylabel(\"WCSS\\n\")\n",
    "plt.xticks(list(range(1, 16)))\n",
    "plt.show()"
   ]
  },
  {
   "cell_type": "markdown",
   "id": "0bdb2b4c",
   "metadata": {
    "hidden": true
   },
   "source": [
    "Na comparação anteriormente feita (entre base original e transposta) o teste realizado não demonstrou mudança no comportamento gráfico da curva (tópico **1.11.6  Conclusão: Comparação Base Original vs. Base Transposta**), que para ambas as aplicações a função assumiu um formato mais linear do que curvelíneo. \n",
    "\n",
    "Nesta aplicação podemos ver um comportamento mais próximo do que é esperado pra chamada **Curva do Cotovelo de Elbow**, mas ainda não podemos assumir que esta mudança foi devido ao uso da base transposta, uma vez que há uma variável a mais que não estava presente no teste anterior, que é o uso do **Hiperparâmetro whiten** que **não foi usado** no tratamento do **dataset** sem a Transformação de Escala `df_pca`, apenas no dataset que foram aplicadas as duas técnicas `df_pca_rob`, com o intuito de diminuir comparações excessivas e sair do objetivo inicial do estudo. \n",
    "\n",
    "Com isso, seguiremos pra **Avaliação do Modelo** aplicado sobre a **base transposta** da aplicação do PCA (com whiten = True), que verificou ter o valor de **k = 4** como sendo o número ótimo. "
   ]
  },
  {
   "cell_type": "markdown",
   "id": "1b4ec93b",
   "metadata": {
    "heading_collapsed": true,
    "hidden": true
   },
   "source": [
    "### Treinamento do Modelo"
   ]
  },
  {
   "cell_type": "code",
   "execution_count": null,
   "id": "4c5646f4",
   "metadata": {
    "ExecuteTime": {
     "start_time": "2022-02-17T18:26:02.872Z"
    },
    "hidden": true
   },
   "outputs": [],
   "source": [
    "k = 4\n",
    "\n",
    "    #Model definition (definindo a instância da classe KMeans e atribuindo ao objeto modelC_transform2)\n",
    "model_pca_robT = KMeans(n_clusters=k, algorithm='auto', init='k-means++', random_state=2)\n",
    "\n",
    "    #Model traning\n",
    "model_pca_robT.fit(df_pca_rob.T)\n"
   ]
  },
  {
   "cell_type": "markdown",
   "id": "f8fecc38",
   "metadata": {
    "hidden": true
   },
   "source": [
    "Centro dos Clusters"
   ]
  },
  {
   "cell_type": "code",
   "execution_count": null,
   "id": "2b6ee575",
   "metadata": {
    "ExecuteTime": {
     "start_time": "2022-02-17T18:26:02.887Z"
    },
    "hidden": true
   },
   "outputs": [],
   "source": [
    "centroids_pca_robT = model_pca_robT.cluster_centers_\n",
    "centroids_pca_robT"
   ]
  },
  {
   "cell_type": "markdown",
   "id": "5cdf9a85",
   "metadata": {
    "hidden": true
   },
   "source": [
    "Lista ordenada do rótulo do cluster atribuído, linha a linha, pelo modelo treinado"
   ]
  },
  {
   "cell_type": "code",
   "execution_count": null,
   "id": "07050efc",
   "metadata": {
    "ExecuteTime": {
     "start_time": "2022-02-17T18:26:02.901Z"
    },
    "hidden": true
   },
   "outputs": [],
   "source": [
    "labels_pca_robT = model_pca_robT.labels_\n",
    "labels_pca_robT"
   ]
  },
  {
   "cell_type": "markdown",
   "id": "b51e8699",
   "metadata": {
    "heading_collapsed": true,
    "hidden": true
   },
   "source": [
    "### Performance do Modelo"
   ]
  },
  {
   "cell_type": "markdown",
   "id": "153d8e28",
   "metadata": {
    "hidden": true
   },
   "source": [
    "#### Coeficiente de Silhueta"
   ]
  },
  {
   "cell_type": "markdown",
   "id": "b2cafb21",
   "metadata": {
    "hidden": true
   },
   "source": [
    "Cálculo do Coeficiente de Silhueta geral\n",
    "\n",
    "Resultado Silhueta geral = **0.97**"
   ]
  },
  {
   "cell_type": "code",
   "execution_count": null,
   "id": "d6ca31a8",
   "metadata": {
    "ExecuteTime": {
     "start_time": "2022-02-17T18:26:02.929Z"
    },
    "hidden": true
   },
   "outputs": [],
   "source": [
    "cof_silh_med_pca_robT = me.silhouette_score(df_pca_rob.T, labels_pca_robT)\n",
    "cof_silh_med_pca_robT"
   ]
  },
  {
   "cell_type": "markdown",
   "id": "57c2f93c",
   "metadata": {
    "hidden": true
   },
   "source": [
    "Cálculo do Coeficiente de Silhueta Média para cada cluster"
   ]
  },
  {
   "cell_type": "code",
   "execution_count": null,
   "id": "d673143a",
   "metadata": {
    "ExecuteTime": {
     "start_time": "2022-02-17T18:26:02.943Z"
    },
    "hidden": true
   },
   "outputs": [],
   "source": [
    "cof_silh = me.silhouette_samples(df_pca_rob.T, labels_pca_robT)\n",
    "#k=4\n",
    "\n",
    "for ki in range(0, k):\n",
    "    print(\"Silhueta Média para Cluster {:}: {:.2f} +- {:.4f}\".format(ki, \n",
    "                                                                   np.mean(cof_silh[labels_pca_robT==ki]),\n",
    "                                                                   np.std(cof_silh[labels_pca_robT==ki]/np.sum(labels_pca_robT==ki)**.5)))  \n",
    "\n",
    "print(\"\\nO melhor valor é 1 e o pior valor é -1. Valores próximos de 0 indicam clusters sobrepostos.\")"
   ]
  },
  {
   "cell_type": "markdown",
   "id": "f65e15eb",
   "metadata": {
    "hidden": true
   },
   "source": [
    "  "
   ]
  },
  {
   "cell_type": "markdown",
   "id": "57d1f1f2",
   "metadata": {
    "heading_collapsed": true,
    "hidden": true
   },
   "source": [
    "### Visualização dos Resultados"
   ]
  },
  {
   "cell_type": "markdown",
   "id": "a160dbbe",
   "metadata": {
    "hidden": true
   },
   "source": [
    "Dataset usado para treinar o modelo rotulado com os Clusters"
   ]
  },
  {
   "cell_type": "code",
   "execution_count": null,
   "id": "cadc40f1",
   "metadata": {
    "ExecuteTime": {
     "start_time": "2022-02-17T18:26:02.969Z"
    },
    "hidden": true
   },
   "outputs": [],
   "source": [
    "df_treinado_pca_robT = df_pca_rob.T.copy()\n",
    "df_treinado_pca_robT[\"K-Cluster\"]= labels_pca_robT\n",
    "df_treinado_pca_robT.head()"
   ]
  },
  {
   "cell_type": "code",
   "execution_count": null,
   "id": "7e20591b",
   "metadata": {
    "ExecuteTime": {
     "start_time": "2022-02-17T18:26:02.980Z"
    },
    "hidden": true
   },
   "outputs": [],
   "source": [
    "#teste\n",
    "np.reshape(df_treinado_pca_robTiloc[0, :].values, (1,866))\n"
   ]
  },
  {
   "cell_type": "code",
   "execution_count": null,
   "id": "0b821e76",
   "metadata": {
    "ExecuteTime": {
     "start_time": "2022-02-17T18:26:02.993Z"
    },
    "hidden": true
   },
   "outputs": [],
   "source": [
    "len(df_treinado2_2.iloc[1, :].values)"
   ]
  },
  {
   "cell_type": "code",
   "execution_count": null,
   "id": "5ba28d2b",
   "metadata": {
    "ExecuteTime": {
     "start_time": "2022-02-17T18:26:03.004Z"
    },
    "hidden": true
   },
   "outputs": [],
   "source": [
    "#CONTINUAR, ver como irei visualizar o gráfico dessa forma, plotando cada linha como um único eixo usando a série de cada um, tentar transpor. Depois \n",
    "\n",
    "sb.scatterplot(x=np.reshape(df_treinado2_2.iloc[0, :].values, (1, 866)), y=np.reshape(df_treinado2_2.iloc[1, :].values, (1,866)), hue=labels2_2)\n",
    "plt.show()"
   ]
  },
  {
   "cell_type": "code",
   "execution_count": null,
   "id": "32f58071",
   "metadata": {
    "ExecuteTime": {
     "start_time": "2022-02-17T18:26:03.014Z"
    },
    "hidden": true
   },
   "outputs": [],
   "source": [
    "tsne_pca_robT= TSNE( n_components = 2, random_state = 2 ).fit_transform(df_treinado_pca_robT)\n",
    "df_tsne_pca_robT = pd.DataFrame(data={\"1d\":list(tsne_pca_robT[:,0]), \"2d\": list(tsne_pca_robT[:, 1])})                                                                 "
   ]
  },
  {
   "cell_type": "code",
   "execution_count": null,
   "id": "77f5bebf",
   "metadata": {
    "ExecuteTime": {
     "start_time": "2022-02-17T18:26:03.024Z"
    },
    "hidden": true
   },
   "outputs": [],
   "source": [
    "fig = plt.figure(figsize=(18,10))\n",
    "#sb.set_palette(sb.color_palette(\"crest\", as_cmap=True)) \n",
    "sb.relplot(x=\"1d\" , y='2d', data=df_tsne_pca_robT, legend=False, hue=\"1d\", size=\"1d\", palette=sb.color_palette(\"rocket\", as_cmap=True))  #, style=\"1d\", )\n",
    "plt.title(\"\\nProjeção das Variáveis Clusterizadas em 2 Dimensões\\n\")           \n",
    "plt.show()"
   ]
  },
  {
   "cell_type": "markdown",
   "id": "6bcbaa38",
   "metadata": {
    "hidden": true
   },
   "source": [
    "Comparação Base Original vs. Base Transposta"
   ]
  },
  {
   "cell_type": "code",
   "execution_count": null,
   "id": "e56000a2",
   "metadata": {
    "ExecuteTime": {
     "start_time": "2022-02-17T18:26:03.042Z"
    },
    "hidden": true
   },
   "outputs": [],
   "source": [
    "k = 3\n",
    "\n",
    "    #Model definition (definindo a instância da classe KMeans e atribuindo ao objeto modelC_transform1)\n",
    "model_pca_rob= KMeans(n_clusters=k, algorithm='auto', init='k-means++', random_state=2)\n",
    "\n",
    "    #Model traning\n",
    "model_pca_rob.fit(df_pca_rob)\n",
    "\n",
    "df_treinado_pca_rob = df_pca_rob.copy()\n",
    "df_treinado_pca_rob[\"K-Cluster\"]= model_pca_rob.labels_\n",
    "\n",
    "\n",
    "tsne_pca_rob = TSNE( n_components = 2, random_state = 2 ).fit_transform(df_treinado_pca_rob)\n",
    "df_tsne_pca_rob = pd.DataFrame(data={\"1d\":list(tsne_pca_rob[:,0]), \"2d\": list(tsne_pca_rob[:, 1])})                                                                 \n",
    "\n",
    "fig = plt.figure(figsize=(18,10))\n",
    "#sb.set_palette(sb.color_palette(\"crest\", as_cmap=True)) \n",
    "sb.relplot(x=\"1d\" , y='2d', data=df_tsne_pca_rob, legend=False, hue=\"1d\", size=\"1d\", palette=sb.color_palette(\"rocket\", as_cmap=True)) \n",
    "plt.title(\"\\nProjeção das Variáveis Clusterizadas em 2 Dimensões\\n\")           \n",
    "plt.show()"
   ]
  },
  {
   "cell_type": "markdown",
   "id": "45428cc9",
   "metadata": {
    "heading_collapsed": true,
    "hidden": true
   },
   "source": [
    "### Conclusão"
   ]
  },
  {
   "cell_type": "code",
   "execution_count": null,
   "id": "7a1101c4",
   "metadata": {
    "hidden": true
   },
   "outputs": [],
   "source": []
  },
  {
   "cell_type": "markdown",
   "id": "0ce82d27",
   "metadata": {
    "heading_collapsed": true
   },
   "source": [
    "## Entropia"
   ]
  },
  {
   "cell_type": "markdown",
   "id": "8c4f9afd",
   "metadata": {
    "hidden": true
   },
   "source": [
    "Entropia é um conceito originado da **Física** e está associado à **Segunda Lei da Termodinâmica**. De forma simplificada, a entropia mensura o **grau de desordem** de um sistema, o nível de **irreversibilidade**. \n",
    "Como este conceito também depende da definição rigorosa de outros conceitos, como **sistema**, **fechado** e **aberto**,  **ordem**, **desordem** e **caos**, **aleatoriedade**, outras linhas de estudo científico o interceptam, como por exemplo o estudo de **Sistemas Complexos**, **Estatística e Probabilidade**, **Teoria do Caos** e **Geometria Fractal**.\n",
    "\n",
    "Uma de suas aplicações surgiu através do engenheiro eletrônico e criptógrafo **Claude Shannon**, conhecido como o pai da **Teoria da informação**, que consistiu no uso da **Entropia** como uma **medida de incerteza** em uma mensagem. \n",
    "Shannon conseguiu explicar, de maneira efetiva, como **medir \"significado\"** contido **em um sinal**, criando assim a **menor unidade de informação** chamado **bit**, sendo representado pelos famosos zeros e uns. A partir daí a informação passou a ser quantificável, exata e precisa, e esta ideia passou a transformar fundamentalmente muitos aspectos da sociedade humana. \n",
    "\n",
    "Com essa descoberta, a área das telecomunicações ganhou um novo horizonte para poder agir. Naquela época, a codificação de pulsos já estava em uso, porém com o sistema numérico binário, foi possível o aumento exponencial do envio de informação, pois foi com este sistema que pudemos **digitalizar** basicamente **qualquer informação**, o que propiciou a maior parte de toda a revolução tecnológica subsequente.\n",
    "\n",
    "Da visão mais técnica, a **informação** é o que diz respeito às **características de aleatoriedade** e de diversidade dos símbolos que a mesma contém. É pertinente então avaliar **quantos símbolos distintos** há para serem reconhecidos e **qual a probabilidade de ocorrência** de um deles. Pode-se dizer que toda fonte de informação dispõe de um **conjunto de símbolos**, (estes que podem ser dados por caracteres, como o alfabeto), e é o conjunto destes, de forma sucessiva, que compõe uma mensagem. Ou seja, a Informação é o resultado do processo da “organização” dos símbolos. \n"
   ]
  },
  {
   "cell_type": "markdown",
   "id": "a5b02399",
   "metadata": {
    "hidden": true
   },
   "source": [
    "\n",
    "\n",
    "  \n",
    "\n",
    " "
   ]
  },
  {
   "cell_type": "code",
   "execution_count": null,
   "id": "63ac3a3a",
   "metadata": {
    "hidden": true
   },
   "outputs": [],
   "source": []
  }
 ],
 "metadata": {
  "kernelspec": {
   "display_name": "Python 3 (ipykernel)",
   "language": "python",
   "name": "python3"
  },
  "language_info": {
   "codemirror_mode": {
    "name": "ipython",
    "version": 3
   },
   "file_extension": ".py",
   "mimetype": "text/x-python",
   "name": "python",
   "nbconvert_exporter": "python",
   "pygments_lexer": "ipython3",
   "version": "3.9.7"
  },
  "toc": {
   "base_numbering": 1,
   "nav_menu": {},
   "number_sections": true,
   "sideBar": true,
   "skip_h1_title": false,
   "title_cell": "Table of Contents",
   "title_sidebar": "Contents",
   "toc_cell": false,
   "toc_position": {
    "height": "calc(100% - 180px)",
    "left": "10px",
    "top": "150px",
    "width": "343px"
   },
   "toc_section_display": true,
   "toc_window_display": false
  }
 },
 "nbformat": 4,
 "nbformat_minor": 5
}
